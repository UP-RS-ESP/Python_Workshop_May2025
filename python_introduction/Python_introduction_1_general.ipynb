{
 "cells": [
  {
   "cell_type": "markdown",
   "metadata": {},
   "source": [
    "# Introduction to Python Geo-data processing - 1 \n",
    "\n",
    "## Outline\n",
    "* Package managers\n",
    "  * conda ([Anaconda](https://anaconda.org/) [miniconda](https://www.anaconda.com/docs/getting-started/miniconda/main))\n",
    "  * [pip](https://packaging.python.org/en/latest/guides/installing-using-pip-and-virtual-environments/) environments\n",
    "* Explore the anatomy of an `.ipynb`\n",
    "  * Running Jupyter Lab remotely (`jupyter lab --no-browser --port=8888` on server and `ssh -Y -N -L localhost:8889:localhost:8888 username@hostname` on local client)\n",
    "* Code and data sharing via github ([https://github.com/UP-RS-ESP](https://github.com/UP-RS-ESP))\n",
    "* Coding in python\n",
    "  * General Introduction                          (*Python_introduction_1_general*)\n",
    "  * numpy and arrays                              (*Python_introduction_2_numpy*)\n",
    "  * pandas                                        (*Python_introduction_pandas_EQ_data*)\n",
    "    * data input/output\n",
    "    * some simple analysis steps\n",
    "    * displaying geographic data\n",
    "  * Example of 2D time series and a Gaussian Hill (*Python_introduction_GaussianHill_gradient*)\n",
    "  * Linear Regression walk through                (*Python_introduction_5_linear_regression*)\n",
    "    \n",
    "\n",
    "## Online resources\n",
    "* https://docs.python.org/3/tutorial/index.html\n",
    "* [Python Tutorial for Beginners on YouTube](https://www.youtube.com/watch?v=cBQ4c1IQJSE)\n",
    "* [Python for Data Analysis](https://wesmckinney.com/book/) and [Jupyter Labs](https://github.com/wesm/pydata-book)\n",
    "\n",
    " \n",
    "\n",
    "\n",
    "## Table of Contents\n",
    "* [Jupyter Anatomy](#Jupyter-Anatomy)\n",
    "* [Python Code Structure](#Python-Code-Structure)\n",
    "* [Data Types and Manipulation](#Data-Types-and-Manipulation)\n",
    "  * [Data Structures](#Data-Structures)\n",
    "* [for Loops](#For-Loops)\n",
    "* [The `range` Function](#The-range-Function)\n",
    "* [Conditional Statements](#Conditional-Statements)\n",
    "* [List Comprehension](#List-Comprehension)\n",
    "* [Packages and Functions](#Packages-and-Functions)\n",
    "  * [Lambda Functions](#Lambda-Functions)\n",
    "\n",
    "___"
   ]
  },
  {
   "cell_type": "markdown",
   "metadata": {},
   "source": [
    "> **Note:** The best way to learn python is **hands on**: You have a data analysis task and python is the tool.\n",
    "The first few notebooks are mostly about code structure, elements, and syntax. We'll use some synthetic (fake) data. Further notebooks will be more of a \"learn by doing\" approach using real environmental datasets."
   ]
  },
  {
   "cell_type": "markdown",
   "metadata": {},
   "source": [
    "___\n",
    "# Jupyter Anatomy\n",
    "\n",
    "Jupyter notebooks are made up of **cells** that can either contain **markdown** text like this one or `code` like the next cell. Markdown is easy to write in, and you can find lots of cheat sheets with a simple [Google Search ;)](https://www.google.com/search?q=markdown+cheat+sheet&rlz=1C1CHBF_enDE766DE766&oq=markdown&aqs=chrome.0.69i59j69i57j69i59l2j0j69i60l3.2005j0j7&sourceid=chrome&ie=UTF-8). You can also use the cells here for reference on how to _make_ **accents**, headings like the ones above (use `#`, `##`, `###`, etc.), \n",
    "1. lists\n",
    "2. of \n",
    "3. things,\n",
    "\n",
    "and\n",
    "\n",
    "* bulleted,\n",
    "* or even\n",
    "  * nested lists\n",
    "  * of things. Neat!\n",
    "  \n",
    "You can also put some `code in line` or:\n",
    "\n",
    "```\n",
    "write a block of\n",
    "indented code\n",
    "```"
   ]
  },
  {
   "cell_type": "code",
   "execution_count": 1,
   "metadata": {},
   "outputs": [
    {
     "data": {
      "text/plain": [
       "25"
      ]
     },
     "execution_count": 1,
     "metadata": {},
     "output_type": "execute_result"
    }
   ],
   "source": [
    "# here is a code cell, it's just like an open ipython line\n",
    "5 ** 2"
   ]
  },
  {
   "cell_type": "markdown",
   "metadata": {},
   "source": [
    "![](img/jupyter-top-menu.png)\n",
    "\n",
    "In the top menu you can manually do things like insert new cells, change the format of a cell to code or markdown, and **run** cells. If you get tired of clicking the toolbar to do these and other repetitive tasks you can also learn some keyboard shortcuts. \n",
    "\n",
    "Press `Esc` if you are currently in an active cell (green bar on the left side), and then press `h` to bring up a help menu (`h` again to close it). The most important key strokes that you may want to memorize are:\n",
    "\n",
    "* **`Shift + Enter`** to run the current cell and move to the next below\n",
    "* **`Ctrl / Cmd + Enter`** does the same but without moving to the next cell\n",
    "* **`Enter`** to re-enter editing mode on a cell (the left side will turn green)\n",
    "* **`Esc`** to end editing (the left side will turn blue)\n",
    "* **`Up/Down Arrow`** to move between cells\n",
    "* **`m`** to change a cell to markdown format while out of editing mode (**`y`** changes it back to code format)\n",
    "* **`b`** to insert a new cell under the current (it will default to code format)\n",
    "\n",
    "If you are in a markdown cell when you **run** it (using e.g., `Shift + Enter`) then it will be typeset, whereas a code cell will send the lines of python code to the underlying IPython interpreter. Every open notebook has its own associated IPython kernel running in the background (check the \"Running\" tab on the landing page), so you can think of Jupyter Notebooks as just a fancy wrapper for an interactive IPython!\n",
    "\n",
    "> **AND REMEMBER**: When you get frustrated the [internet](https://www.google.com/search?q=jupyter+how+to+run+a+cell&rlz=1C1CHBF_enDE766DE766&oq=jupyter+how+to+run+a+cell&aqs=chrome..69i57j0l5.4658j0j7&sourceid=chrome&ie=UTF-8) is [your](https://www.google.com/search?q=how+to+open+a+jupyter+notebook&rlz=1C1CHBF_enDE766DE766&oq=how+to+open+a+jupyt&aqs=chrome.1.69i57j0l7.4560j0j9&sourceid=chrome&ie=UTF-8) best [resource](https://www.google.com/search?rlz=1C1CHBF_enDE766DE766&sxsrf=ALeKk02B0Pj48PwBvuoOhmYiklyrsW2ZAQ%3A1599591459899&ei=I9RXX_6kNsrgkgWYuZII&q=how+to+change+the+format+of+a+cell+in+jupyter+notebook&oq=how+to+change+the+format+of+a+cell+in+jupyter&gs_lcp=CgZwc3ktYWIQAxgAMggIIRAWEB0QHjoECAAQRzoECCMQJzoFCAAQkQI6AggAOgIILjoHCAAQFBCHAjoFCAAQywE6BggAEBYQHjoECCEQClCQNljIYWCcZmgBcAF4AIABmAKIAeInkgEGOS4yMy42mAEAoAEBqgEHZ3dzLXdpesABAQ&sclient=psy-ab) :)\n"
   ]
  },
  {
   "cell_type": "markdown",
   "metadata": {},
   "source": [
    "<div class=\"alert alert-block alert-warning\">\n",
    "<b>Task 1.2</b>\n",
    "\n",
    "Create a markdown cell below this box. In it, summarize a few facts about python from the first paragraph of the Wikipedia page here: https://en.wikipedia.org/wiki/Python_(programming_language). The summary can be in bullet points. Include the Wiki link in a text hyperlink (so only text shows and not the full https link. Look to the above cells for help!\n",
    "    \n",
    "Below this new markdown cell, put a `code` cell that prints the `Hello, world!` statement.\n",
    "</div>"
   ]
  },
  {
   "cell_type": "markdown",
   "metadata": {},
   "source": [
    "___\n",
    "# Python Code Structure"
   ]
  },
  {
   "cell_type": "code",
   "execution_count": 63,
   "metadata": {},
   "outputs": [],
   "source": [
    "# as we already saw, you can put comments, which python will ignore,\n",
    "# using the hashtag symbol. it's best to keep them short and use\n",
    "# new lines frequently when they get longggg like this one\n",
    "\n",
    "# python codes begin with imports of any packages that you plan to use\n",
    "import os\n",
    "import numpy as np\n",
    "import matplotlib.pyplot as plt\n",
    "\n",
    "# and in jupyter we include the below \"magic\" command (indicated by the %)\n",
    "# this tells matplotlib to put any new figures inside the document and not in a pop up\n",
    "%matplotlib inline"
   ]
  },
  {
   "cell_type": "markdown",
   "metadata": {},
   "source": [
    "When we ran the above cell nothing was output (but you should now see a line number next to `In` as you would in an IPython console) \n",
    "\n",
    "We just imported a couple of packages that we'll use today: the built in `os`, or operating system, package that comes standard with your python install; the `conda`-installed `numpy`, or numerical python, package that we can use for math, manipulating arrays, and more; and the `conda`-installed `matplotlib` package that we use for plotting data.\n",
    "\n",
    "We included the standard **aliasing** of the last two modules (using the python keyword `as`). The short names `np` and `plt` keep the code succinct and readable.\n",
    "\n",
    "A **module** is a `.py` file with function definitions and other statements. Python **packages** are a way of organizing modules into larger entities (e.g., `matplotlib` is a package and `.pyplot` is one it's modules). More generally in programming, these called **libraries**. For all intents and purposes, all three terms are interchangeable! \n",
    "\n",
    "This brings up an import point in python about **namespaces**. Any time we import a package or create a variable or function, we have to pick a name that doesn't already exist in the current python namespace. Some names are always taken like `print`, `int`, `for`, etc. (see [here](https://docs.python.org/3/library/functions.html#built-in-funcs) and [here](https://docs.python.org/3.8/reference/lexical_analysis.html#keywords)). If a word is highlighted in green in Jupyter, then you know it's a built in python object that you can't overwrite. Any new names that we introduce (like `version` below) only exist in the current kernel and will disappear when we shutdown the notebook!"
   ]
  },
  {
   "cell_type": "code",
   "execution_count": 3,
   "metadata": {},
   "outputs": [
    {
     "name": "stdout",
     "output_type": "stream",
     "text": [
      "2.2.5\n"
     ]
    },
    {
     "data": {
      "text/plain": [
       "str"
      ]
     },
     "execution_count": 3,
     "metadata": {},
     "output_type": "execute_result"
    }
   ],
   "source": [
    "# we can use the print() function that we already saw to get some package info\n",
    "version = np.__version__\n",
    "print(version)\n",
    "\n",
    "# and we can see the type of the new 'version' variable using another built in\n",
    "type(version)"
   ]
  },
  {
   "cell_type": "code",
   "execution_count": 4,
   "metadata": {},
   "outputs": [
    {
     "ename": "SyntaxError",
     "evalue": "invalid syntax (4193456261.py, line 2)",
     "output_type": "error",
     "traceback": [
      "  \u001b[36mCell\u001b[39m\u001b[36m \u001b[39m\u001b[32mIn[4]\u001b[39m\u001b[32m, line 2\u001b[39m\n\u001b[31m    \u001b[39m\u001b[31moutside of a comment\u001b[39m\n            ^\n\u001b[31mSyntaxError\u001b[39m\u001b[31m:\u001b[39m invalid syntax\n"
     ]
    }
   ],
   "source": [
    "# if I try and write something\n",
    "outside of a comment"
   ]
  },
  {
   "cell_type": "markdown",
   "metadata": {},
   "source": [
    "Then we see our first **error message**. These are very important in python and quickly allow us to find **bugs** in the code. We see it threw a `SyntaxError` and it also shows which line caused the problem (`line 2`). This is an easy example, but error messages are important to read carefully as your code gets longer and more complex."
   ]
  },
  {
   "cell_type": "code",
   "execution_count": 5,
   "metadata": {},
   "outputs": [
    {
     "ename": "AttributeError",
     "evalue": "module 'numpy' has no attribute '__versin__'",
     "output_type": "error",
     "traceback": [
      "\u001b[31m---------------------------------------------------------------------------\u001b[39m",
      "\u001b[31mAttributeError\u001b[39m                            Traceback (most recent call last)",
      "\u001b[36mCell\u001b[39m\u001b[36m \u001b[39m\u001b[32mIn[5]\u001b[39m\u001b[32m, line 2\u001b[39m\n\u001b[32m      1\u001b[39m \u001b[38;5;66;03m# let's see another type of error: `AttributeError`\u001b[39;00m\n\u001b[32m----> \u001b[39m\u001b[32m2\u001b[39m \u001b[38;5;28mprint\u001b[39m(\u001b[43mnp\u001b[49m\u001b[43m.\u001b[49m\u001b[43m__versin__\u001b[49m)\n",
      "\u001b[36mFile \u001b[39m\u001b[32m~/miniconda3/envs/Py3_geodata/lib/python3.12/site-packages/numpy/__init__.py:414\u001b[39m, in \u001b[36m__getattr__\u001b[39m\u001b[34m(attr)\u001b[39m\n\u001b[32m    411\u001b[39m     \u001b[38;5;28;01mimport\u001b[39;00m\u001b[38;5;250m \u001b[39m\u001b[34;01mnumpy\u001b[39;00m\u001b[34;01m.\u001b[39;00m\u001b[34;01mchar\u001b[39;00m\u001b[38;5;250m \u001b[39m\u001b[38;5;28;01mas\u001b[39;00m\u001b[38;5;250m \u001b[39m\u001b[34;01mchar\u001b[39;00m\n\u001b[32m    412\u001b[39m     \u001b[38;5;28;01mreturn\u001b[39;00m char.chararray\n\u001b[32m--> \u001b[39m\u001b[32m414\u001b[39m \u001b[38;5;28;01mraise\u001b[39;00m \u001b[38;5;167;01mAttributeError\u001b[39;00m(\u001b[33m\"\u001b[39m\u001b[33mmodule \u001b[39m\u001b[38;5;132;01m{!r}\u001b[39;00m\u001b[33m has no attribute \u001b[39m\u001b[33m\"\u001b[39m\n\u001b[32m    415\u001b[39m                      \u001b[33m\"\u001b[39m\u001b[38;5;132;01m{!r}\u001b[39;00m\u001b[33m\"\u001b[39m.format(\u001b[34m__name__\u001b[39m, attr))\n",
      "\u001b[31mAttributeError\u001b[39m: module 'numpy' has no attribute '__versin__'"
     ]
    }
   ],
   "source": [
    "# let's see another type of error: `AttributeError`\n",
    "print(np.__versin__)"
   ]
  },
  {
   "cell_type": "markdown",
   "metadata": {},
   "source": [
    "We'll talk more about code structure and learn a lot by hands on experience as we go through the course."
   ]
  },
  {
   "cell_type": "markdown",
   "metadata": {},
   "source": [
    "<div class=\"alert alert-block alert-warning\">\n",
    "<b>Task 1.3</b>\n",
    "\n",
    "Make a code cell below this task and try to run the following to take the square root of 4: `numpy.sqr(4)`. What is(are) the error message(s)? Can you fix the code such that it outputs the square root of 4?\n",
    "</div>"
   ]
  },
  {
   "cell_type": "markdown",
   "metadata": {},
   "source": [
    "___\n",
    "# Data Types and Manipulation\n",
    "\n",
    "Let's briefly re-iterate data types that you will encounter when working with python and data analysis . We define some new **variables** below using the `=` notation."
   ]
  },
  {
   "cell_type": "code",
   "execution_count": 6,
   "metadata": {},
   "outputs": [],
   "source": [
    "# we define some new variables with different fundamental data types\n",
    "integer = 5\n",
    "decimal = 1.6\n",
    "string = 'foo'\n",
    "boolean = True"
   ]
  },
  {
   "cell_type": "code",
   "execution_count": 7,
   "metadata": {},
   "outputs": [
    {
     "data": {
      "text/plain": [
       "int"
      ]
     },
     "execution_count": 7,
     "metadata": {},
     "output_type": "execute_result"
    }
   ],
   "source": [
    "# now try using the 'type' function to print the data type of each variable\n",
    "type(integer)"
   ]
  },
  {
   "cell_type": "markdown",
   "metadata": {},
   "source": [
    "Now that we have some variables, how can we keep track of them? We can use the ipython magic command `%who`, or `%whos` to display a bit more information:"
   ]
  },
  {
   "cell_type": "code",
   "execution_count": 8,
   "metadata": {},
   "outputs": [
    {
     "name": "stdout",
     "output_type": "stream",
     "text": [
      "boolean\t decimal\t integer\t np\t os\t plt\t string\t version\t \n"
     ]
    }
   ],
   "source": [
    "%who"
   ]
  },
  {
   "cell_type": "code",
   "execution_count": 9,
   "metadata": {},
   "outputs": [
    {
     "name": "stdout",
     "output_type": "stream",
     "text": [
      "Variable   Type      Data/Info\n",
      "------------------------------\n",
      "boolean    bool      True\n",
      "decimal    float     1.6\n",
      "integer    int       5\n",
      "np         module    <module 'numpy' from '/ho<...>kages/numpy/__init__.py'>\n",
      "os         module    <module 'os' (frozen)>\n",
      "plt        module    <module 'matplotlib.pyplo<...>es/matplotlib/pyplot.py'>\n",
      "string     str       foo\n",
      "version    str       2.2.5\n"
     ]
    }
   ],
   "source": [
    "%whos"
   ]
  },
  {
   "cell_type": "code",
   "execution_count": 11,
   "metadata": {},
   "outputs": [
    {
     "name": "stdout",
     "output_type": "stream",
     "text": [
      "5 <class 'str'>\n",
      "1 <class 'int'>\n"
     ]
    }
   ],
   "source": [
    "# we can change between data types using the built in data type keywords\n",
    "new = str(integer)\n",
    "print(new, type(new))\n",
    "\n",
    "# NOTE: evertime we re-assign 'new' using '=' we erase the previous assignment\n",
    "new = int(decimal)\n",
    "print(new, type(new))"
   ]
  },
  {
   "cell_type": "markdown",
   "metadata": {},
   "source": [
    "What happend with that last example? When we converted the float to an integer python automatically rounded it down to the nearest integer value. If we wanted to round it up instead we could invoke a `numpy` function first:"
   ]
  },
  {
   "cell_type": "code",
   "execution_count": 12,
   "metadata": {},
   "outputs": [
    {
     "data": {
      "text/plain": [
       "\u001b[31mSignature:\u001b[39m       np.round(a, decimals=\u001b[32m0\u001b[39m, out=\u001b[38;5;28;01mNone\u001b[39;00m)\n",
       "\u001b[31mCall signature:\u001b[39m  np.round(*args, **kwargs)\n",
       "\u001b[31mType:\u001b[39m            _ArrayFunctionDispatcher\n",
       "\u001b[31mString form:\u001b[39m     <function round at 0x7256600d2fc0>\n",
       "\u001b[31mFile:\u001b[39m            ~/miniconda3/envs/Py3_geodata/lib/python3.12/site-packages/numpy/_core/fromnumeric.py\n",
       "\u001b[31mDocstring:\u001b[39m      \n",
       "Evenly round to the given number of decimals.\n",
       "\n",
       "Parameters\n",
       "----------\n",
       "a : array_like\n",
       "    Input data.\n",
       "decimals : int, optional\n",
       "    Number of decimal places to round to (default: 0).  If\n",
       "    decimals is negative, it specifies the number of positions to\n",
       "    the left of the decimal point.\n",
       "out : ndarray, optional\n",
       "    Alternative output array in which to place the result. It must have\n",
       "    the same shape as the expected output, but the type of the output\n",
       "    values will be cast if necessary. See :ref:`ufuncs-output-type`\n",
       "    for more details.\n",
       "\n",
       "Returns\n",
       "-------\n",
       "rounded_array : ndarray\n",
       "    An array of the same type as `a`, containing the rounded values.\n",
       "    Unless `out` was specified, a new array is created.  A reference to\n",
       "    the result is returned.\n",
       "\n",
       "    The real and imaginary parts of complex numbers are rounded\n",
       "    separately.  The result of rounding a float is a float.\n",
       "\n",
       "See Also\n",
       "--------\n",
       "ndarray.round : equivalent method\n",
       "around : an alias for this function\n",
       "ceil, fix, floor, rint, trunc\n",
       "\n",
       "\n",
       "Notes\n",
       "-----\n",
       "For values exactly halfway between rounded decimal values, NumPy\n",
       "rounds to the nearest even value. Thus 1.5 and 2.5 round to 2.0,\n",
       "-0.5 and 0.5 round to 0.0, etc.\n",
       "\n",
       "``np.round`` uses a fast but sometimes inexact algorithm to round\n",
       "floating-point datatypes. For positive `decimals` it is equivalent to\n",
       "``np.true_divide(np.rint(a * 10**decimals), 10**decimals)``, which has\n",
       "error due to the inexact representation of decimal fractions in the IEEE\n",
       "floating point standard [1]_ and errors introduced when scaling by powers\n",
       "of ten. For instance, note the extra \"1\" in the following:\n",
       "\n",
       "    >>> np.round(56294995342131.5, 3)\n",
       "    56294995342131.51\n",
       "\n",
       "If your goal is to print such values with a fixed number of decimals, it is\n",
       "preferable to use numpy's float printing routines to limit the number of\n",
       "printed decimals:\n",
       "\n",
       "    >>> np.format_float_positional(56294995342131.5, precision=3)\n",
       "    '56294995342131.5'\n",
       "\n",
       "The float printing routines use an accurate but much more computationally\n",
       "demanding algorithm to compute the number of digits after the decimal\n",
       "point.\n",
       "\n",
       "Alternatively, Python's builtin `round` function uses a more accurate\n",
       "but slower algorithm for 64-bit floating point values:\n",
       "\n",
       "    >>> round(56294995342131.5, 3)\n",
       "    56294995342131.5\n",
       "    >>> np.round(16.055, 2), round(16.055, 2)  # equals 16.0549999999999997\n",
       "    (16.06, 16.05)\n",
       "\n",
       "\n",
       "References\n",
       "----------\n",
       ".. [1] \"Lecture Notes on the Status of IEEE 754\", William Kahan,\n",
       "       https://people.eecs.berkeley.edu/~wkahan/ieee754status/IEEE754.PDF\n",
       "\n",
       "Examples\n",
       "--------\n",
       ">>> import numpy as np\n",
       ">>> np.round([0.37, 1.64])\n",
       "array([0., 2.])\n",
       ">>> np.round([0.37, 1.64], decimals=1)\n",
       "array([0.4, 1.6])\n",
       ">>> np.round([.5, 1.5, 2.5, 3.5, 4.5]) # rounds to nearest even value\n",
       "array([0., 2., 2., 4., 4.])\n",
       ">>> np.round([1,2,3,11], decimals=1) # ndarray of ints is returned\n",
       "array([ 1,  2,  3, 11])\n",
       ">>> np.round([1,2,3,11], decimals=-1)\n",
       "array([ 0,  0,  0, 10])\n",
       "\u001b[31mClass docstring:\u001b[39m\n",
       "Class to wrap functions with checks for __array_function__ overrides.\n",
       "\n",
       "All arguments are required, and can only be passed by position.\n",
       "\n",
       "Parameters\n",
       "----------\n",
       "dispatcher : function or None\n",
       "    The dispatcher function that returns a single sequence-like object\n",
       "    of all arguments relevant.  It must have the same signature (except\n",
       "    the default values) as the actual implementation.\n",
       "    If ``None``, this is a ``like=`` dispatcher and the\n",
       "    ``_ArrayFunctionDispatcher`` must be called with ``like`` as the\n",
       "    first (additional and positional) argument.\n",
       "implementation : function\n",
       "    Function that implements the operation on NumPy arrays without\n",
       "    overrides.  Arguments passed calling the ``_ArrayFunctionDispatcher``\n",
       "    will be forwarded to this (and the ``dispatcher``) as if using\n",
       "    ``*args, **kwargs``.\n",
       "\n",
       "Attributes\n",
       "----------\n",
       "_implementation : function\n",
       "    The original implementation passed in."
      ]
     },
     "metadata": {},
     "output_type": "display_data"
    }
   ],
   "source": [
    "# use the ? to bring up the function's documentation\n",
    "np.round?"
   ]
  },
  {
   "cell_type": "code",
   "execution_count": 13,
   "metadata": {},
   "outputs": [
    {
     "name": "stdout",
     "output_type": "stream",
     "text": [
      "2\n"
     ]
    }
   ],
   "source": [
    "# convert decimal to integer with proper rounding\n",
    "new = int(np.round(decimal, 0))\n",
    "print(new)"
   ]
  },
  {
   "cell_type": "markdown",
   "metadata": {},
   "source": [
    "Above you see how we strung together multiple functions in one line (`int` and `np.round`). Let's look at some more basic math."
   ]
  },
  {
   "cell_type": "code",
   "execution_count": 14,
   "metadata": {},
   "outputs": [
    {
     "name": "stdout",
     "output_type": "stream",
     "text": [
      "6.6\n"
     ]
    },
    {
     "data": {
      "text/plain": [
       "float"
      ]
     },
     "execution_count": 14,
     "metadata": {},
     "output_type": "execute_result"
    }
   ],
   "source": [
    "# if we add an integer and float we get a float\n",
    "print(integer + decimal)\n",
    "type(integer + decimal)"
   ]
  },
  {
   "cell_type": "markdown",
   "metadata": {},
   "source": [
    "<div class=\"alert alert-block alert-warning\">\n",
    "<b>Task 1.4</b>\n",
    "\n",
    "Create two variables: an integer and a float. Use the following mathematical operators on them: +, -, /, \\*, **, %. \n",
    "\n",
    "Round the result to 3 decimal places and print that and its data type.\n",
    "</div>"
   ]
  },
  {
   "cell_type": "markdown",
   "metadata": {},
   "source": [
    "<div class=\"alert alert-block alert-warning\">\n",
    "<b>Task 1.5</b>\n",
    "\n",
    "Create two string variables, each at least 4 characters long. Use the + operator on them and print the result. Also experiment with the string method [`split()`](https://docs.python.org/2/library/string.html#string.split), as in `my_string.split(<separator>)`.\n",
    "</div>"
   ]
  },
  {
   "cell_type": "markdown",
   "metadata": {},
   "source": [
    "## Data Structures\n",
    "\n",
    "Now that we know about basic data types let's group them together in data **collections**, including: **lists, tuples**, and  **dictionaries**, among others. \n",
    "\n",
    "These group arbitrary variables together (e.g., strings and integers and floats) in containers. These containers can even contain their own type (e.g., a list of lists)."
   ]
  },
  {
   "cell_type": "code",
   "execution_count": 15,
   "metadata": {},
   "outputs": [
    {
     "data": {
      "text/plain": [
       "list"
      ]
     },
     "execution_count": 15,
     "metadata": {},
     "output_type": "execute_result"
    }
   ],
   "source": [
    "# define some new containers\n",
    "my_list = [1, 2, 3, 4]\n",
    "tup = (1, 2, 3, 4)\n",
    "dictionary = {'a' : my_list, 'b' : tup, 'c' : decimal}\n",
    "\n",
    "# look at their type\n",
    "type(my_list)"
   ]
  },
  {
   "cell_type": "markdown",
   "metadata": {},
   "source": [
    "Let's look at list indexing and dictionary calls now."
   ]
  },
  {
   "cell_type": "code",
   "execution_count": 16,
   "metadata": {},
   "outputs": [
    {
     "name": "stdout",
     "output_type": "stream",
     "text": [
      "my list is:  [1, 2, 3, 4]\n",
      "the first value is: 1\n",
      "the first two values are: [1, 2]\n",
      "the last values is: 4\n"
     ]
    }
   ],
   "source": [
    "# let's look at list indexing\n",
    "print('my list is: ', my_list)\n",
    "print('the first value is:', my_list[0])\n",
    "print('the first two values are:', my_list[:2])\n",
    "print('the last values is:', my_list[-1])"
   ]
  },
  {
   "cell_type": "markdown",
   "metadata": {},
   "source": [
    "The `:` operator works to **slice** lists with the left side being the start index and the right side being the end index (not inclusive). Putting no value on either side defaults to either the beginning or end of the list. Slicing takes the form `list[start:stop:step]`, but we've just used it with `start:stop` by omitting a third `:`."
   ]
  },
  {
   "cell_type": "code",
   "execution_count": 17,
   "metadata": {},
   "outputs": [
    {
     "data": {
      "text/plain": [
       "[1, 3]"
      ]
     },
     "execution_count": 17,
     "metadata": {},
     "output_type": "execute_result"
    }
   ],
   "source": [
    "# take every second value starting with the first value\n",
    "my_list[::2]"
   ]
  },
  {
   "cell_type": "markdown",
   "metadata": {},
   "source": [
    "> **Note:** Slicing using `:` also works on strings, like below"
   ]
  },
  {
   "cell_type": "code",
   "execution_count": 18,
   "metadata": {},
   "outputs": [
    {
     "name": "stdout",
     "output_type": "stream",
     "text": [
      "cut this up\n"
     ]
    }
   ],
   "source": [
    "# slice a long string\n",
    "foo = 'cutthisup'\n",
    "print(foo[:3], foo[3:7], foo[7:])"
   ]
  },
  {
   "cell_type": "code",
   "execution_count": 19,
   "metadata": {},
   "outputs": [
    {
     "name": "stdout",
     "output_type": "stream",
     "text": [
      "the list variable is length:  4\n"
     ]
    },
    {
     "ename": "IndexError",
     "evalue": "list index out of range",
     "output_type": "error",
     "traceback": [
      "\u001b[31m---------------------------------------------------------------------------\u001b[39m",
      "\u001b[31mIndexError\u001b[39m                                Traceback (most recent call last)",
      "\u001b[36mCell\u001b[39m\u001b[36m \u001b[39m\u001b[32mIn[19]\u001b[39m\u001b[32m, line 3\u001b[39m\n\u001b[32m      1\u001b[39m \u001b[38;5;66;03m# what's wrong with this call?\u001b[39;00m\n\u001b[32m      2\u001b[39m \u001b[38;5;28mprint\u001b[39m(\u001b[33m'\u001b[39m\u001b[33mthe list variable is length: \u001b[39m\u001b[33m'\u001b[39m, \u001b[38;5;28mlen\u001b[39m(my_list))\n\u001b[32m----> \u001b[39m\u001b[32m3\u001b[39m \u001b[43mmy_list\u001b[49m\u001b[43m[\u001b[49m\u001b[32;43m4\u001b[39;49m\u001b[43m]\u001b[49m\n",
      "\u001b[31mIndexError\u001b[39m: list index out of range"
     ]
    }
   ],
   "source": [
    "# what's wrong with this call?\n",
    "print('the list variable is length: ', len(my_list))\n",
    "my_list[4]"
   ]
  },
  {
   "cell_type": "markdown",
   "metadata": {},
   "source": [
    "**Remember that python uses _0 indexing_, meaning the first value in any sequence is 0 and not 1.**\n",
    "\n",
    "Another way to get the last value in the list is by counting backwards using negative index values, which also work in python."
   ]
  },
  {
   "cell_type": "code",
   "execution_count": 20,
   "metadata": {},
   "outputs": [
    {
     "name": "stdout",
     "output_type": "stream",
     "text": [
      "[1, 2, 3, 4]\n",
      "4\n",
      "3\n"
     ]
    }
   ],
   "source": [
    "# get the last value and second to last value in my_list\n",
    "print(my_list)\n",
    "print(my_list[-1])\n",
    "print(my_list[-2])"
   ]
  },
  {
   "cell_type": "markdown",
   "metadata": {},
   "source": [
    "For a visual of negative vs. positive indexing:\n",
    "![](img/indexing.jpg)\n",
    "\n",
    "via: https://www.geeksforgeeks.org/string-slicing-in-python/\n",
    "\n",
    "> **Note:** For negative indexing the first value is -1, so the the reverse index goes to -7 (rather than 6)... There is one and only one zero!"
   ]
  },
  {
   "cell_type": "markdown",
   "metadata": {},
   "source": [
    "<div class=\"alert alert-block alert-warning\">\n",
    "<b>Task 1.6</b>\n",
    "\n",
    "Create a new list, beginning with the second value and taking every third value after it from this list: [3, 9, 7, 2, 3, 6, 9, 5]\n",
    "</div>"
   ]
  },
  {
   "cell_type": "markdown",
   "metadata": {},
   "source": [
    "Making **copies** of lists behaves in ways you might not expect if you are coming from other programming languages. You can assign a list to another variable name like this: "
   ]
  },
  {
   "cell_type": "code",
   "execution_count": 22,
   "metadata": {},
   "outputs": [],
   "source": [
    "my_list_c = my_list"
   ]
  },
  {
   "cell_type": "markdown",
   "metadata": {},
   "source": [
    "`my_list_c` is now a **_copy_** of `my_list`, however, if I change one, I change the other. This is a **shallow copy**. "
   ]
  },
  {
   "cell_type": "code",
   "execution_count": 28,
   "metadata": {},
   "outputs": [
    {
     "name": "stdout",
     "output_type": "stream",
     "text": [
      "[1, 2, 3, 4]\n",
      "[1, 2, 1.5, 4]\n",
      "[1, 2, 3, 4]\n"
     ]
    }
   ],
   "source": [
    "print(my_list)\n",
    "\n",
    "# note here we are re-assigning the value at index 2 to be 1.5\n",
    "my_list[2] = 1.5\n",
    "\n",
    "# check the result\n",
    "print(my_list)\n",
    "print(my_list_c)"
   ]
  },
  {
   "cell_type": "markdown",
   "metadata": {},
   "source": [
    "To create a **deep copy** independent of the original list we can use the slice notation (taking the entire list):"
   ]
  },
  {
   "cell_type": "code",
   "execution_count": 29,
   "metadata": {},
   "outputs": [
    {
     "name": "stdout",
     "output_type": "stream",
     "text": [
      "[1, 2, 3, 4]\n",
      "[1, 2, 1.5, 4]\n"
     ]
    }
   ],
   "source": [
    "# copy with a full slice\n",
    "#my_list_c = my_list[:]\n",
    "# or copy using the copy object\n",
    "my_list_c = my_list.copy()\n",
    "\n",
    "my_list[2] = 3\n",
    "# check the result\n",
    "print(my_list)\n",
    "print(my_list_c)"
   ]
  },
  {
   "cell_type": "markdown",
   "metadata": {},
   "source": [
    "If that's confusing, here's a visual example (using words) of shallow vs. deep copying:\n",
    "\n",
    "![](img/shallow-vs-deep-copy.gif)\n",
    "\n",
    "via: https://stackoverflow.com/questions/41125834/trying-to-do-a-shallow-copy-on-list-in-python"
   ]
  },
  {
   "cell_type": "markdown",
   "metadata": {},
   "source": [
    "**Moving on to tuples.**\n",
    "\n",
    "Tuples are like lists, but they are **immutable** (the elements cannot be changed in place), so they're useful if you don't want to change the data inside them:"
   ]
  },
  {
   "cell_type": "code",
   "execution_count": 1,
   "metadata": {},
   "outputs": [
    {
     "ename": "NameError",
     "evalue": "name 'tup' is not defined",
     "output_type": "error",
     "traceback": [
      "\u001b[31m---------------------------------------------------------------------------\u001b[39m",
      "\u001b[31mNameError\u001b[39m                                 Traceback (most recent call last)",
      "\u001b[36mCell\u001b[39m\u001b[36m \u001b[39m\u001b[32mIn[1]\u001b[39m\u001b[32m, line 2\u001b[39m\n\u001b[32m      1\u001b[39m \u001b[38;5;66;03m# you can access a tuple index like a list\u001b[39;00m\n\u001b[32m----> \u001b[39m\u001b[32m2\u001b[39m \u001b[38;5;28mprint\u001b[39m(\u001b[43mtup\u001b[49m[\u001b[32m0\u001b[39m])\n\u001b[32m      3\u001b[39m \u001b[38;5;66;03m# including using slicing\u001b[39;00m\n\u001b[32m      4\u001b[39m \u001b[38;5;28mprint\u001b[39m(tup[\u001b[32m1\u001b[39m:])\n",
      "\u001b[31mNameError\u001b[39m: name 'tup' is not defined"
     ]
    }
   ],
   "source": [
    "# you can access a tuple index like a list\n",
    "print(tup[0])\n",
    "# including using slicing\n",
    "print(tup[1:])"
   ]
  },
  {
   "cell_type": "code",
   "execution_count": 31,
   "metadata": {},
   "outputs": [
    {
     "ename": "TypeError",
     "evalue": "'tuple' object does not support item assignment",
     "output_type": "error",
     "traceback": [
      "\u001b[31m---------------------------------------------------------------------------\u001b[39m",
      "\u001b[31mTypeError\u001b[39m                                 Traceback (most recent call last)",
      "\u001b[36mCell\u001b[39m\u001b[36m \u001b[39m\u001b[32mIn[31]\u001b[39m\u001b[32m, line 2\u001b[39m\n\u001b[32m      1\u001b[39m \u001b[38;5;66;03m# but you can't change a tuple value by index\u001b[39;00m\n\u001b[32m----> \u001b[39m\u001b[32m2\u001b[39m \u001b[43mtup\u001b[49m\u001b[43m[\u001b[49m\u001b[32;43m0\u001b[39;49m\u001b[43m]\u001b[49m = \u001b[32m1.1\u001b[39m\n",
      "\u001b[31mTypeError\u001b[39m: 'tuple' object does not support item assignment"
     ]
    }
   ],
   "source": [
    "# but you can't change a tuple value by index\n",
    "tup[0] = 1.1"
   ]
  },
  {
   "cell_type": "markdown",
   "metadata": {},
   "source": [
    "Moving on to dictionary calls...\n",
    "\n",
    "Remember dictionaries are formed with `{}` curly braces and have `key`:`value` pairs. We can call the `value` by its `key` name:"
   ]
  },
  {
   "cell_type": "code",
   "execution_count": 32,
   "metadata": {},
   "outputs": [
    {
     "name": "stdout",
     "output_type": "stream",
     "text": [
      "the a key in my dictionary is:  [1, 2, 3, 4]\n",
      "the b key in my dictionary is:  (1, 2, 3, 4)\n"
     ]
    }
   ],
   "source": [
    "# let's call a few key:value pairs from the dictionary\n",
    "print('the a key in my dictionary is: ', dictionary['a'])\n",
    "print('the b key in my dictionary is: ', dictionary['b'])"
   ]
  },
  {
   "cell_type": "markdown",
   "metadata": {},
   "source": [
    "<div class=\"alert alert-block alert-warning\">\n",
    "<b>Task 1.7</b>\n",
    "\n",
    "Create three variables: a list of two integers, a tuple with two floats, and a dictionary with two items where each item is a list of two floats. Use the list methods `append` and `insert` (see [here](https://docs.python.org/3.8/tutorial/datastructures.html#more-on-lists)) to add the tuple once to end of the list, then to the front of the list. After this, create a new key in the dictionary and assign the modified list to this key.\n",
    "</div>"
   ]
  },
  {
   "cell_type": "markdown",
   "metadata": {},
   "source": [
    "From this we can get our first look at what makes python an [**object-oriented**](https://en.wikipedia.org/wiki/Object-oriented_programming) language, meaning that it treats all variables, packages, functions, etc. as **objects** with both **attributes** (other Python objects -- like functions or constants -- stored \"inside\"). Some of these attributes are **methods** (functions associated with the object). So for instance if we wanted to add the objects `b` (non-list) and `a` (list) then we could call the list attribute `append` using the `.` notation. \n",
    "\n",
    "The list itself is a variable, but any list object in python has many useful attribute functions associated with it."
   ]
  },
  {
   "cell_type": "code",
   "execution_count": 33,
   "metadata": {},
   "outputs": [],
   "source": [
    "a = [0, 2, 5, 10, 15]"
   ]
  },
  {
   "cell_type": "code",
   "execution_count": null,
   "metadata": {},
   "outputs": [],
   "source": [
    "# after the a. press Tab on your keyboard to see a long list of internal methods\n",
    "a."
   ]
  },
  {
   "cell_type": "code",
   "execution_count": 34,
   "metadata": {},
   "outputs": [
    {
     "data": {
      "text/plain": [
       "[1, 2, 3, 4, 5, 6]"
      ]
     },
     "execution_count": 34,
     "metadata": {},
     "output_type": "execute_result"
    }
   ],
   "source": [
    "# if we wanted to add two LISTS we could also just use +\n",
    "[1, 2, 3] + [4, 5, 6]"
   ]
  },
  {
   "cell_type": "markdown",
   "metadata": {},
   "source": [
    "___\n",
    "# for Loops\n",
    "\n",
    "For loops are one of the most common elements of any computer code. Basically, they tell your code to step through every value in some collection of values and do something. For instance:"
   ]
  },
  {
   "cell_type": "code",
   "execution_count": 35,
   "metadata": {},
   "outputs": [],
   "source": [
    "# here is a new list variable\n",
    "berlin_food = ['doener', 'currywurst', 'falafel', 'pommes']\n",
    "# for the German speakers, note I dropped the ö in döner, \n",
    "# it's best to stick with standard English characters in programming"
   ]
  },
  {
   "cell_type": "markdown",
   "metadata": {},
   "source": [
    "Here we see for the first time the importance of **indentation** in python. For loops and other code elements (e.g., function definitions) require indents (typically made with either one `Tab` or four `Spacebar` strokes). Blocks of code with the same sized indent are executed together before moving on to the next level of indentation. "
   ]
  },
  {
   "cell_type": "code",
   "execution_count": 38,
   "metadata": {},
   "outputs": [
    {
     "name": "stdout",
     "output_type": "stream",
     "text": [
      "doener\n",
      "currywurst\n",
      "falafel\n",
      "pommes\n",
      "done!\n"
     ]
    }
   ],
   "source": [
    "# let's make a for loop to print\n",
    "for food in berlin_food:\n",
    "    print(food)\n",
    "print('done!')"
   ]
  },
  {
   "cell_type": "markdown",
   "metadata": {},
   "source": [
    "Note the syntax `for` something `in` something`:`. The colon `:` comes up all over in python syntax whenever you are creating indented code blocks. Essentially it means \"now run the below code block\". Try removing it in the above instance and see what happens.\n",
    "\n",
    "What is the `food` variable now? Based on this, how does `in` work?"
   ]
  },
  {
   "cell_type": "markdown",
   "metadata": {},
   "source": [
    "<div class=\"alert alert-block alert-warning\">\n",
    "<b>Task 1.8</b>\n",
    "\n",
    "Create a new list variable containing: one string, one float, one integer, one boolean, one tuple (of two integers), one list (of two integers), and one dictionary (of two keys, each referring to one integer). Iterate over the variable and print the item and the item's data type.\n",
    "</div>"
   ]
  },
  {
   "cell_type": "markdown",
   "metadata": {},
   "source": [
    "## The `range` Function"
   ]
  },
  {
   "cell_type": "code",
   "execution_count": 39,
   "metadata": {},
   "outputs": [
    {
     "name": "stdout",
     "output_type": "stream",
     "text": [
      "0\n",
      "1\n",
      "2\n",
      "3\n",
      "4\n"
     ]
    }
   ],
   "source": [
    "for i in range(5):\n",
    "    print(i)"
   ]
  },
  {
   "cell_type": "markdown",
   "metadata": {},
   "source": [
    "What does the built in runction `range` do? Rather than explain, let's just use the help function `?`"
   ]
  },
  {
   "cell_type": "code",
   "execution_count": null,
   "metadata": {},
   "outputs": [],
   "source": [
    "range?"
   ]
  },
  {
   "cell_type": "markdown",
   "metadata": {},
   "source": [
    "Often we use this function to loop through a data structure (e.g., list) by its index value. Note that we use a little trick below to get the length (so the maximum index value) of the list using python's `len` function:"
   ]
  },
  {
   "cell_type": "code",
   "execution_count": 40,
   "metadata": {},
   "outputs": [
    {
     "name": "stdout",
     "output_type": "stream",
     "text": [
      "0\n",
      "doener\n",
      "\n",
      "1\n",
      "currywurst\n",
      "\n",
      "2\n",
      "falafel\n",
      "\n",
      "3\n",
      "pommes\n",
      "\n"
     ]
    }
   ],
   "source": [
    "for i in range(len(berlin_food)):\n",
    "    print(i)\n",
    "    print(berlin_food[i])\n",
    "    \n",
    "    # we include a blank print statement to \n",
    "    # create a space between each loop step\n",
    "    print()"
   ]
  },
  {
   "cell_type": "markdown",
   "metadata": {},
   "source": [
    "Why would we do it this (slightly) more complex way? Well what if you had two related lists of the same length and you wanted to pull values from the same index location out of them."
   ]
  },
  {
   "cell_type": "code",
   "execution_count": 41,
   "metadata": {},
   "outputs": [
    {
     "name": "stdout",
     "output_type": "stream",
     "text": [
      "Mt. Everest is in Asia\n",
      "Aconcagua is in South America\n",
      "Denali is in North America\n",
      "Kilimanjaro is in Africa\n"
     ]
    }
   ],
   "source": [
    "mountains = ['Mt. Everest', 'Aconcagua', 'Denali', 'Kilimanjaro']\n",
    "continents = ['Asia', 'South America', 'North America', 'Africa']\n",
    "\n",
    "for i in range(len(mountains)):\n",
    "    print(mountains[i], 'is in', continents[i])"
   ]
  },
  {
   "cell_type": "markdown",
   "metadata": {},
   "source": [
    "We could also use another function called `enumerate` here, which returns tuples of (index, value):"
   ]
  },
  {
   "cell_type": "code",
   "execution_count": 42,
   "metadata": {},
   "outputs": [
    {
     "name": "stdout",
     "output_type": "stream",
     "text": [
      "0\n",
      "Mt. Everest\n",
      "Mt. Everest is in Asia\n",
      "\n",
      "1\n",
      "Aconcagua\n",
      "Aconcagua is in South America\n",
      "\n",
      "2\n",
      "Denali\n",
      "Denali is in North America\n",
      "\n",
      "3\n",
      "Kilimanjaro\n",
      "Kilimanjaro is in Africa\n",
      "\n"
     ]
    }
   ],
   "source": [
    "for i, mt in enumerate(mountains):\n",
    "    print(i)\n",
    "    print(mt)\n",
    "    print(mt, 'is in', continents[i])\n",
    "    print()"
   ]
  },
  {
   "cell_type": "markdown",
   "metadata": {},
   "source": [
    "<div class=\"alert alert-block alert-warning\">\n",
    "<b>Task 1.9</b>\n",
    "\n",
    "Create a list of 4 integer values, use the range function to loop over each element in the list, _beginning with the second element_ and add it to the previous element.\n",
    "</div>"
   ]
  },
  {
   "cell_type": "code",
   "execution_count": 48,
   "metadata": {},
   "outputs": [
    {
     "name": "stdout",
     "output_type": "stream",
     "text": [
      "[0, 1, 2, 3]\n",
      "1\n",
      "3\n",
      "5\n"
     ]
    }
   ],
   "source": [
    "a = range(4)\n",
    "print(list(a))\n",
    "\n",
    "for i in range(1, len(a)):\n",
    "    print(a[i-1] + a[i])\n"
   ]
  },
  {
   "cell_type": "markdown",
   "metadata": {},
   "source": [
    "___\n",
    "# Conditional Statements\n",
    "\n",
    "Let's introduce the idea of **equality** using the `==` **comparison operator**. As opposed to `=` (**assignment**), `==` equality just means \"are these two objects equal?\" and returns a `bool` answer of `True` or `False`."
   ]
  },
  {
   "cell_type": "code",
   "execution_count": 49,
   "metadata": {},
   "outputs": [
    {
     "name": "stdout",
     "output_type": "stream",
     "text": [
      "{'a': [1, 2, 3, 4], 'b': (1, 2, 3, 4), 'c': 1.6}\n",
      "[1, 2, 3, 4]\n"
     ]
    },
    {
     "data": {
      "text/plain": [
       "True"
      ]
     },
     "execution_count": 49,
     "metadata": {},
     "output_type": "execute_result"
    }
   ],
   "source": [
    "# check equality\n",
    "print(dictionary)\n",
    "print(my_list)\n",
    "dictionary['a'] == my_list"
   ]
  },
  {
   "cell_type": "markdown",
   "metadata": {},
   "source": [
    "Alternatively we can get some other booleans using the comparison operators: not equal to (`!=`), greater than and less than (`>` and `<`), and greater than or equal to and less than or equal to (`>=` and `<=`)."
   ]
  },
  {
   "cell_type": "code",
   "execution_count": 50,
   "metadata": {},
   "outputs": [
    {
     "name": "stdout",
     "output_type": "stream",
     "text": [
      "True\n",
      "False\n",
      "[1, 2, 3, 4] (1, 2, 3, 4)\n",
      "True\n"
     ]
    }
   ],
   "source": [
    "# test some more operators\n",
    "print(1.5 != 1)\n",
    "print(6. > 6)\n",
    "print(my_list, tup)\n",
    "print(my_list[2] <= tup[2])"
   ]
  },
  {
   "cell_type": "markdown",
   "metadata": {},
   "source": [
    "The idea with **conditionals** in python is pretty simple: `if` and condition is met, `then` do this. They often rely on comparison operators."
   ]
  },
  {
   "cell_type": "code",
   "execution_count": 52,
   "metadata": {},
   "outputs": [
    {
     "name": "stdout",
     "output_type": "stream",
     "text": [
      "that's not what i expected\n",
      "that's not what i expected\n"
     ]
    }
   ],
   "source": [
    "# simple example\n",
    "if np.sin(np.pi) == 0:\n",
    "    print('nice!')\n",
    "else:\n",
    "    # note the \\ backslash, telling python to ignore the \n",
    "    # apostrophe ' and treat it as a string element\n",
    "    print('that\\'s not what i expected')\n",
    "    # an alternative is to use \" and ': \n",
    "    print(\"that's not what i expected\")\n"
   ]
  },
  {
   "cell_type": "code",
   "execution_count": 56,
   "metadata": {},
   "outputs": [],
   "source": [
    "a = np.sin(np.pi)"
   ]
  },
  {
   "cell_type": "code",
   "execution_count": 58,
   "metadata": {},
   "outputs": [
    {
     "data": {
      "text/plain": [
       "dtype('float64')"
      ]
     },
     "execution_count": 58,
     "metadata": {},
     "output_type": "execute_result"
    }
   ],
   "source": [
    "a.dtype"
   ]
  },
  {
   "cell_type": "code",
   "execution_count": 65,
   "metadata": {},
   "outputs": [
    {
     "data": {
      "text/plain": [
       "np.float64(-15.91198914827845)"
      ]
     },
     "execution_count": 65,
     "metadata": {},
     "output_type": "execute_result"
    }
   ],
   "source": [
    "np.log10(a)"
   ]
  },
  {
   "cell_type": "markdown",
   "metadata": {},
   "source": [
    "## Sidestep: Min and max numbers in variable types\n",
    "\n",
    "Additional information are [here](https://note.nkmk.me/en/python-sys-float-info-max-min/) and on [wikipedia](https://en.wikipedia.org/wiki/Double-precision_floating-point_format)."
   ]
  },
  {
   "cell_type": "code",
   "execution_count": 66,
   "metadata": {},
   "outputs": [
    {
     "name": "stdout",
     "output_type": "stream",
     "text": [
      "sys.float_info(max=1.7976931348623157e+308, max_exp=1024, max_10_exp=308, min=2.2250738585072014e-308, min_exp=-1021, min_10_exp=-307, dig=15, mant_dig=53, epsilon=2.220446049250313e-16, radix=2, rounds=1)\n"
     ]
    }
   ],
   "source": [
    "import sys\n",
    "\n",
    "print(sys.float_info)"
   ]
  },
  {
   "cell_type": "code",
   "execution_count": 68,
   "metadata": {},
   "outputs": [
    {
     "name": "stdout",
     "output_type": "stream",
     "text": [
      "1.5e+308\n"
     ]
    }
   ],
   "source": [
    "print(1.7e308)"
   ]
  },
  {
   "cell_type": "code",
   "execution_count": 70,
   "metadata": {},
   "outputs": [
    {
     "name": "stdout",
     "output_type": "stream",
     "text": [
      "inf\n"
     ]
    }
   ],
   "source": [
    "print(1.8e308)"
   ]
  },
  {
   "cell_type": "code",
   "execution_count": 77,
   "metadata": {},
   "outputs": [
    {
     "data": {
      "text/plain": [
       "np.float64(1.7976931348623157e+308)"
      ]
     },
     "execution_count": 77,
     "metadata": {},
     "output_type": "execute_result"
    }
   ],
   "source": [
    "#np.finfo?\n",
    "np.finfo(np.float64).max"
   ]
  },
  {
   "cell_type": "code",
   "execution_count": 78,
   "metadata": {},
   "outputs": [
    {
     "data": {
      "text/plain": [
       "np.float32(3.4028235e+38)"
      ]
     },
     "execution_count": 78,
     "metadata": {},
     "output_type": "execute_result"
    }
   ],
   "source": [
    "np.finfo(np.float32).max"
   ]
  },
  {
   "cell_type": "code",
   "execution_count": 81,
   "metadata": {},
   "outputs": [
    {
     "data": {
      "text/plain": [
       "32767"
      ]
     },
     "execution_count": 81,
     "metadata": {},
     "output_type": "execute_result"
    }
   ],
   "source": [
    "#np.iinfo?\n",
    "np.iinfo(np.int16).max"
   ]
  },
  {
   "cell_type": "code",
   "execution_count": 82,
   "metadata": {},
   "outputs": [
    {
     "data": {
      "text/plain": [
       "9223372036854775807"
      ]
     },
     "execution_count": 82,
     "metadata": {},
     "output_type": "execute_result"
    }
   ],
   "source": [
    "np.iinfo(np.int64).max"
   ]
  },
  {
   "cell_type": "code",
   "execution_count": 84,
   "metadata": {},
   "outputs": [
    {
     "name": "stdout",
     "output_type": "stream",
     "text": [
      "9,223,372,036,854,775,807\n"
     ]
    }
   ],
   "source": [
    "x = np.iinfo(np.int64).max\n",
    "print( f'{x:,}' )"
   ]
  },
  {
   "cell_type": "markdown",
   "metadata": {},
   "source": [
    "#### Why should we use different types of floating-point accuracy?"
   ]
  },
  {
   "cell_type": "code",
   "execution_count": 85,
   "metadata": {},
   "outputs": [],
   "source": [
    "a64 = np.float64(1e3)\n",
    "a32 = np.float32(1e3)\n",
    "aint64 = np.int64(1e3)\n",
    "aint32 = np.int32(1e3)\n",
    "aint16 = np.int16(1e3)"
   ]
  },
  {
   "cell_type": "code",
   "execution_count": 89,
   "metadata": {},
   "outputs": [
    {
     "name": "stdout",
     "output_type": "stream",
     "text": [
      "True\n",
      "True\n"
     ]
    }
   ],
   "source": [
    "if a64 == a32:\n",
    "    print(True)\n",
    "    \n",
    "if a64 == aint64:\n",
    "    print(True)\n",
    "    "
   ]
  },
  {
   "cell_type": "code",
   "execution_count": 94,
   "metadata": {},
   "outputs": [
    {
     "name": "stdout",
     "output_type": "stream",
     "text": [
      "Variable      Type       Data/Info\n",
      "----------------------------------\n",
      "a             float64    1.2246467991473532e-16\n",
      "a32           float32    1000.0\n",
      "a64           float64    1000.0\n",
      "aint16        int16      1000\n",
      "aint32        int32      1000\n",
      "aint64        int64      1000\n",
      "b             list       n=0\n",
      "berlin_food   list       n=4\n",
      "boolean       bool       True\n",
      "continents    list       n=4\n",
      "decimal       float      1.6\n",
      "dictionary    dict       n=3\n",
      "foo           str        cutthisup\n",
      "food          str        pommes\n",
      "i             int        3\n",
      "integer       int        5\n",
      "mountains     list       n=4\n",
      "mt            str        Kilimanjaro\n",
      "my_list       list       n=4\n",
      "my_list_c     list       n=4\n",
      "new           int        2\n",
      "np            module     <module 'numpy' from '/ho<...>kages/numpy/__init__.py'>\n",
      "os            module     <module 'os' (frozen)>\n",
      "plt           module     <module 'matplotlib.pyplo<...>es/matplotlib/pyplot.py'>\n",
      "string        str        foo\n",
      "sys           module     <module 'sys' (built-in)>\n",
      "tup           tuple      n=4\n",
      "version       str        2.2.5\n",
      "x             int        9223372036854775807\n"
     ]
    }
   ],
   "source": [
    "%whos"
   ]
  },
  {
   "cell_type": "code",
   "execution_count": 105,
   "metadata": {},
   "outputs": [
    {
     "name": "stdout",
     "output_type": "stream",
     "text": [
      "8\n",
      "4\n",
      "8\n",
      "4\n",
      "2\n"
     ]
    }
   ],
   "source": [
    "print(a64.nbytes)\n",
    "print(a32.nbytes)\n",
    "print(aint64.nbytes)\n",
    "print(aint32.nbytes)\n",
    "print(aint16.nbytes)"
   ]
  },
  {
   "cell_type": "markdown",
   "metadata": {},
   "source": [
    "<div class=\"alert alert-block alert-warning\">\n",
    "<b>Task 1.10</b>\n",
    "\n",
    "Given an array with 1000 x 1000 elements: What is the memory usage of a float64, float32, and int16 array?\n",
    "</div>"
   ]
  },
  {
   "cell_type": "code",
   "execution_count": 3,
   "metadata": {},
   "outputs": [
    {
     "ename": "NameError",
     "evalue": "name 'a64' is not defined",
     "output_type": "error",
     "traceback": [
      "\u001b[31m---------------------------------------------------------------------------\u001b[39m",
      "\u001b[31mNameError\u001b[39m                                 Traceback (most recent call last)",
      "\u001b[36mCell\u001b[39m\u001b[36m \u001b[39m\u001b[32mIn[3]\u001b[39m\u001b[32m, line 1\u001b[39m\n\u001b[32m----> \u001b[39m\u001b[32m1\u001b[39m float64_memory_usage = \u001b[43ma64\u001b[49m.nbytes * \u001b[32m1000\u001b[39m * \u001b[32m1000\u001b[39m\n\u001b[32m      2\u001b[39m float32_memory_usage = a32.nbytes * \u001b[32m1000\u001b[39m * \u001b[32m1000\u001b[39m\n\u001b[32m      3\u001b[39m int16_memory_usage = aint16.nbytes * \u001b[32m1000\u001b[39m * \u001b[32m1000\u001b[39m\n",
      "\u001b[31mNameError\u001b[39m: name 'a64' is not defined"
     ]
    }
   ],
   "source": [
    "float64_memory_usage = a64.nbytes * 1000 * 1000\n",
    "float32_memory_usage = a32.nbytes * 1000 * 1000\n",
    "int16_memory_usage = aint16.nbytes * 1000 * 1000\n",
    "print(float64_memory_usage/1e3)\n",
    "print(float32_memory_usage/1e3)\n",
    "print(int16_memory_usage/1e3)"
   ]
  },
  {
   "cell_type": "markdown",
   "metadata": {},
   "source": [
    "Here we have used `if` to test a condition (using `==`), which returned `False` (because $sin(\\pi)$ is not 0 using `np.pi` constant), so the code under `else` was run instead."
   ]
  },
  {
   "cell_type": "markdown",
   "metadata": {},
   "source": [
    "## Back to if-else statements"
   ]
  },
  {
   "cell_type": "markdown",
   "metadata": {},
   "source": [
    "We can also use the keyword `not` to reverse the boolean"
   ]
  },
  {
   "cell_type": "code",
   "execution_count": 109,
   "metadata": {},
   "outputs": [
    {
     "name": "stdout",
     "output_type": "stream",
     "text": [
      "False\n",
      "True\n"
     ]
    }
   ],
   "source": [
    "print(np.sin(np.pi) == 0)\n",
    "print(not np.sin(np.pi) == 0)"
   ]
  },
  {
   "cell_type": "markdown",
   "metadata": {},
   "source": [
    "We can also link several conditions using `elif`, or \"else if\"."
   ]
  },
  {
   "cell_type": "code",
   "execution_count": 110,
   "metadata": {},
   "outputs": [
    {
     "name": "stdout",
     "output_type": "stream",
     "text": [
      "hmmm, close...\n"
     ]
    }
   ],
   "source": [
    "if np.sin(np.pi) == 0:\n",
    "    print('nice!')\n",
    "elif np.round(np.sin(np.pi), 10) == 0:\n",
    "    print('hmmm, close...')\n",
    "else:\n",
    "     print('that\\'s not what i expected')"
   ]
  },
  {
   "cell_type": "markdown",
   "metadata": {},
   "source": [
    "The above code goes line-by-line checking each conditional. It ran the indented code after `elif` because that returned `True`. Note our use of the `np.round` function to approximate the result."
   ]
  },
  {
   "cell_type": "markdown",
   "metadata": {},
   "source": [
    "We can even combine conditional statements (`==`, `!=`, `<`, `<=`, `>`, `>=`) using the keywords `and` and `or`. `and` only returns `True` when both conditions are `True`. `or` returns `True` if even one condition is `True`."
   ]
  },
  {
   "cell_type": "code",
   "execution_count": 111,
   "metadata": {},
   "outputs": [
    {
     "name": "stdout",
     "output_type": "stream",
     "text": [
      "True\n",
      "True\n"
     ]
    }
   ],
   "source": [
    "print(True and True)\n",
    "print(True or False)"
   ]
  },
  {
   "cell_type": "code",
   "execution_count": 112,
   "metadata": {},
   "outputs": [
    {
     "data": {
      "text/plain": [
       "True"
      ]
     },
     "execution_count": 112,
     "metadata": {},
     "output_type": "execute_result"
    }
   ],
   "source": [
    "# and to get really confusing :)\n",
    "not True or not False"
   ]
  },
  {
   "cell_type": "code",
   "execution_count": 113,
   "metadata": {},
   "outputs": [
    {
     "name": "stdout",
     "output_type": "stream",
     "text": [
      "okay, sure\n"
     ]
    }
   ],
   "source": [
    "# combine conditional statements\n",
    "a = 4\n",
    "b = 16\n",
    "\n",
    "if (np.sqrt(b) > a) or (b < a):\n",
    "    print('cool')\n",
    "else:\n",
    "    print('okay, sure')"
   ]
  },
  {
   "cell_type": "markdown",
   "metadata": {},
   "source": [
    "You can also combine for loops with conditional statements!"
   ]
  },
  {
   "cell_type": "code",
   "execution_count": 114,
   "metadata": {},
   "outputs": [
    {
     "name": "stdout",
     "output_type": "stream",
     "text": [
      "-12 is below freezing\n",
      "0 is freezing\n",
      "17 is above freezing\n"
     ]
    }
   ],
   "source": [
    "temperatures = [-12, 0, 17]\n",
    "\n",
    "for t in temperatures:\n",
    "    if t > 0:\n",
    "        print(t, 'is above freezing')\n",
    "    elif t == 0:\n",
    "        print(t, 'is freezing')\n",
    "    else:\n",
    "        print(t, 'is below freezing')"
   ]
  },
  {
   "cell_type": "markdown",
   "metadata": {},
   "source": [
    "> **Note**: Pay careful attention to the indentation in the above code block (2 levels here). Think about the order that things are occuring to produce each of the three printed lines."
   ]
  },
  {
   "cell_type": "markdown",
   "metadata": {},
   "source": [
    "<div class=\"alert alert-block alert-warning\">\n",
    "<b>Task 1.11</b>\n",
    "\n",
    "Use this list: [1, (3, 4), 2.2, -1]. Loop through the list. For each item: `if` the data type is integer and greater than zero print it, `elif` the data type is tuple `pass` and do nothing (see [here](https://docs.python.org/3/tutorial/controlflow.html#pass-statements)), `else` print the data type.\n",
    "</div>"
   ]
  },
  {
   "cell_type": "markdown",
   "metadata": {},
   "source": [
    "\n",
    "One more conditional to touch upon is `while`. A `while` conditional loop executes a code block while some condition is `True`.\n",
    "\n",
    "> **Note:** Be careful with `while`. If your condition is never met the code will keep running forever! If that happens you need to \"Kernel > \"Interrupt\" in the top menu (or using the keyboard stroke `i, i`, which is the equivalent of `Ctrl + c` killing a process from the command line!\n",
    "\n",
    "Here's a small example:"
   ]
  },
  {
   "cell_type": "code",
   "execution_count": null,
   "metadata": {},
   "outputs": [],
   "source": [
    "# define some variable\n",
    "n = 10\n",
    "\n",
    "# define some threshold\n",
    "threshold = 8\n",
    "\n",
    "# reduce n until the threshold is reached\n",
    "while (n != threshold):\n",
    "    n -= 1\n",
    "    print(n)"
   ]
  },
  {
   "cell_type": "markdown",
   "metadata": {},
   "source": [
    "> **Note:** above we used a new arithmetic operator `-=`. This means take the variable and subtract whatever is to the right and assign this new value to the variable (the equivalent of n = n - 1, just more succinct). You can do this with `+=`, `*=`, and `/=`."
   ]
  },
  {
   "cell_type": "code",
   "execution_count": null,
   "metadata": {},
   "outputs": [],
   "source": [
    "# and here's a bad example requiring a keyboard interrupt\n",
    "n = 10\n",
    "threshold = 8.5\n",
    "while (n != threshold):\n",
    "    n -= 1\n",
    "    print(n)"
   ]
  },
  {
   "cell_type": "markdown",
   "metadata": {},
   "source": [
    "> **Note:** This created a huge list of values very quickly in the output below the code block. Navigate to \"Cell > Current Outputs > Clear\" with the above cell selected to clear this output before we go on."
   ]
  },
  {
   "cell_type": "markdown",
   "metadata": {},
   "source": [
    "___\n",
    "# List Comprehension\n",
    "\n",
    "This is an easy to use python feature that allows you to create new lists in a single succinct line of code. The general form is:\n",
    "\n",
    "```\n",
    "[f(val) for val in collection if condition]\n",
    "```\n",
    "\n",
    "which is much nicer than:\n",
    "\n",
    "```\n",
    "result = []\n",
    "for val in collection:\n",
    "    if condition:\n",
    "        result.append(f(val))\n",
    "```"
   ]
  },
  {
   "cell_type": "code",
   "execution_count": null,
   "metadata": {},
   "outputs": [],
   "source": [
    "# let's take a list numbers\n",
    "list_a = [0.1, 5, 16, 0.5, 1]\n",
    "\n",
    "# and create a new list from that of only\n",
    "# the number less than or equal to 1, and also convert\n",
    "# the numbers to strings\n",
    "list_b = [str(x) for x in list_a if x <= 1]\n",
    "\n",
    "print(list_b)"
   ]
  },
  {
   "cell_type": "markdown",
   "metadata": {},
   "source": [
    "<div class=\"alert alert-block alert-warning\">\n",
    "<b>Task 1.12</b>\n",
    "\n",
    "Use list comprehension on this list: [0, 2, 1.6, 10, 22.2] to create a new list of each value squared if the value is an integer. Use the built-in function [`isinstance`](https://docs.python.org/3/library/functions.html#isinstance) to check the data type.\n",
    "</div>"
   ]
  },
  {
   "cell_type": "markdown",
   "metadata": {},
   "source": [
    "___\n",
    "# Packages and Functions\n",
    "\n",
    "We've already seen how packages can be used to call functions (e.g., `np.round`) and we've also seen that python has a number of built in functions (e.g., `print`). Let's discuss functions a bit more here."
   ]
  },
  {
   "cell_type": "code",
   "execution_count": 115,
   "metadata": {},
   "outputs": [
    {
     "data": {
      "text/plain": [
       "np.float64(1.0)"
      ]
     },
     "execution_count": 115,
     "metadata": {},
     "output_type": "execute_result"
    }
   ],
   "source": [
    "# call sine from np\n",
    "np.sin(np.pi/2)"
   ]
  },
  {
   "cell_type": "markdown",
   "metadata": {},
   "source": [
    "> **Note:** In the above example $sin(\\pi/2)=1$ as we expect. This is an example of **floating point rounding** during arithmetic. You can read more about it in the official documentation [here](https://docs.python.org/3/tutorial/floatingpoint.html), or, if you really want to give yourself a headache: [here](https://docs.oracle.com/cd/E19957-01/806-3568/ncg_goldberg.html). We won't worry about these details now, but it's good to be aware of!\n",
    "\n",
    "NumPy has a lot of useful math functions, here are a few common ones:\n",
    "\n",
    "|function | purpose|\n",
    "|------------ |--------------|\n",
    "|abs(x)  | absolute value|\n",
    "|cos(x)        |cosine |\n",
    "|sin(x)       | sine |\n",
    "|tan(x)      |  tangent |\n",
    "|arccos(x)   |arccosine |\n",
    "|arcsin(x)    | arcsine |\n",
    "|arctan(x)    | arctangent |\n",
    "|exp(x)      |  exponential |\n",
    "|log(x)      |  natural logarithm ($ln$) |\n",
    "|log10(x)    |  base 10 log |\n",
    "|sqrt(x)    |   square root |\n",
    "\n",
    "**Functions** are organized, reusable code that take inputs and give outputs. Using them makes your code more readable and effective. We've used `numpy` and built in functions, but let's define our own function now:"
   ]
  },
  {
   "cell_type": "code",
   "execution_count": null,
   "metadata": {},
   "outputs": [],
   "source": [
    "# define a simple function\n",
    "def convert_meters_per_year_to_mm_per_month(annual_precip):\n",
    "    \"\"\"\n",
    "    Takes an annual precipitation in m/yr and converts it\n",
    "    to mm/month.\n",
    "    \"\"\"\n",
    "    value = annual_precip / 12 * 1000\n",
    "    return value"
   ]
  },
  {
   "cell_type": "markdown",
   "metadata": {},
   "source": [
    "* `def` is the function definition keyword\n",
    "* `convert_meters_per_year_to_mm_per_month` is the function name\n",
    "* `annual_precip` is the input parameter. It is a **positional** argument, but some functions also have **keyword** arguments. We'll see this later.\n",
    "* between the triple quotes is the **DocString** providing some function information\n",
    "* `value` is the calculated value to return\n",
    "* `return` is the return statement, or what the function outputs\n",
    "\n",
    "Our function name here is way too long. In a real code we would want to name it something simpler:"
   ]
  },
  {
   "cell_type": "code",
   "execution_count": null,
   "metadata": {},
   "outputs": [],
   "source": [
    "# same function, better name\n",
    "def precip_convert(annual_precip):\n",
    "    \"\"\"\n",
    "    Takes an annual precipitation in m/yr and converts it\n",
    "    to mm/month.\n",
    "    \"\"\"\n",
    "    value = annual_precip / 12 * 1000\n",
    "    return value"
   ]
  },
  {
   "cell_type": "markdown",
   "metadata": {},
   "source": [
    "Then, if we happen to forget what the function does, we can just get the DocString"
   ]
  },
  {
   "cell_type": "code",
   "execution_count": null,
   "metadata": {},
   "outputs": [],
   "source": [
    "precip_convert?"
   ]
  },
  {
   "cell_type": "markdown",
   "metadata": {},
   "source": [
    "> **Note:** A **local namespace** is created when the function is called and destroyed after the function finishes. That means that the variable `value` in our function definition `convert_precip` does not exist in the **global namespace** of our notebook. \n",
    "\n",
    "Now instead of writing out this math equation again and again, we can just call it repeatedly in a for loop."
   ]
  },
  {
   "cell_type": "markdown",
   "metadata": {},
   "source": [
    "<div class=\"alert alert-block alert-warning\">\n",
    "<b>Task 1.13</b>\n",
    "\n",
    "Use this list of annual precipitations in m/yr: [1, 0.5, 2]. Loop through the list, print the value (include the units in the print statement), convert the value to monthly precipitation, and print the converted value and units. In the second print statement, only print the monthly precip to 1 decimal place of significant digits: to do this, you'll need to use [string formatting](https://www.geeksforgeeks.org/python-format-function/).\n",
    "</div>"
   ]
  },
  {
   "cell_type": "markdown",
   "metadata": {},
   "source": [
    "> **Note:** The python function `format()` is just one way to accomplish string formatting, you may see a few other common ways as shown [here](https://realpython.com/python-string-formatting/)."
   ]
  },
  {
   "cell_type": "markdown",
   "metadata": {},
   "source": [
    "## Lambda Functions\n",
    "\n",
    "One last thing to briefly mention are `lambda` or **anonymous functions**. These are one-line functions that only take a single statement and don't receive a name. They take the form:\n",
    "```\n",
    "lambda x: do something to x\n",
    "```\n",
    "\n",
    "Which, is similar to how we say mathematically e.g., $f(x) = x^2$\n",
    "\n",
    "They're helpful when you need to do an operation repeatedly for a short period of time and don't want to add another whole function. Often they are used in conjunction with python's `map()`, `reduce()`, and `filter()` built-in functions, but we'll ignore those for now. \n",
    "\n",
    "In any case, it's good to know, so here's an example usage:"
   ]
  },
  {
   "cell_type": "code",
   "execution_count": null,
   "metadata": {},
   "outputs": [],
   "source": [
    "# define a function\n",
    "def key_function(x):\n",
    "    return x[1]\n",
    "\n",
    "# take a list\n",
    "a = [(1, 2), (3, 1), (5, 10), (11, -3)]\n",
    "\n",
    "# sort the list passing the key function\n",
    "# to the keyword argument 'key' in the list method 'sort()'\n",
    "a.sort(key=key_function)\n",
    "a"
   ]
  },
  {
   "cell_type": "markdown",
   "metadata": {},
   "source": [
    "The above code means: \"sort this list of objects from low to high and use the second value of each object (`x[1]`) to do the sorting\". \n",
    "\n",
    "vs. (with a lambda function)"
   ]
  },
  {
   "cell_type": "code",
   "execution_count": null,
   "metadata": {},
   "outputs": [],
   "source": [
    "a = [(1, 2), (3, 1), (5, 10), (11, -3)]\n",
    "\n",
    "# do the same thing but replace the function with\n",
    "# a temporary lambda call\n",
    "a.sort(key=lambda x: x[1])\n",
    "a"
   ]
  },
  {
   "cell_type": "markdown",
   "metadata": {},
   "source": [
    "> **Note:** Above we see a **keyword** call inside a function (`key=` inside `sort()`). Some functions (including ones you design with `def`) take optional **keyword arguments**, that default to some value if they aren't filled. "
   ]
  },
  {
   "cell_type": "markdown",
   "metadata": {},
   "source": [
    "<div class=\"alert alert-block alert-warning\">\n",
    "<b>Task 1.14</b>\n",
    "\n",
    "Create a new function with 2 input parameters. The function should take the square root of the first parameter, then divide that by the second parameter and return the result. Give the function a docstring. Call the function in a for loop over this list:\n",
    "\n",
    "foo = [(1, 2), (1.6, 5), (10, 2)]\n",
    "\n",
    "Print the output in the for loop. *IF* the final value is less than one, *THEN* format the printed string to have only 1 decimal place, *ELSE* print the value as is.\n",
    "</div>"
   ]
  },
  {
   "cell_type": "code",
   "execution_count": null,
   "metadata": {},
   "outputs": [],
   "source": []
  }
 ],
 "metadata": {
  "kernelspec": {
   "display_name": "Python 3 (ipykernel)",
   "language": "python",
   "name": "python3"
  },
  "language_info": {
   "codemirror_mode": {
    "name": "ipython",
    "version": 3
   },
   "file_extension": ".py",
   "mimetype": "text/x-python",
   "name": "python",
   "nbconvert_exporter": "python",
   "pygments_lexer": "ipython3",
   "version": "3.12.9"
  },
  "toc": {
   "base_numbering": 1,
   "nav_menu": {},
   "number_sections": false,
   "sideBar": true,
   "skip_h1_title": false,
   "title_cell": "Table of Contents",
   "title_sidebar": "Contents",
   "toc_cell": false,
   "toc_position": {
    "height": "calc(100% - 180px)",
    "left": "10px",
    "top": "150px",
    "width": "241px"
   },
   "toc_section_display": true,
   "toc_window_display": true
  }
 },
 "nbformat": 4,
 "nbformat_minor": 4
}
