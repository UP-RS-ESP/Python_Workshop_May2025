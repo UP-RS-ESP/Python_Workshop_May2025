{
 "cells": [
  {
   "cell_type": "markdown",
   "metadata": {},
   "source": [
    "# Introduction to Python Geo-data processing - 2\n",
    "\n",
    "## Outline\n",
    "* Explore `numpy` and learn about arrays\n",
    "* Explore `matplotlib` and create our first plots\n",
    "\n",
    "## Numpy\n",
    "- Harris et al. (2020) Numpy - https://www.nature.com/articles/s41586-020-2649-2\n",
    "- [The Matplotlib Tutorial](https://matplotlib.org/tutorials/introductory/pyplot.html)\n",
    "\n",
    "## Table of Contents\n",
    "* [NumPy: Array Programming](#NumPy:-Array-Programming)\n",
    "  * [NumPy `ndarray`](#NumPy-ndarray)\n",
    "  * [Array Indexing](#Array-Indexing)\n",
    "    * [3D Indexing](#3D-Indexing)\n",
    "    * [Boolean Indexing](#Boolean-Indexing)\n",
    "  * [NumPy Math](#NumPy-Math)\n",
    "* [Plotting With `matplotlib`](#Plotting-With-matplotlib)\n",
    "  "
   ]
  },
  {
   "cell_type": "code",
   "execution_count": 1,
   "metadata": {},
   "outputs": [],
   "source": [
    "# let's begin as we do in any python script by \n",
    "# importing some packages/modules\n",
    "import os, glob\n",
    "import numpy as np\n",
    "import matplotlib.pyplot as plt\n",
    "\n",
    "# and telling jupyter to keep the plots \"inline\"\n",
    "%matplotlib inline"
   ]
  },
  {
   "cell_type": "markdown",
   "metadata": {},
   "source": [
    "___\n",
    "# NumPy: Array Programming\n",
    "\n",
    "Until now we've used `numpy`, but haven't talked about it much. It's short for numerical python and it is _fast_ because it's mostly written in C. Many other packages in python actually rely on `numpy` as their \"engine\". Numpy is so important and foundational, a recent [Nature paper](https://www.nature.com/articles/s41586-020-2649-2) was written about it! Numpy provides the most important data type in data analysis, the **_ndarray_**. Let's learn more about this data type here.\n",
    "\n",
    "![](img/nature-numpy.png)\n",
    "\n",
    "via: https://www.nature.com/articles/s41586-020-2649-2/figures/2"
   ]
  },
  {
   "cell_type": "markdown",
   "metadata": {},
   "source": [
    "Let's start by seeing the speedup for a simple task using lists versus arrays."
   ]
  },
  {
   "cell_type": "code",
   "execution_count": 2,
   "metadata": {},
   "outputs": [
    {
     "name": "stdout",
     "output_type": "stream",
     "text": [
      "10000000\n"
     ]
    }
   ],
   "source": [
    "# let's take an integer and a HUGE list\n",
    "integer = 5\n",
    "big_list = list(range(10000000))\n",
    "print(len(big_list))"
   ]
  },
  {
   "cell_type": "markdown",
   "metadata": {},
   "source": [
    "What if we want to multiply every element in the list by that integer and produce a new list... well, we could:"
   ]
  },
  {
   "cell_type": "code",
   "execution_count": 3,
   "metadata": {},
   "outputs": [
    {
     "name": "stdout",
     "output_type": "stream",
     "text": [
      "CPU times: user 165 ms, sys: 91.3 ms, total: 257 ms\n",
      "Wall time: 269 ms\n"
     ]
    }
   ],
   "source": [
    "%%time\n",
    "# using list comprehension\n",
    "new_list = [x * integer for x in big_list]\n",
    "#print(new_list[0:10])"
   ]
  },
  {
   "cell_type": "markdown",
   "metadata": {},
   "source": [
    "> **Note** our use of the jupyter magic command `%%time`."
   ]
  },
  {
   "cell_type": "code",
   "execution_count": 4,
   "metadata": {},
   "outputs": [
    {
     "name": "stdout",
     "output_type": "stream",
     "text": [
      "this took 0.303 s or 0.01 minutes\n"
     ]
    }
   ],
   "source": [
    "# this is how you could time parts of your python codes\n",
    "import time\n",
    "time_start = time.time()\n",
    "new_list = [x * integer for x in big_list]\n",
    "time_stop = time.time()\n",
    "duration = time_stop - time_start\n",
    "print('this took %1.3f s or %1.2f minutes'%(duration, duration/60))"
   ]
  },
  {
   "cell_type": "code",
   "execution_count": 5,
   "metadata": {},
   "outputs": [
    {
     "name": "stdout",
     "output_type": "stream",
     "text": [
      "10000000\n"
     ]
    }
   ],
   "source": [
    "# let's do the same with numpy\n",
    "big_list2 = np.arange(10000000)\n",
    "print(len(big_list2))"
   ]
  },
  {
   "cell_type": "code",
   "execution_count": 6,
   "metadata": {},
   "outputs": [
    {
     "name": "stdout",
     "output_type": "stream",
     "text": [
      "CPU times: user 2.89 ms, sys: 13 ms, total: 15.9 ms\n",
      "Wall time: 15.5 ms\n"
     ]
    }
   ],
   "source": [
    "%%time \n",
    "# or, convert the list to a numpy array and then multiply\n",
    "array = big_list2 * integer\n",
    "#print(array[0:10])"
   ]
  },
  {
   "cell_type": "markdown",
   "metadata": {},
   "source": [
    "See, much faster. What's the type of this new object we created?"
   ]
  },
  {
   "cell_type": "code",
   "execution_count": 7,
   "metadata": {},
   "outputs": [
    {
     "data": {
      "text/plain": [
       "numpy.ndarray"
      ]
     },
     "execution_count": 7,
     "metadata": {},
     "output_type": "execute_result"
    }
   ],
   "source": [
    "type(array)"
   ]
  },
  {
   "cell_type": "markdown",
   "metadata": {},
   "source": [
    "> **Note:** What we saw here was an example of **vectorization**. Numpy allows you to replace for loops with array operations applied _element wise_ to the entire array at once and with highly optimized C and Fortran functions under the hood. Read more about that [here](https://realpython.com/numpy-array-programming/)."
   ]
  },
  {
   "cell_type": "markdown",
   "metadata": {},
   "source": [
    "## NumPy `ndarray`\n",
    "\n",
    "Here we created a new type of data the **`numpy.ndarray`**, or n-dimensional array. `arrays` are the most fundamental data structure when using python for data analysis. `arrays` are:\n",
    "* vectors in 1D (e.g., a one-dimensional time series of temperature values),\n",
    "* matrices in 2D (e.g., a two-dimensional elevation raster, or Digital Elevation Model),\n",
    "* and tensors in > 2D (e.g., a three-dimensional RGB image from a drone or satellite), \n",
    "\n",
    "that can be used to store and manipulate data. We will work more with `arrays` in subsequent notebooks, this is just a sneak peek."
   ]
  },
  {
   "cell_type": "code",
   "execution_count": 8,
   "metadata": {},
   "outputs": [
    {
     "name": "stdout",
     "output_type": "stream",
     "text": [
      "[[1 2 3]\n",
      " [4 2 0]\n",
      " [1 1 2]]\n"
     ]
    }
   ],
   "source": [
    "# at their simplest we can define a numpy array like so\n",
    "A = np.array([[1, 2, 3], [4,2,0], [1,1,2]])\n",
    "print(A)"
   ]
  },
  {
   "cell_type": "markdown",
   "metadata": {},
   "source": [
    "### NumPy shallow copies (pointers)\n",
    "\n",
    "Remember: Similar to lists, numpy arrays operate with pointers and generate shallow copies. You can use either `[:]` or `np.copy()` to generate deep copies."
   ]
  },
  {
   "cell_type": "code",
   "execution_count": 9,
   "metadata": {},
   "outputs": [
    {
     "name": "stdout",
     "output_type": "stream",
     "text": [
      "[1 2 3 4 5]\n"
     ]
    }
   ],
   "source": [
    "a = np.array([1,2,3,4,5])\n",
    "print(a)"
   ]
  },
  {
   "cell_type": "code",
   "execution_count": 10,
   "metadata": {},
   "outputs": [
    {
     "name": "stdout",
     "output_type": "stream",
     "text": [
      "a:  [1 2 4 4 5]\n",
      "b:  [1 2 4 4 5]\n"
     ]
    }
   ],
   "source": [
    "b = a\n",
    "b[2]=4\n",
    "print('a: ',a)\n",
    "print('b: ',b)"
   ]
  },
  {
   "cell_type": "markdown",
   "metadata": {},
   "source": [
    "Let's get a little fancier and define arrays with numpy's random number generator:"
   ]
  },
  {
   "cell_type": "code",
   "execution_count": 11,
   "metadata": {},
   "outputs": [],
   "source": [
    "# we'll use the numpy random numbers module to create some ndarrays\n",
    "np.random.seed(0) # we set the random number seed for reproducible numbers\n",
    "x1 = np.random.randint(10, size=4)  # One-dimensional array\n",
    "x2 = np.random.randint(10, size=(2, 3))  # Two-dimensional array\n",
    "x3 = np.random.randint(10, size=(2, 2, 3))  # Three-dimensional array"
   ]
  },
  {
   "cell_type": "markdown",
   "metadata": {},
   "source": [
    "> **Note:** Above we see another **keyword** in a function (`size=`). Some functions (including ones you design with `def`) take optional keyword arguments, that default to some value if they aren't filled. Check the `np.random.randint` docstring for more keywords, and to see the difference between a **positional** and **keyword** argument."
   ]
  },
  {
   "cell_type": "code",
   "execution_count": 12,
   "metadata": {},
   "outputs": [
    {
     "data": {
      "text/plain": [
       "\u001b[31mSignature:\u001b[39m np.random.randint(low, high=\u001b[38;5;28;01mNone\u001b[39;00m, size=\u001b[38;5;28;01mNone\u001b[39;00m, dtype=<\u001b[38;5;28;01mclass\u001b[39;00m \u001b[33m'int'\u001b[39m>)\n",
       "\u001b[31mDocstring:\u001b[39m\n",
       "randint(low, high=None, size=None, dtype=int)\n",
       "\n",
       "Return random integers from `low` (inclusive) to `high` (exclusive).\n",
       "\n",
       "Return random integers from the \"discrete uniform\" distribution of\n",
       "the specified dtype in the \"half-open\" interval [`low`, `high`). If\n",
       "`high` is None (the default), then results are from [0, `low`).\n",
       "\n",
       ".. note::\n",
       "    New code should use the `~numpy.random.Generator.integers`\n",
       "    method of a `~numpy.random.Generator` instance instead;\n",
       "    please see the :ref:`random-quick-start`.\n",
       "\n",
       "Parameters\n",
       "----------\n",
       "low : int or array-like of ints\n",
       "    Lowest (signed) integers to be drawn from the distribution (unless\n",
       "    ``high=None``, in which case this parameter is one above the\n",
       "    *highest* such integer).\n",
       "high : int or array-like of ints, optional\n",
       "    If provided, one above the largest (signed) integer to be drawn\n",
       "    from the distribution (see above for behavior if ``high=None``).\n",
       "    If array-like, must contain integer values\n",
       "size : int or tuple of ints, optional\n",
       "    Output shape.  If the given shape is, e.g., ``(m, n, k)``, then\n",
       "    ``m * n * k`` samples are drawn.  Default is None, in which case a\n",
       "    single value is returned.\n",
       "dtype : dtype, optional\n",
       "    Desired dtype of the result. Byteorder must be native.\n",
       "    The default value is long.\n",
       "\n",
       "    .. warning::\n",
       "      This function defaults to the C-long dtype, which is 32bit on windows\n",
       "      and otherwise 64bit on 64bit platforms (and 32bit on 32bit ones).\n",
       "      Since NumPy 2.0, NumPy's default integer is 32bit on 32bit platforms\n",
       "      and 64bit on 64bit platforms.  Which corresponds to `np.intp`.\n",
       "      (`dtype=int` is not the same as in most NumPy functions.)\n",
       "\n",
       "Returns\n",
       "-------\n",
       "out : int or ndarray of ints\n",
       "    `size`-shaped array of random integers from the appropriate\n",
       "    distribution, or a single such random int if `size` not provided.\n",
       "\n",
       "See Also\n",
       "--------\n",
       "random_integers : similar to `randint`, only for the closed\n",
       "    interval [`low`, `high`], and 1 is the lowest value if `high` is\n",
       "    omitted.\n",
       "random.Generator.integers: which should be used for new code.\n",
       "\n",
       "Examples\n",
       "--------\n",
       ">>> np.random.randint(2, size=10)\n",
       "array([1, 0, 0, 0, 1, 1, 0, 0, 1, 0]) # random\n",
       ">>> np.random.randint(1, size=10)\n",
       "array([0, 0, 0, 0, 0, 0, 0, 0, 0, 0])\n",
       "\n",
       "Generate a 2 x 4 array of ints between 0 and 4, inclusive:\n",
       "\n",
       ">>> np.random.randint(5, size=(2, 4))\n",
       "array([[4, 0, 2, 1], # random\n",
       "       [3, 2, 2, 0]])\n",
       "\n",
       "Generate a 1 x 3 array with 3 different upper bounds\n",
       "\n",
       ">>> np.random.randint(1, [3, 5, 10])\n",
       "array([2, 2, 9]) # random\n",
       "\n",
       "Generate a 1 by 3 array with 3 different lower bounds\n",
       "\n",
       ">>> np.random.randint([1, 5, 7], 10)\n",
       "array([9, 8, 7]) # random\n",
       "\n",
       "Generate a 2 by 4 array using broadcasting with dtype of uint8\n",
       "\n",
       ">>> np.random.randint([1, 3, 5, 7], [[10], [20]], dtype=np.uint8)\n",
       "array([[ 8,  6,  9,  7], # random\n",
       "       [ 1, 16,  9, 12]], dtype=uint8)\n",
       "\u001b[31mType:\u001b[39m      method"
      ]
     },
     "metadata": {},
     "output_type": "display_data"
    }
   ],
   "source": [
    "# read through the docstring and see what the default keyword arguments are\n",
    "np.random.randint?"
   ]
  },
  {
   "cell_type": "markdown",
   "metadata": {},
   "source": [
    "Let's have a look at the arrays we created."
   ]
  },
  {
   "cell_type": "code",
   "execution_count": 13,
   "metadata": {},
   "outputs": [
    {
     "name": "stdout",
     "output_type": "stream",
     "text": [
      "our 1D array has (dimensions, shape, size):  1 (4,) 4\n",
      "our 2D array has (dimensions, shape, size):  2 (2, 3) 6\n",
      "our 3D array has (dimensions, shape, size):  3 (2, 2, 3) 12\n"
     ]
    }
   ],
   "source": [
    "# print the array properties\n",
    "print('our 1D array has (dimensions, shape, size): ', \n",
    "      x1.ndim, x1.shape, x1.size)\n",
    "\n",
    "print('our 2D array has (dimensions, shape, size): ', \n",
    "      x2.ndim, x2.shape, x2.size)\n",
    "\n",
    "print('our 3D array has (dimensions, shape, size): ', \n",
    "      x3.ndim, x3.shape, x3.size)\n"
   ]
  },
  {
   "cell_type": "markdown",
   "metadata": {},
   "source": [
    "> **Note** our use of line breaks above. The lines were getting too long, but since everything is contained between brackets -- parentheses () in this case -- we can insert breaks and python will ignore them! Your broken line should be indented to make the code readable"
   ]
  },
  {
   "cell_type": "markdown",
   "metadata": {},
   "source": [
    "Let's print the arrays to view them"
   ]
  },
  {
   "cell_type": "code",
   "execution_count": 14,
   "metadata": {},
   "outputs": [
    {
     "data": {
      "text/plain": [
       "array([5, 0, 3, 3])"
      ]
     },
     "execution_count": 14,
     "metadata": {},
     "output_type": "execute_result"
    }
   ],
   "source": [
    "x1"
   ]
  },
  {
   "cell_type": "code",
   "execution_count": 15,
   "metadata": {},
   "outputs": [
    {
     "data": {
      "text/plain": [
       "array([[7, 9, 3],\n",
       "       [5, 2, 4]])"
      ]
     },
     "execution_count": 15,
     "metadata": {},
     "output_type": "execute_result"
    }
   ],
   "source": [
    "x2"
   ]
  },
  {
   "cell_type": "code",
   "execution_count": 16,
   "metadata": {},
   "outputs": [
    {
     "data": {
      "text/plain": [
       "array([[[7, 6, 8],\n",
       "        [8, 1, 6]],\n",
       "\n",
       "       [[7, 7, 8],\n",
       "        [1, 5, 9]]])"
      ]
     },
     "execution_count": 16,
     "metadata": {},
     "output_type": "execute_result"
    }
   ],
   "source": [
    "x3"
   ]
  },
  {
   "cell_type": "code",
   "execution_count": 17,
   "metadata": {},
   "outputs": [
    {
     "ename": "TypeError",
     "evalue": "'numpy.dtypes.Int64DType' object is not callable",
     "output_type": "error",
     "traceback": [
      "\u001b[31m---------------------------------------------------------------------------\u001b[39m",
      "\u001b[31mTypeError\u001b[39m                                 Traceback (most recent call last)",
      "\u001b[36mCell\u001b[39m\u001b[36m \u001b[39m\u001b[32mIn[17]\u001b[39m\u001b[32m, line 1\u001b[39m\n\u001b[32m----> \u001b[39m\u001b[32m1\u001b[39m \u001b[43mx1\u001b[49m\u001b[43m.\u001b[49m\u001b[43mdtype\u001b[49m\u001b[43m(\u001b[49m\u001b[43m)\u001b[49m\n",
      "\u001b[31mTypeError\u001b[39m: 'numpy.dtypes.Int64DType' object is not callable"
     ]
    }
   ],
   "source": [
    "x1.dtype()"
   ]
  },
  {
   "cell_type": "markdown",
   "metadata": {},
   "source": [
    "Oops, dtype is not callable, because it's an attribute with a value but NOT a function."
   ]
  },
  {
   "cell_type": "code",
   "execution_count": 18,
   "metadata": {},
   "outputs": [
    {
     "data": {
      "text/plain": [
       "dtype('int64')"
      ]
     },
     "execution_count": 18,
     "metadata": {},
     "output_type": "execute_result"
    }
   ],
   "source": [
    "x1.dtype"
   ]
  },
  {
   "cell_type": "markdown",
   "metadata": {},
   "source": [
    "<div class=\"alert alert-block alert-warning\">\n",
    "<b>Task 2.3</b>\n",
    "\n",
    "Use the function `np.arange` to create an array of 24 integers from 0 to 23. Call the `reshape` attribute function on this array to create an array of 4 rows by 6 columns.\n",
    "</div>"
   ]
  },
  {
   "cell_type": "code",
   "execution_count": 19,
   "metadata": {},
   "outputs": [
    {
     "name": "stdout",
     "output_type": "stream",
     "text": [
      "[ 0  1  2  3  4  5  6  7  8  9 10 11 12 13 14 15 16 17 18 19 20 21 22 23]\n",
      "\n",
      "[[ 0  1  2  3  4  5]\n",
      " [ 6  7  8  9 10 11]\n",
      " [12 13 14 15 16 17]\n",
      " [18 19 20 21 22 23]]\n"
     ]
    }
   ],
   "source": [
    "a = np.arange(24)\n",
    "print(a)\n",
    "print()\n",
    "print(a.reshape((4,6)))"
   ]
  },
  {
   "cell_type": "markdown",
   "metadata": {},
   "source": [
    "## Array Indexing\n",
    "\n",
    "How are arrays indexed? We already saw 0 indexing for lists, which are similar to 1D arrays"
   ]
  },
  {
   "cell_type": "code",
   "execution_count": 20,
   "metadata": {},
   "outputs": [
    {
     "name": "stdout",
     "output_type": "stream",
     "text": [
      "[5 0 3 3]\n",
      "5\n"
     ]
    }
   ],
   "source": [
    "# accessing by index on a 1D array\n",
    "print(x1)\n",
    "print(x1[0])"
   ]
  },
  {
   "cell_type": "code",
   "execution_count": 21,
   "metadata": {},
   "outputs": [
    {
     "name": "stdout",
     "output_type": "stream",
     "text": [
      "[5 0]\n"
     ]
    }
   ],
   "source": [
    "# and by slices, just like with lists and strings\n",
    "print(x1[0:2])"
   ]
  },
  {
   "cell_type": "code",
   "execution_count": 22,
   "metadata": {},
   "outputs": [
    {
     "name": "stdout",
     "output_type": "stream",
     "text": [
      "3\n",
      "[5 0 3]\n"
     ]
    }
   ],
   "source": [
    "# we can also index from the end of an array, like with lists and strings\n",
    "print(x1[-1])\n",
    "print(x1[0:-1])"
   ]
  },
  {
   "cell_type": "markdown",
   "metadata": {},
   "source": [
    "For > 1D arrays we can access items using a comma-separated tuple of indices. These indices refer to each **axis** of the array following the form `(axis 0, axis 1, axis 2, axis 3, ..., axis n)`. Axes are defined for arrays with more than one dimension. A 2-dimensional array has two corresponding axes: the first running vertically downwards across rows (axis 0), and the second running horizontally across columns (axis 1).\n",
    "\n",
    "\n",
    "![](img/mckinney_fig4-1-axes.png)\n",
    "\n",
    "\n",
    "via: \"Python for Data Analysis\" by Wes McKinney"
   ]
  },
  {
   "cell_type": "code",
   "execution_count": 23,
   "metadata": {},
   "outputs": [
    {
     "name": "stdout",
     "output_type": "stream",
     "text": [
      "[[7 9 3]\n",
      " [5 2 4]]\n",
      "7\n"
     ]
    }
   ],
   "source": [
    "# indexing in 2D\n",
    "print(x2)\n",
    "print(x2[0, 0])"
   ]
  },
  {
   "cell_type": "code",
   "execution_count": 24,
   "metadata": {},
   "outputs": [
    {
     "name": "stdout",
     "output_type": "stream",
     "text": [
      "[5 2 4]\n"
     ]
    }
   ],
   "source": [
    "# we can also take all the columns (axis=1) for a give row location (axis=0)\n",
    "print(x2[1, :])"
   ]
  },
  {
   "cell_type": "code",
   "execution_count": 25,
   "metadata": {},
   "outputs": [
    {
     "name": "stdout",
     "output_type": "stream",
     "text": [
      "[7 5]\n"
     ]
    }
   ],
   "source": [
    "# or all the rows (axis=0) from a given column (axis=1)\n",
    "print(x2[:, 0])"
   ]
  },
  {
   "cell_type": "code",
   "execution_count": 26,
   "metadata": {},
   "outputs": [
    {
     "name": "stdout",
     "output_type": "stream",
     "text": [
      "[[9 3]]\n"
     ]
    }
   ],
   "source": [
    "# or we can slice\n",
    "print(x2[0:-1, 1:])"
   ]
  },
  {
   "cell_type": "markdown",
   "metadata": {},
   "source": [
    "![](img/mckinney_fig4-2_2d_indexing.png)\n",
    "\n",
    "\n",
    "via: \"Python for Data Analysis\" by Wes McKinney"
   ]
  },
  {
   "cell_type": "markdown",
   "metadata": {},
   "source": [
    "### 3D Indexing\n",
    "\n",
    "Numpy axes can be difficult to understand, especially in higher dimensions. Let's use our 3D array to explore this."
   ]
  },
  {
   "cell_type": "code",
   "execution_count": 27,
   "metadata": {},
   "outputs": [
    {
     "name": "stdout",
     "output_type": "stream",
     "text": [
      "the 3D array shape is: (2, 2, 3)\n",
      "\n",
      "[[[7 6 8]\n",
      "  [8 1 6]]\n",
      "\n",
      " [[7 7 8]\n",
      "  [1 5 9]]]\n"
     ]
    }
   ],
   "source": [
    "print('the 3D array shape is:', x3.shape)\n",
    "print()\n",
    "print(x3)"
   ]
  },
  {
   "cell_type": "code",
   "execution_count": 28,
   "metadata": {},
   "outputs": [
    {
     "name": "stdout",
     "output_type": "stream",
     "text": [
      "7\n",
      "\n",
      "7\n"
     ]
    }
   ],
   "source": [
    "print(x3[0, 0, 0])\n",
    "print()\n",
    "print(x3[1, 0, 0])"
   ]
  },
  {
   "cell_type": "code",
   "execution_count": 29,
   "metadata": {},
   "outputs": [
    {
     "name": "stdout",
     "output_type": "stream",
     "text": [
      "[[7 6 8]\n",
      " [8 1 6]]\n",
      "\n",
      "[[7 7 8]\n",
      " [1 5 9]]\n"
     ]
    }
   ],
   "source": [
    "print(x3[0, :, :])\n",
    "print()\n",
    "print(x3[1, :, :])"
   ]
  },
  {
   "cell_type": "code",
   "execution_count": 30,
   "metadata": {},
   "outputs": [
    {
     "name": "stdout",
     "output_type": "stream",
     "text": [
      "[[7 7]\n",
      " [1 5]]\n"
     ]
    }
   ],
   "source": [
    "print(x3[1, 0:2, 0:2])"
   ]
  },
  {
   "cell_type": "markdown",
   "metadata": {},
   "source": [
    "From the above experiments we can see that the array shape of (2, 2, 3) refers to: \"two, two by three arrays\". In other words, two \"stacked\" arrays where each array has two rows and three columns. Let's explore the `axis` definitions in more detail using the `sum()` attribute function."
   ]
  },
  {
   "cell_type": "code",
   "execution_count": 31,
   "metadata": {},
   "outputs": [
    {
     "name": "stdout",
     "output_type": "stream",
     "text": [
      "[[[7 6 8]\n",
      "  [8 1 6]]\n",
      "\n",
      " [[7 7 8]\n",
      "  [1 5 9]]]\n",
      "\n",
      "sum along axis 0:\n",
      " [[14 13 16]\n",
      " [ 9  6 15]]\n",
      "\n",
      "sum along axis 1:\n",
      " [[15  7 14]\n",
      " [ 8 12 17]]\n",
      "\n",
      "sum along axis 2:\n",
      " [[21 15]\n",
      " [22 15]]\n"
     ]
    }
   ],
   "source": [
    "print(x3)\n",
    "print('\\nsum along axis 0:\\n', x3.sum(axis=0)) # add ALONG depth (\"stacked\" arrays)\n",
    "print()\n",
    "print('sum along axis 1:\\n', x3.sum(axis=1)) # add ALONG vertical axis (rows)\n",
    "print()\n",
    "print('sum along axis 2:\\n', x3.sum(axis=2)) # add ALONG horizontal axis (cols)"
   ]
  },
  {
   "cell_type": "markdown",
   "metadata": {},
   "source": [
    "<div class=\"alert alert-block alert-warning\">\n",
    "<b>Task 2.4</b>\n",
    "\n",
    "Create an array using the function `np.linspace` with 20 values between 0 and 1. Use `reshape` to reshape the 1D array into a 3D array of 2 depth, 5 rows, and 2 columns. Take the sum along the depth dimension. \n",
    "</div>"
   ]
  },
  {
   "cell_type": "code",
   "execution_count": 32,
   "metadata": {},
   "outputs": [
    {
     "data": {
      "text/plain": [
       "(100, 2000, 1500)"
      ]
     },
     "execution_count": 32,
     "metadata": {},
     "output_type": "execute_result"
    }
   ],
   "source": [
    "# let's create a large array (this will take a few seconds):\n",
    "xyz = np.random.random(size=(100,2000,1500))\n",
    "xyz.shape"
   ]
  },
  {
   "cell_type": "code",
   "execution_count": 33,
   "metadata": {},
   "outputs": [
    {
     "data": {
      "text/plain": [
       "2400.0"
      ]
     },
     "execution_count": 33,
     "metadata": {},
     "output_type": "execute_result"
    }
   ],
   "source": [
    "xyz.nbytes / 1e6"
   ]
  },
  {
   "cell_type": "markdown",
   "metadata": {},
   "source": [
    "#### let's get mean values along the different dimensions"
   ]
  },
  {
   "cell_type": "code",
   "execution_count": 34,
   "metadata": {},
   "outputs": [
    {
     "name": "stdout",
     "output_type": "stream",
     "text": [
      "(2000, 1500)\n",
      "CPU times: user 174 ms, sys: 3.94 ms, total: 178 ms\n",
      "Wall time: 178 ms\n"
     ]
    }
   ],
   "source": [
    "%%time\n",
    "xyz_mean0 = np.mean(xyz, axis=0)\n",
    "print(xyz_mean0.shape)"
   ]
  },
  {
   "cell_type": "code",
   "execution_count": 35,
   "metadata": {},
   "outputs": [
    {
     "data": {
      "text/plain": [
       "array([[0.51830291, 0.4737915 , 0.45956264, ..., 0.47900511, 0.48655791,\n",
       "        0.55453133],\n",
       "       [0.51626042, 0.47755167, 0.53056794, ..., 0.57573017, 0.49776592,\n",
       "        0.51709082],\n",
       "       [0.51797231, 0.48199004, 0.54824358, ..., 0.55483083, 0.47303778,\n",
       "        0.49418389],\n",
       "       ...,\n",
       "       [0.50215716, 0.48964583, 0.48481212, ..., 0.51599813, 0.50526867,\n",
       "        0.5252673 ],\n",
       "       [0.50439495, 0.47596853, 0.43274766, ..., 0.48644162, 0.4938341 ,\n",
       "        0.49688719],\n",
       "       [0.52450069, 0.4792202 , 0.49895217, ..., 0.52692725, 0.48863938,\n",
       "        0.50322769]], shape=(2000, 1500))"
      ]
     },
     "execution_count": 35,
     "metadata": {},
     "output_type": "execute_result"
    }
   ],
   "source": [
    "xyz_mean0"
   ]
  },
  {
   "cell_type": "markdown",
   "metadata": {},
   "source": [
    "#### this is what a for loop implementation looks like:"
   ]
  },
  {
   "cell_type": "code",
   "execution_count": 36,
   "metadata": {},
   "outputs": [
    {
     "name": "stdout",
     "output_type": "stream",
     "text": [
      "CPU times: user 7.78 s, sys: 3.92 ms, total: 7.78 s\n",
      "Wall time: 7.78 s\n"
     ]
    }
   ],
   "source": [
    "%%time\n",
    "xyz_mean0_forloop = np.empty( (xyz.shape[1], xyz.shape[2]) )\n",
    "xyz_mean0_forloop.fill(np.nan)\n",
    "\n",
    "for i in range(xyz.shape[1]):\n",
    "    for j in range(xyz.shape[2]):\n",
    "        xyz_mean0_forloop[i, j] = np.mean(xyz[:, i, j])"
   ]
  },
  {
   "cell_type": "code",
   "execution_count": 37,
   "metadata": {},
   "outputs": [
    {
     "data": {
      "text/plain": [
       "array([[0.51830291, 0.4737915 , 0.45956264, ..., 0.47900511, 0.48655791,\n",
       "        0.55453133],\n",
       "       [0.51626042, 0.47755167, 0.53056794, ..., 0.57573017, 0.49776592,\n",
       "        0.51709082],\n",
       "       [0.51797231, 0.48199004, 0.54824358, ..., 0.55483083, 0.47303778,\n",
       "        0.49418389],\n",
       "       ...,\n",
       "       [0.50215716, 0.48964583, 0.48481212, ..., 0.51599813, 0.50526867,\n",
       "        0.5252673 ],\n",
       "       [0.50439495, 0.47596853, 0.43274766, ..., 0.48644162, 0.4938341 ,\n",
       "        0.49688719],\n",
       "       [0.52450069, 0.4792202 , 0.49895217, ..., 0.52692725, 0.48863938,\n",
       "        0.50322769]], shape=(2000, 1500))"
      ]
     },
     "execution_count": 37,
     "metadata": {},
     "output_type": "execute_result"
    }
   ],
   "source": [
    "xyz_mean0_forloop"
   ]
  },
  {
   "cell_type": "code",
   "execution_count": 38,
   "metadata": {},
   "outputs": [
    {
     "data": {
      "text/plain": [
       "array([[ True,  True,  True, ...,  True,  True,  True],\n",
       "       [ True,  True,  True, ...,  True,  True,  True],\n",
       "       [ True,  True,  True, ...,  True,  True,  True],\n",
       "       ...,\n",
       "       [ True,  True,  True, ...,  True,  True,  True],\n",
       "       [ True,  True,  True, ...,  True,  True,  True],\n",
       "       [ True,  True,  True, ...,  True,  True,  True]],\n",
       "      shape=(2000, 1500))"
      ]
     },
     "execution_count": 38,
     "metadata": {},
     "output_type": "execute_result"
    }
   ],
   "source": [
    "#np.all(np.round(xyz_mean0, 8) == np.round(xyz_mean0_forloop, 8))\n",
    "np.round(xyz_mean0, 8) == np.round(xyz_mean0_forloop, 8)"
   ]
  },
  {
   "cell_type": "markdown",
   "metadata": {},
   "source": [
    "#### back to the other dimensions"
   ]
  },
  {
   "cell_type": "code",
   "execution_count": 39,
   "metadata": {},
   "outputs": [
    {
     "name": "stdout",
     "output_type": "stream",
     "text": [
      "(100, 1500)\n",
      "CPU times: user 113 ms, sys: 4.83 ms, total: 118 ms\n",
      "Wall time: 115 ms\n"
     ]
    }
   ],
   "source": [
    "%%time\n",
    "xyz_mean1 = np.mean(xyz, axis=1)\n",
    "print(xyz_mean1.shape)"
   ]
  },
  {
   "cell_type": "code",
   "execution_count": 40,
   "metadata": {},
   "outputs": [
    {
     "name": "stdout",
     "output_type": "stream",
     "text": [
      "(100, 2000)\n",
      "CPU times: user 109 ms, sys: 41 μs, total: 109 ms\n",
      "Wall time: 107 ms\n"
     ]
    }
   ],
   "source": [
    "%%time\n",
    "xyz_mean2 = np.mean(xyz, axis=2)\n",
    "print(xyz_mean2.shape)"
   ]
  },
  {
   "cell_type": "markdown",
   "metadata": {},
   "source": [
    "### Boolean Indexing\n",
    "\n",
    "We can also index using **boolean indexing**. For instance consider this array:"
   ]
  },
  {
   "cell_type": "code",
   "execution_count": 44,
   "metadata": {},
   "outputs": [
    {
     "data": {
      "text/plain": [
       "array([[1, 5, 7],\n",
       "       [0, 1, 9],\n",
       "       [2, 4, 1]])"
      ]
     },
     "execution_count": 44,
     "metadata": {},
     "output_type": "execute_result"
    }
   ],
   "source": [
    "a = np.array([[1, 5, 7], [0, 1, 9], [2, 4, 1]])\n",
    "a"
   ]
  },
  {
   "cell_type": "markdown",
   "metadata": {},
   "source": [
    "Let's find all the places where this array is 1:"
   ]
  },
  {
   "cell_type": "code",
   "execution_count": 45,
   "metadata": {},
   "outputs": [
    {
     "data": {
      "text/plain": [
       "array([[ True, False, False],\n",
       "       [False,  True, False],\n",
       "       [False, False,  True]])"
      ]
     },
     "execution_count": 45,
     "metadata": {},
     "output_type": "execute_result"
    }
   ],
   "source": [
    "a == 1"
   ]
  },
  {
   "cell_type": "markdown",
   "metadata": {},
   "source": [
    "We see that this conditional call returned a boolean array of True and False. Now we can create a new array using this syntax of only the ones in our array:"
   ]
  },
  {
   "cell_type": "code",
   "execution_count": 46,
   "metadata": {},
   "outputs": [
    {
     "data": {
      "text/plain": [
       "array([1, 1, 1])"
      ]
     },
     "execution_count": 46,
     "metadata": {},
     "output_type": "execute_result"
    }
   ],
   "source": [
    "new_array = a[a == 1]\n",
    "new_array"
   ]
  },
  {
   "cell_type": "markdown",
   "metadata": {},
   "source": [
    "Or to show off another numpy function:"
   ]
  },
  {
   "cell_type": "code",
   "execution_count": 47,
   "metadata": {},
   "outputs": [
    {
     "name": "stdout",
     "output_type": "stream",
     "text": [
      "(array([0, 1, 2]), array([0, 1, 2]))\n"
     ]
    }
   ],
   "source": [
    "ind = np.where(a == 1)\n",
    "print(ind)"
   ]
  },
  {
   "cell_type": "markdown",
   "metadata": {},
   "source": [
    "`np.where` gives a tuple containing the index values of each location where the conditional is true (separated by axis into two tuples of array and dtype of the index). Hence the length 2 tuple for a 2D array."
   ]
  },
  {
   "cell_type": "code",
   "execution_count": 48,
   "metadata": {},
   "outputs": [
    {
     "data": {
      "text/plain": [
       "array([1, 1, 1])"
      ]
     },
     "execution_count": 48,
     "metadata": {},
     "output_type": "execute_result"
    }
   ],
   "source": [
    "new_array = a[ind]\n",
    "new_array"
   ]
  },
  {
   "cell_type": "markdown",
   "metadata": {},
   "source": [
    "<div class=\"alert alert-block alert-warning\">\n",
    "<b>Task 2.5</b>\n",
    "\n",
    "Use the indices of this array of names where the name is Berlin:\n",
    "\n",
    "np.array(['Berlin', 'Potsdam', 'Spandau', 'Berlin', 'Golm'])\n",
    "\n",
    "to pull out the corresponding rows at the same index from this array:\n",
    "\n",
    "np.array([[1, 5], [2, 7], [1, 4], [1, 5], [2, 6]]) \n",
    "</div>"
   ]
  },
  {
   "cell_type": "code",
   "execution_count": null,
   "metadata": {},
   "outputs": [],
   "source": []
  },
  {
   "cell_type": "markdown",
   "metadata": {
    "jp-MarkdownHeadingCollapsed": true
   },
   "source": [
    "### Answer"
   ]
  },
  {
   "cell_type": "code",
   "execution_count": 118,
   "metadata": {},
   "outputs": [
    {
     "data": {
      "text/plain": [
       "array([ True, False, False,  True, False])"
      ]
     },
     "execution_count": 118,
     "metadata": {},
     "output_type": "execute_result"
    }
   ],
   "source": [
    "names = np.array(['Berlin', 'Potsdam', 'Spandau', 'Berlin', 'Golm'])\n",
    "names_idx = names == 'Berlin'\n",
    "names_idx"
   ]
  },
  {
   "cell_type": "code",
   "execution_count": 119,
   "metadata": {},
   "outputs": [
    {
     "data": {
      "text/plain": [
       "array([[1, 5],\n",
       "       [1, 5]])"
      ]
     },
     "execution_count": 119,
     "metadata": {},
     "output_type": "execute_result"
    }
   ],
   "source": [
    "b = np.array([[1, 5], [2, 7], [1, 4], [1, 5], [2, 6]]) \n",
    "b[names_idx]"
   ]
  },
  {
   "cell_type": "markdown",
   "metadata": {},
   "source": [
    "## NumPy Math\n",
    "\n",
    "Math operations on numpy arrays is a huge topic, so we'll just quickly introduce it. The basic concept to take away from this is that numpy arrays are easy to manipulate mathematically, often with highly optimized built in functions.\n",
    "\n",
    "We can use our math operators on numpy arrays as we saw above"
   ]
  },
  {
   "cell_type": "code",
   "execution_count": 49,
   "metadata": {},
   "outputs": [
    {
     "name": "stdout",
     "output_type": "stream",
     "text": [
      "[5 0 3 3]\n",
      "\n",
      "[[7 9 3]\n",
      " [5 2 4]]\n"
     ]
    },
    {
     "ename": "ValueError",
     "evalue": "operands could not be broadcast together with shapes (4,) (2,3) ",
     "output_type": "error",
     "traceback": [
      "\u001b[31m---------------------------------------------------------------------------\u001b[39m",
      "\u001b[31mValueError\u001b[39m                                Traceback (most recent call last)",
      "\u001b[36mCell\u001b[39m\u001b[36m \u001b[39m\u001b[32mIn[49]\u001b[39m\u001b[32m, line 5\u001b[39m\n\u001b[32m      3\u001b[39m \u001b[38;5;28mprint\u001b[39m()\n\u001b[32m      4\u001b[39m \u001b[38;5;28mprint\u001b[39m(x2)\n\u001b[32m----> \u001b[39m\u001b[32m5\u001b[39m \u001b[43mx1\u001b[49m\u001b[43m \u001b[49m\u001b[43m+\u001b[49m\u001b[43m \u001b[49m\u001b[43mx2\u001b[49m\n",
      "\u001b[31mValueError\u001b[39m: operands could not be broadcast together with shapes (4,) (2,3) "
     ]
    }
   ],
   "source": [
    "# add two arrays\n",
    "print(x1)\n",
    "print()\n",
    "print(x2)\n",
    "x1 + x2"
   ]
  },
  {
   "cell_type": "markdown",
   "metadata": {},
   "source": [
    "Oops, that doesn't work because math operators on two arrays act **element-wise**"
   ]
  },
  {
   "cell_type": "code",
   "execution_count": 50,
   "metadata": {},
   "outputs": [
    {
     "data": {
      "text/plain": [
       "array([[2., 2., 2., 2., 2.],\n",
       "       [2., 2., 2., 2., 2.],\n",
       "       [2., 2., 2., 2., 2.],\n",
       "       [2., 2., 2., 2., 2.],\n",
       "       [2., 2., 2., 2., 2.]])"
      ]
     },
     "execution_count": 50,
     "metadata": {},
     "output_type": "execute_result"
    }
   ],
   "source": [
    "added_arrays = np.ones((5, 5)) + np.ones((5,5))\n",
    "added_arrays"
   ]
  },
  {
   "cell_type": "markdown",
   "metadata": {},
   "source": [
    "There we created two size (5, 5) arrays with the built in numpy function `ones`, which populates the array with... ones! Since the arrays are the same size we can add them and get an array of... twos!"
   ]
  },
  {
   "cell_type": "code",
   "execution_count": 51,
   "metadata": {},
   "outputs": [
    {
     "data": {
      "text/plain": [
       "array([[20., 20., 20., 20., 20.],\n",
       "       [20., 20., 20., 20., 20.],\n",
       "       [20., 20., 20., 20., 20.],\n",
       "       [20., 20., 20., 20., 20.],\n",
       "       [20., 20., 20., 20., 20.]])"
      ]
     },
     "execution_count": 51,
     "metadata": {},
     "output_type": "execute_result"
    }
   ],
   "source": [
    "# and as we saw before a scalar propagates to each element of the array\n",
    "added_arrays * 10"
   ]
  },
  {
   "cell_type": "markdown",
   "metadata": {},
   "source": [
    "<div class=\"alert alert-block alert-warning\">\n",
    "<b>Task 2.6</b>\n",
    "\n",
    "Create two 2D arrays filled with random numbers between 0 and 10 with shapes (2, 3). Multiply them by one another. Divide the resulting array by 0.5. What is the resulting shape and dtype?\n",
    "</div>"
   ]
  },
  {
   "cell_type": "markdown",
   "metadata": {},
   "source": [
    "There are also many numpy functions for [**linear algebra**](https://numpy.org/doc/stable/reference/routines.linalg.html) on arrays. For example the `dot` function that takes the dot product, or [matrix multiplication](https://en.wikipedia.org/wiki/Matrix_multiplication#Definition), of two arrays:"
   ]
  },
  {
   "cell_type": "code",
   "execution_count": 52,
   "metadata": {},
   "outputs": [
    {
     "name": "stdout",
     "output_type": "stream",
     "text": [
      "[[1 0]\n",
      " [0 1]]\n",
      "\n",
      "[[4 1]\n",
      " [2 2]]\n"
     ]
    }
   ],
   "source": [
    "a = np.array([[1, 0], [0, 1]])\n",
    "b = np.array([[4, 1], [2, 2]])\n",
    "\n",
    "print(a)\n",
    "print()\n",
    "print(b)"
   ]
  },
  {
   "cell_type": "code",
   "execution_count": 53,
   "metadata": {},
   "outputs": [
    {
     "name": "stdout",
     "output_type": "stream",
     "text": [
      "[[4 0]\n",
      " [0 2]]\n"
     ]
    }
   ],
   "source": [
    "# element wise\n",
    "print(a * b)"
   ]
  },
  {
   "cell_type": "code",
   "execution_count": 54,
   "metadata": {},
   "outputs": [
    {
     "name": "stdout",
     "output_type": "stream",
     "text": [
      "[[4 1]\n",
      " [2 2]]\n",
      "\n",
      "[[4 1]\n",
      " [2 2]]\n"
     ]
    }
   ],
   "source": [
    "# matrix multiplication (dot product)\n",
    "print(np.dot(a, b))\n",
    "\n",
    "print()\n",
    "\n",
    "# or alternatively\n",
    "print(a @ b)"
   ]
  },
  {
   "cell_type": "markdown",
   "metadata": {},
   "source": [
    "![](img/matrix-mult.png)\n",
    "\n",
    "\n",
    "via: https://www.sharetechnote.com/html/Handbook_EngMath_Matrix_Multiplication.html\n",
    "\n",
    "(Ignore the indexing from 1 ;)\n"
   ]
  },
  {
   "cell_type": "markdown",
   "metadata": {},
   "source": [
    "___\n",
    "# Plotting With `matplotlib`\n",
    "\n",
    "To wrap up this notebook (and day), we'll make our first figures (and see a couple more useful `numpy` functions on the way). The possibilities with plotting are endless and you'll learn a lot simply by \"doing\" during this course and others, so this is just a short intro.\n",
    " \n",
    "First, let's calculate $\\sin()$ of `x` between 0$^\\circ$ and 360$^\\circ$"
   ]
  },
  {
   "cell_type": "code",
   "execution_count": 55,
   "metadata": {},
   "outputs": [
    {
     "data": {
      "text/plain": [
       "array([  0.,  40.,  80., 120., 160., 200., 240., 280., 320., 360.])"
      ]
     },
     "execution_count": 55,
     "metadata": {},
     "output_type": "execute_result"
    }
   ],
   "source": [
    "# Defining arrays with a fixed number of increments\n",
    "x = np.linspace(0, 360, 10)\n",
    "x"
   ]
  },
  {
   "cell_type": "code",
   "execution_count": 56,
   "metadata": {},
   "outputs": [
    {
     "data": {
      "text/plain": [
       "array([0.        , 0.6981317 , 1.3962634 , 2.0943951 , 2.7925268 ,\n",
       "       3.4906585 , 4.1887902 , 4.88692191, 5.58505361, 6.28318531])"
      ]
     },
     "execution_count": 56,
     "metadata": {},
     "output_type": "execute_result"
    }
   ],
   "source": [
    "# note that we need to convert angles to radians, \n",
    "# we could multiply by pi/180, or...\n",
    "x = np.deg2rad(x)\n",
    "x"
   ]
  },
  {
   "cell_type": "markdown",
   "metadata": {},
   "source": [
    "`np.linspace` is a numpy function to create an array. It takes the form `np.linspace(start, stop, num)`, where `start` is the first values, `stop` is the last, and `num` is the number of equally spaced steps."
   ]
  },
  {
   "cell_type": "code",
   "execution_count": 57,
   "metadata": {},
   "outputs": [
    {
     "data": {
      "text/plain": [
       "array([0. , 0.5, 1. , 1.5, 2. , 2.5, 3. , 3.5, 4. , 4.5, 5. , 5.5, 6. ])"
      ]
     },
     "execution_count": 57,
     "metadata": {},
     "output_type": "execute_result"
    }
   ],
   "source": [
    "# alternatively define an array using fixed width between values\n",
    "# note we use 2*pi here rather than 360, \n",
    "# hence we can skip the angle to radian conversion\n",
    "x = np.arange(0., 2 * np.pi, 0.5)\n",
    "x"
   ]
  },
  {
   "cell_type": "markdown",
   "metadata": {},
   "source": [
    "Now `np.arange(start, stop, step)` gives us the `step` value, which increases from `start` up until (but not above) the `stop` value.\n",
    "\n",
    "`arange` and `linspace` are ways to create simple 1D arrays."
   ]
  },
  {
   "cell_type": "code",
   "execution_count": 58,
   "metadata": {},
   "outputs": [
    {
     "name": "stdout",
     "output_type": "stream",
     "text": [
      "[ 0.          0.47942554  0.84147098  0.99749499  0.90929743  0.59847214\n",
      "  0.14112001 -0.35078323 -0.7568025  -0.97753012 -0.95892427 -0.70554033\n",
      " -0.2794155 ]\n"
     ]
    }
   ],
   "source": [
    "# with some x range defined we can calculate sin(x)\n",
    "y = np.sin(x)\n",
    "print(y)"
   ]
  },
  {
   "cell_type": "markdown",
   "metadata": {},
   "source": [
    "Let's visualize the results!\n",
    "\n",
    "Here's short list of common terms when plotting:\n",
    "\n",
    "* **axis** - Axis of the graph that are typically x and y\n",
    "* **title** - Title of the whole plot\n",
    "* **label** - Name for the data plotted\n",
    "* **legend** - Legend containing the labels\n",
    "* **tick label** - Text or values that are on the axis.\n",
    "* **marker** - Symbol for data (e.g., circles, crosses, squares, etc.)\n",
    "* **linestyle** - Style of the line (e.g., solid or dashed)\n",
    "* **linewidth** - Width of the line\n",
    "* **tick(s)** - Tick marks on a plot"
   ]
  },
  {
   "cell_type": "code",
   "execution_count": 59,
   "metadata": {},
   "outputs": [
    {
     "data": {
      "text/plain": [
       "[<matplotlib.lines.Line2D at 0x700a9757c4a0>]"
      ]
     },
     "execution_count": 59,
     "metadata": {},
     "output_type": "execute_result"
    },
    {
     "data": {
      "image/png": "[encoded data removed]",
      "text/plain": [
       "<Figure size 640x480 with 1 Axes>"
      ]
     },
     "metadata": {},
     "output_type": "display_data"
    }
   ],
   "source": [
    "# at it's absolute simplest, to quickly have a look at some data\n",
    "plt.plot(x, y)"
   ]
  },
  {
   "cell_type": "markdown",
   "metadata": {},
   "source": [
    "We could easily add to this plot with more `plt` calls, however, we're going to learn a higher-level, more useful way to create plots and add elements."
   ]
  },
  {
   "cell_type": "code",
   "execution_count": 60,
   "metadata": {},
   "outputs": [
    {
     "data": {
      "image/png": "[encoded data removed]",
      "text/plain": [
       "<Figure size 500x300 with 1 Axes>"
      ]
     },
     "metadata": {},
     "output_type": "display_data"
    }
   ],
   "source": [
    "fig, ax = plt.subplots(nrows=1, ncols=1, figsize=(5, 3))"
   ]
  },
  {
   "cell_type": "markdown",
   "metadata": {},
   "source": [
    "This `plt.subplots()` function created a blank figure (`fig`) and axis (`ax`) object with a single subplot (one row and one column, note the **keyword arguments** in `subplots()`). We also set a figure size, which in python is given by default in inches (5 inches wide by 3 inches tall). We could make more subplots also (and increase the figure size):"
   ]
  },
  {
   "cell_type": "code",
   "execution_count": 61,
   "metadata": {},
   "outputs": [
    {
     "data": {
      "image/png": "[encoded data removed]",
      "text/plain": [
       "<Figure size 1500x1000 with 4 Axes>"
      ]
     },
     "metadata": {},
     "output_type": "display_data"
    }
   ],
   "source": [
    "fig, axes = plt.subplots(nrows=2, ncols=2, figsize=(15, 10))"
   ]
  },
  {
   "cell_type": "markdown",
   "metadata": {},
   "source": [
    "Here the `axes` array object now contains four objects, one for each axis. The shape of the `axes` array matches the shape of the subplots, so `axes[0, 0]` is the top left and `axes[1, 1]` is the bottom right\n",
    "\n",
    "For now, we just need one subplot though, so let's go back to our first example and plot the data"
   ]
  },
  {
   "cell_type": "code",
   "execution_count": 62,
   "metadata": {},
   "outputs": [
    {
     "data": {
      "text/plain": [
       "[<matplotlib.lines.Line2D at 0x700a96a2e8d0>]"
      ]
     },
     "execution_count": 62,
     "metadata": {},
     "output_type": "execute_result"
    },
    {
     "data": {
      "image/png": "[encoded data removed]",
      "text/plain": [
       "<Figure size 500x300 with 1 Axes>"
      ]
     },
     "metadata": {},
     "output_type": "display_data"
    }
   ],
   "source": [
    "fig, ax = plt.subplots(nrows=1, ncols=1, figsize=(5, 3))\n",
    "ax.plot(x, y)"
   ]
  },
  {
   "cell_type": "markdown",
   "metadata": {},
   "source": [
    "We can see this created a line plot, but what if we wanted to see the data points?"
   ]
  },
  {
   "cell_type": "code",
   "execution_count": 63,
   "metadata": {},
   "outputs": [
    {
     "data": {
      "text/plain": [
       "<matplotlib.collections.PathCollection at 0x700a96328740>"
      ]
     },
     "execution_count": 63,
     "metadata": {},
     "output_type": "execute_result"
    },
    {
     "data": {
      "image/png": "[encoded data removed]",
      "text/plain": [
       "<Figure size 500x300 with 1 Axes>"
      ]
     },
     "metadata": {},
     "output_type": "display_data"
    }
   ],
   "source": [
    "fig, ax = plt.subplots(nrows=1, ncols=1, figsize=(5, 3))\n",
    "ax.scatter(x, y)"
   ]
  },
  {
   "cell_type": "markdown",
   "metadata": {},
   "source": [
    "So now we've seen two **types of plots**: a **line plot** and a **scatter plot**. There are too many plot types to name (see some good examples [here](https://matplotlib.org/3.1.1/tutorials/introductory/sample_plots.html)), so let's leave it at that for now and make the figure look nice with a few more commands."
   ]
  },
  {
   "cell_type": "code",
   "execution_count": 64,
   "metadata": {},
   "outputs": [
    {
     "data": {
      "text/plain": [
       "[<matplotlib.lines.Line2D at 0x700a963bb410>]"
      ]
     },
     "execution_count": 64,
     "metadata": {},
     "output_type": "execute_result"
    },
    {
     "data": {
      "image/png": "[encoded data removed]",
      "text/plain": [
       "<Figure size 500x300 with 1 Axes>"
      ]
     },
     "metadata": {},
     "output_type": "display_data"
    }
   ],
   "source": [
    "fig, ax = plt.subplots(nrows=1, ncols=1, figsize=(5, 3))\n",
    "\n",
    "# the plot command takes many keyword arguments, let's use a few\n",
    "ax.plot(x, y, marker='X', color='r', linewidth=2, markersize=10)"
   ]
  },
  {
   "cell_type": "markdown",
   "metadata": {},
   "source": [
    "Now let's add the elements that **every plot you make should have**: axis labels!"
   ]
  },
  {
   "cell_type": "code",
   "execution_count": 65,
   "metadata": {},
   "outputs": [
    {
     "data": {
      "text/plain": [
       "Text(0.5, 0, 'x')"
      ]
     },
     "execution_count": 65,
     "metadata": {},
     "output_type": "execute_result"
    },
    {
     "data": {
      "image/png": "[encoded data removed]",
      "text/plain": [
       "<Figure size 500x300 with 1 Axes>"
      ]
     },
     "metadata": {},
     "output_type": "display_data"
    }
   ],
   "source": [
    "fig, ax = plt.subplots(nrows=1, ncols=1, figsize=(5, 3))\n",
    "\n",
    "# the plot command takes many keyword arguments, let's use a few\n",
    "ax.plot(x, y, marker='X', color='r', linewidth=2, markersize=10)\n",
    "\n",
    "# label the axes\n",
    "ax.set_ylabel('sin(x)')\n",
    "ax.set_xlabel('x')"
   ]
  },
  {
   "cell_type": "markdown",
   "metadata": {},
   "source": [
    "Let's also calculate the $\\cos(x)$ and plot that in a different color and marker"
   ]
  },
  {
   "cell_type": "code",
   "execution_count": 66,
   "metadata": {},
   "outputs": [
    {
     "data": {
      "text/plain": [
       "Text(0.5, 0, 'x')"
      ]
     },
     "execution_count": 66,
     "metadata": {},
     "output_type": "execute_result"
    },
    {
     "data": {
      "image/png": "[encoded data removed]",
      "text/plain": [
       "<Figure size 500x300 with 1 Axes>"
      ]
     },
     "metadata": {},
     "output_type": "display_data"
    }
   ],
   "source": [
    "fig, ax = plt.subplots(nrows=1, ncols=1, figsize=(5, 3))\n",
    "\n",
    "# the plot command takes many keyword arguments, let's use a few\n",
    "ax.plot(x, y, marker='X', color='r', linewidth=2, markersize=10)\n",
    "ax.plot(x, np.cos(x), marker='s', color='b', linewidth=2, markersize=10)\n",
    "\n",
    "# label the axes\n",
    "ax.set_ylabel('sin(x) or cos(x)')\n",
    "ax.set_xlabel('x')"
   ]
  },
  {
   "cell_type": "markdown",
   "metadata": {},
   "source": [
    "But which line is which!? If you are plotting more than one thing make sure you include a **legend**"
   ]
  },
  {
   "cell_type": "code",
   "execution_count": 67,
   "metadata": {},
   "outputs": [
    {
     "data": {
      "text/plain": [
       "<matplotlib.legend.Legend at 0x700a962a2d20>"
      ]
     },
     "execution_count": 67,
     "metadata": {},
     "output_type": "execute_result"
    },
    {
     "data": {
      "image/png": "[encoded data removed]",
      "text/plain": [
       "<Figure size 500x300 with 1 Axes>"
      ]
     },
     "metadata": {},
     "output_type": "display_data"
    }
   ],
   "source": [
    "fig, ax = plt.subplots(nrows=1, ncols=1, figsize=(5, 3))\n",
    "\n",
    "# the plot command takes many keyword arguments, let's use a few\n",
    "# here we add the 'label' keyword argument, which will be used in\n",
    "# the legend call below!\n",
    "ax.plot(x, y, marker='X', color='r', linewidth=2, \n",
    "        markersize=10, label='sin')\n",
    "\n",
    "ax.plot(x, np.cos(x), marker='s', color='b', linewidth=2, \n",
    "        markersize=10, label='cos')\n",
    "\n",
    "# label the axes\n",
    "ax.set_ylabel('sin(x) or cos(x)')\n",
    "ax.set_xlabel('x')\n",
    "\n",
    "# add a legend - NOTE we added the 'label' keyword to the two plot calls also\n",
    "ax.legend()"
   ]
  },
  {
   "cell_type": "markdown",
   "metadata": {},
   "source": [
    "Last, but certainly not least, let's save out our plot to a new directory called `figures`"
   ]
  },
  {
   "cell_type": "code",
   "execution_count": 68,
   "metadata": {},
   "outputs": [],
   "source": [
    "# create a new directory that we'll use throughout the course\n",
    "if not os.path.exists('figures/'):\n",
    "    os.mkdir('figures/')"
   ]
  },
  {
   "cell_type": "markdown",
   "metadata": {},
   "source": [
    "> **Note** our use of a conditional statement to check whether the figures directory already exists using `os.path.exists(directory_name)`, which returns a boolean True if it does."
   ]
  },
  {
   "cell_type": "markdown",
   "metadata": {},
   "source": [
    "When it's time to output a figure I add the `constrained_layout=True` argument below. It's fairly new in python and really useful for eliminating white space around the figure. We also added a grid and zero line for reference, and a title for good measure. \n",
    "\n",
    "**Pretty plots are important.** The better you present your data, often the more convincing your argument. Plus you look more professional when you make nice looking figures."
   ]
  },
  {
   "cell_type": "code",
   "execution_count": 69,
   "metadata": {},
   "outputs": [
    {
     "data": {
      "image/png": "[encoded data removed]",
      "text/plain": [
       "<Figure size 500x300 with 1 Axes>"
      ]
     },
     "metadata": {},
     "output_type": "display_data"
    }
   ],
   "source": [
    "fig, ax = plt.subplots(nrows=1, ncols=1, figsize=(5, 3),\n",
    "                      constrained_layout=True)\n",
    "\n",
    "# the plot command takes many keyword arguments, let's use a few\n",
    "ax.plot(x, y, marker='X', color='r', linewidth=2, \n",
    "        markersize=10, label='$sin(x)$')\n",
    "\n",
    "ax.plot(x, np.cos(x), marker='s', color='b', linewidth=2, \n",
    "        markersize=10, label='$cos(x)$')\n",
    "\n",
    "# label the axes\n",
    "ax.set_ylabel('$sin(x)$ or $cos(x)$', fontsize=12)\n",
    "ax.set_xlabel('x', fontsize=12)\n",
    "\n",
    "# add a legend\n",
    "ax.legend(fontsize=12)\n",
    "\n",
    "# let's also add a grid and zero line for reference\n",
    "ax.grid(lw=0.5)\n",
    "ax.hlines(0, xmin=0, xmax=2*np.pi, color='k')\n",
    "\n",
    "# we'll also add a title\n",
    "ax.set_title('my first figure, yay', fontsize=14)\n",
    "\n",
    "# save the figure at two resolutions\n",
    "plt.savefig('figures/NB02_fig01_sin_cos.png')\n",
    "plt.savefig('figures/NB02_fig01_sin_cos-hi-res.png', dpi=600)"
   ]
  },
  {
   "cell_type": "markdown",
   "metadata": {},
   "source": [
    "<div class=\"alert alert-block alert-warning\">\n",
    "<b>Task 2.7</b>\n",
    "\n",
    "\n",
    "Define 20 x values over the range 1-10. Calculate two y-variables: the exponential of x ($e^x$) and the natural log of x ($ln(x)$). Create a two panel figure (two subplots: one row, two columns). In the left plot, show a connected scatter with _black circle_ symbols and lines of $e^x$. Use the [`semilogy()`](https://matplotlib.org/3.1.1/api/_as_gen/matplotlib.pyplot.semilogy.html) plotting function. On the right plot, show a connected scatter with _gray plus_ symbols and lines of $ln(x)$ with linear (_not log_) x and y scales. BOTH subplots should contain:\n",
    "\n",
    "* title\n",
    "* axis labels\n",
    "* grid lines\n",
    "* legends with appropriate labels\n",
    "    \n",
    "Save the plot in the `figures` subdirectory with the name `NB02_fig02_exp_ln` as a `.png` with a resolution of 300 DPI AND save the figure with the same name but as a `.pdf` with a resolution of 150 DPI (see [here](https://matplotlib.org/3.1.1/api/_as_gen/matplotlib.pyplot.savefig.html)).\n",
    "</div>"
   ]
  },
  {
   "cell_type": "markdown",
   "metadata": {},
   "source": [
    "> **Note:** .pdf files are [vector graphics](https://en.wikipedia.org/wiki/Vector_graphics), which can draw smooth lines, whereas .png files are [raster graphics](https://en.wikipedia.org/wiki/Raster_graphics), which can only draw lines by pixel approximation."
   ]
  },
  {
   "cell_type": "markdown",
   "metadata": {},
   "source": [
    "## Plotting images with matplotlib"
   ]
  },
  {
   "cell_type": "code",
   "execution_count": 77,
   "metadata": {},
   "outputs": [],
   "source": [
    "x = np.arange(0., 2 * np.pi, 0.1)\n",
    "y = np.arange(0., 2 * np.pi, 0.1)\n",
    "X, Y = np.meshgrid(x, y)\n"
   ]
  },
  {
   "cell_type": "code",
   "execution_count": 78,
   "metadata": {},
   "outputs": [
    {
     "data": {
      "text/plain": [
       "array([[0. , 0.1, 0.2, ..., 6. , 6.1, 6.2],\n",
       "       [0. , 0.1, 0.2, ..., 6. , 6.1, 6.2],\n",
       "       [0. , 0.1, 0.2, ..., 6. , 6.1, 6.2],\n",
       "       ...,\n",
       "       [0. , 0.1, 0.2, ..., 6. , 6.1, 6.2],\n",
       "       [0. , 0.1, 0.2, ..., 6. , 6.1, 6.2],\n",
       "       [0. , 0.1, 0.2, ..., 6. , 6.1, 6.2]], shape=(63, 63))"
      ]
     },
     "execution_count": 78,
     "metadata": {},
     "output_type": "execute_result"
    }
   ],
   "source": [
    "X"
   ]
  },
  {
   "cell_type": "code",
   "execution_count": 79,
   "metadata": {},
   "outputs": [],
   "source": [
    "Z = np.sin(X) + np.cos(Y)"
   ]
  },
  {
   "cell_type": "code",
   "execution_count": 80,
   "metadata": {},
   "outputs": [
    {
     "data": {
      "text/plain": [
       "array([[1.        , 1.09983342, 1.19866933, ..., 0.7205845 , 0.8178375 ,\n",
       "        0.9169106 ],\n",
       "       [0.99500417, 1.09483758, 1.1936735 , ..., 0.71558867, 0.81284166,\n",
       "        0.91191476],\n",
       "       [0.98006658, 1.07989999, 1.17873591, ..., 0.70065108, 0.79790407,\n",
       "        0.89697718],\n",
       "       ...,\n",
       "       [0.96017029, 1.0600037 , 1.15883962, ..., 0.68075479, 0.77800778,\n",
       "        0.87708088],\n",
       "       [0.98326844, 1.08310186, 1.18193777, ..., 0.70385294, 0.80110593,\n",
       "        0.90017904],\n",
       "       [0.9965421 , 1.09637551, 1.19521143, ..., 0.7171266 , 0.81437959,\n",
       "        0.91345269]], shape=(63, 63))"
      ]
     },
     "execution_count": 80,
     "metadata": {},
     "output_type": "execute_result"
    }
   ],
   "source": [
    "Z"
   ]
  },
  {
   "cell_type": "code",
   "execution_count": 82,
   "metadata": {},
   "outputs": [
    {
     "data": {
      "text/plain": [
       "(<matplotlib.image.AxesImage at 0x700a95f87c50>,\n",
       " <matplotlib.colorbar.Colorbar at 0x700a95f484a0>)"
      ]
     },
     "execution_count": 82,
     "metadata": {},
     "output_type": "execute_result"
    },
    {
     "data": {
      "image/png": "[encoded data removed]",
      "text/plain": [
       "<Figure size 640x480 with 2 Axes>"
      ]
     },
     "metadata": {},
     "output_type": "display_data"
    }
   ],
   "source": [
    "plt.imshow(Z), plt.colorbar()"
   ]
  },
  {
   "cell_type": "code",
   "execution_count": 83,
   "metadata": {},
   "outputs": [
    {
     "data": {
      "image/png": "[encoded data removed]",
      "text/plain": [
       "<Figure size 500x300 with 2 Axes>"
      ]
     },
     "metadata": {},
     "output_type": "display_data"
    }
   ],
   "source": [
    "fig, ax = plt.subplots(nrows=1, ncols=1, figsize=(5, 3),\n",
    "                      constrained_layout=True)\n",
    "\n",
    "# the plot command takes many keyword arguments, let's use a few\n",
    "im0 = ax.imshow(Z)\n",
    "h = plt.colorbar(im0, ax=ax)\n",
    "h.set_label('elevation (m)')\n"
   ]
  }
 ],
 "metadata": {
  "kernelspec": {
   "display_name": "Py3_geodata",
   "language": "python",
   "name": "py3_geodata"
  },
  "language_info": {
   "codemirror_mode": {
    "name": "ipython",
    "version": 3
   },
   "file_extension": ".py",
   "mimetype": "text/x-python",
   "name": "python",
   "nbconvert_exporter": "python",
   "pygments_lexer": "ipython3",
   "version": "3.12.10"
  },
  "toc": {
   "base_numbering": 1,
   "nav_menu": {},
   "number_sections": false,
   "sideBar": true,
   "skip_h1_title": false,
   "title_cell": "Table of Contents",
   "title_sidebar": "Contents",
   "toc_cell": false,
   "toc_position": {},
   "toc_section_display": true,
   "toc_window_display": true
  }
 },
 "nbformat": 4,
 "nbformat_minor": 4
}
