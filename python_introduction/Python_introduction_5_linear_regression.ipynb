{
 "cells": [
  {
   "cell_type": "markdown",
   "metadata": {},
   "source": [
    "# Some thoughts on linear Regressions\n",
    "\n",
    "## Outline\n",
    "* Linear regression:\n",
    "    * Least squares\n",
    "    * Correlation\n",
    "    * Goodness of fit\n",
    "* Python implementation of linear regression\n",
    "* Significance and uncertainties\n",
    "* Linear regression on Tempelhof temperature\n",
    "* Weighted linear regression\n",
    "\n",
    "## Additional Reading\n",
    "- Chapters 7, 8, 9, 10, 11, and 12 (_they are very short chapters!_) in \"Think Stats\" by Allen B. Downey, available open-source [here](https://greenteapress.com/wp/think-stats-2e/)\n",
    "- Derivation of least squares regression from James Kirchner [here](http://seismo.berkeley.edu/~kirchner/eps_120/Toolkits/Toolkit_10.pdf)\n",
    "- Retire Statistical Significance, Comment in Nature - [here](https://media.nature.com/original/magazine-assets/d41586-019-00857-9/d41586-019-00857-9.pdf)\n",
    "\n",
    "\n",
    "\n",
    "## Table of Contents\n",
    "* [Least Squares Linear Regression](#Least-Squares-Linear-Regression)\n",
    "  * [Correlation](#Correlation)\n",
    "  * [Goodness-of-Fit](#Goodness-of-Fit)\n",
    "* [`numpy` Least Squares](#numpy-Least-Squares)\n",
    "* [`scipy` Least Squares](#scipy-Least-Squares)\n",
    "* [Uncertainties and Significance](#Uncertainties-and-Significance)\n",
    "  * [Hypothesis Testing](#Hypothesis-Testing)\n",
    "  * [Linear Regression Case](#Linear-Regression-Case)\n",
    "  * [Standard Error](#Standard-Error)\n",
    "  * [$t$-statistic and Confidence Intervals](#$t$-statistic-and-Confidence-Intervals)\n",
    "* [Uncertainties in Python](#Uncertainties-in-Python)\n",
    "* [Linear Regression on Real Data](#Linear-Regression-on-Real-Data)\n",
    "  * [Aggregate Summer Temperatures](#Aggregate-Summer-Temperatures)\n",
    "  * [Regression: 1948-2019](#Regression:-1948-2019)\n",
    "* [Weighted Least Squares](#Weighted-Least-Squares-(WLS)-Regression)\n",
    "\n",
    "___"
   ]
  },
  {
   "cell_type": "markdown",
   "metadata": {},
   "source": [
    "In this notebook we'll deal entirely with linear regressions from theory to implementation. We'll discuss quality metrics of linear fits and in the end we'll apply what we've learned to fitting on our climate data from Berlin-Tempelhof."
   ]
  },
  {
   "cell_type": "code",
   "execution_count": 1,
   "metadata": {},
   "outputs": [],
   "source": [
    "import numpy as np\n",
    "import pandas as pd\n",
    "import matplotlib.pyplot as plt\n",
    "%matplotlib inline\n",
    "\n",
    "# scipy is a big library, and we only need the \"stats\" and \"optimize\" module\n",
    "from scipy import stats\n",
    "from scipy import optimize"
   ]
  },
  {
   "cell_type": "markdown",
   "metadata": {},
   "source": [
    "___\n",
    "# Least Squares Linear Regression\n",
    "\n",
    "\n",
    "**Least squares regression** is a common way of determining whether two values are **linearly** related to one an other. In other words, this is a method to determine whether a line is a good \"fit\" to some measured values.\n",
    "\n",
    "![](img/wiki-lin-reg.png)\n",
    "\n",
    "\n",
    "via: https://en.wikipedia.org/wiki/Regression_analysis\n",
    "\n",
    "The general idea with calculating a **linear regression** is that we want to find the equation of a line (the blue line above) that best fits some $x$-$y$ data (the red points above). To do this, we first need to recall the equation for a line:\n",
    "\n",
    "\\begin{equation}\n",
    "  \\large\n",
    "  y = A + B x\n",
    "\\end{equation}\n",
    "\n",
    "where $x$ and $y$ are the coordinates of the data points, $A$ is the $y$-intercept, and $B$ is the slope of the line.\n",
    "\n",
    "Thus, in order to calculate a \"best fit\" line to some data, we will need to determine the values of the constants $A$ and $B$. Consider the example below in which $A$ and $B$ are known. If we make the rather common assumption that the uncertainties for the values on the $x$ axis are negligible compared to the uncertainties along the $y$ axis, we can say:\n",
    "\n",
    "\\begin{equation}\n",
    "  \\large\n",
    "  f(x_i) = (\\mathrm{true~value~of~}y_{i}) = A + B x_{i}\n",
    "\\end{equation}\n",
    "\n",
    "Thus, it is possible to find the value of $y$ for two linearly related values when $A$ and $B$ are known and the $x$ error is negligible. The best fit values of $A$ and $B$ should minimize the error between the true $y_i$ values and the predicted value, $f(x_i)$. \n",
    "\n",
    "A **goodness-of-fit** calculation provides a way in which we can assess how well a set of predictions \"fit\" some observed or measured values. The equation that we seek to minimize is the **sum of squared residuals** (hence, _least squares regression_):\n",
    "\n",
    "\\begin{equation}\n",
    "  \\large\n",
    "  SSR = \\sum_{i=1}^{n}{(y_i - f(x_i))^2}\n",
    "\\end{equation}\n",
    "\n",
    "The values $(y_i-f(x_i))$ are typically referred to as the **residuals** and are the difference between the predicted and actual response (or, dependent) variable, and $n$ above is the number of $x$-$y$ pairs. Squaring the difference:\n",
    "\n",
    "* Cancels out positive or negative differences\n",
    "* Penalizes larger misfits more (e.g., a difference of 1 gives a residual of $1^2=1$, whereas a difference of 3 gives a residual of $3^2=9$)\n",
    "\n",
    "![](img/real-python-lin-reg.png)\n",
    "\n",
    "\n",
    "via: https://realpython.com/linear-regression-in-python/\n",
    "\n",
    "Using $SSR$ minimization we end up deriving equations (via algebra and calculus) to predict $A$ and $B$. You can read a full derivation on this [StackExchange post](https://math.stackexchange.com/a/131602), or on [**this sheet from James Kirchner**](http://seismo.berkeley.edu/~kirchner/eps_120/Toolkits/Toolkit_10.pdf). In the end, the value of the slope ($B$) and $y$-intercept ($A$) can be found using:\n",
    "\n",
    "\n",
    "\\begin{equation}\n",
    "  \\large\n",
    "  B = \\frac{ \\sum_{i=1}^{n}{ (x_i - \\bar{x}) (y_i - \\bar{y}) }} { \\sum_{i=1}^{n}{(x_i - \\bar{x})^2}} = \\frac{Cov(x, y)}{Var(x)}\n",
    "\\end{equation}\n",
    "\n",
    "\\begin{equation}\n",
    "  \\large\n",
    "  A = \\bar{y} - B\\bar{x}\n",
    "\\end{equation}\n",
    "\n",
    "where $x_i$ and $y_i$ are the $i$-th data points plotted on the $x$- and $y$-axis, respectively, and $\\bar{x}$ and $\\bar{y}$ are the **mean** of the $x$ and $y$ values, respectively. The numerator of $B$ is typically termed the **covariance** ($Cov$) of $x$ and $y$, whereas the denominator is the **variance** ($Var$) of $x$. Note that the square root of $Var(x)$ is the sample **standard deviation** ($\\sigma$), so $Var$ often appears as $\\sigma^2$. As a reminder, the equations for mean and standard deviation (which is the dispersion about the mean) are:\n",
    "\n",
    "\\begin{equation}\n",
    "    \\large\n",
    "    \\bar{x}=\\frac{\\sum_{i=1}^{n}{x_i}}{n}\n",
    "\\end{equation}\n",
    "\n",
    "\\begin{equation}\n",
    "    \\large\n",
    "    \\sigma=\\sqrt{\\frac{\\sum_{i=1}^{n}{(x_i - \\bar{x})^2}}{n}}\n",
    "\\end{equation}"
   ]
  },
  {
   "cell_type": "markdown",
   "metadata": {},
   "source": [
    "## Correlation\n",
    "\n",
    "The **correlation** between two variables can be assessed using the **correlation coefficient** $r$, also known as the Pearson correlation coefficient. $r$ ranges between -1 to 1, with a value of 1 reflecting data that perfectly fit a line with a positive slope, a value of -1 representing data that perfectly fit a line with a negative slope, and a value around 0 representing data that either are not correlated or do not fit a straight line. \n",
    "\n",
    "![](img/wiki-pearson-r.png)\n",
    "\n",
    "via: https://en.wikipedia.org/wiki/Pearson_correlation_coefficient\n",
    "\n",
    "> **Note:** Above, the top row has linear relationships with a range of correlations. The second row shows perfect\n",
    "correlations with a range of slopes. The third row shows variables that are clearly related, but because the relationship is non-linear, the correlation coefficient is 0. This is why you should _always_ examine scatter plots of data prior to fitting models.\n",
    "\n",
    "There are a few ways to calculate the correlation coefficient, but most commonly you may see:\n",
    "\n",
    "\\begin{equation}\n",
    "    \\large\n",
    "    r = \\frac{\\sum_{i=1}^{n}{\\left(x_{i} - \\bar{x} \\right)\\left(y_{i} - \\bar{y} \\right)}}{\\sqrt{\\sum_{i=1}^{n}{\\left(x_{i} - \\bar{x} \\right)^2} \\sum_{i=1}^{n}{\\left(y_{i} - \\bar{y} \\right)^2}}}\n",
    "\\end{equation}\n",
    "\n",
    "This provides us with a measure of how well the $x$-$y$ data are linearly related. In the numerator, the raw scores are centered by subtracting out the mean of each variable, and the cross-products of the centered variables are summed. This is the $Cov(x,y)$ that we saw above. The denominator adjusts the scales of the variables to have equal units by dividing by the spread, or standard deviation, of the variables.\n",
    " "
   ]
  },
  {
   "cell_type": "markdown",
   "metadata": {},
   "source": [
    "## Goodness-of-Fit\n",
    "\n",
    "Besides the regression coefficients and correlation, we also would like to know how well our model fits the observations. In a sense we already have such a metric from our $SSR$ equation. However, there exist additional metrics to know. \n",
    "\n",
    "One simple metric is the **coefficient of determination** $R^2$. In the case of linear regression the $R^2$ term is simply calculated as the square of $r$ (a derivation can be found [here](https://rstudio-pubs-static.s3.amazonaws.com/525390_e1a9ebaca1984ff3a2e17f99a66ea5c9.html#r-squared-and-correlation)). $R^2$ ranges from 0 to 1 with 1 indicating a perfect fit. In its most general form, it is calculated as:\n",
    "\n",
    "\\begin{equation}\n",
    "    \\large\n",
    "    R^2 = 1 - \\frac{\\sum_{i=1}^{n}{(y_i - f(x_i))^2}}{\\sum_{i=1}^{n}{(y_i - \\bar{y})^2}}\n",
    "\\end{equation}\n",
    "\n",
    "where you may note that the numerator is our $SSR$ equation shown above, and the denominator is often termed the total sum of squares $SST$, and is the $Var(y)$. $R^2$ is the ratio between the variance in $y$ that is \"explained\" by the regression, and the total variance in $y$. As an example, an $R^2$ value of 0.88 means that 88% of the variability in $y$ is captured by the regression.\n",
    "\n",
    "![](img/r2-wiki.png)\n",
    "\n",
    "\n",
    "via: https://en.wikipedia.org/wiki/Coefficient_of_determination"
   ]
  },
  {
   "cell_type": "markdown",
   "metadata": {},
   "source": [
    "Additional metrics for goodness of fit include the **mean square error** $MSE$, calculated as the $SSR$ over the number of model free parameters:\n",
    "\n",
    "\\begin{equation}\n",
    "    \\large\n",
    "    MSE = \\frac{SSR}{n-p}\n",
    "\\end{equation}\n",
    "\n",
    "where the denominator $(n-p)$ is the statistical **degrees of freedom**, or sample size $n$ reduced by number of fitted coefficients $p$, which is 2 in the case of simple linear regression. $MSE$ measures the average error. The **root mean square error** $RMSE$ for a linear regression with $p=2$ is simply:\n",
    "\n",
    "\\begin{equation}\n",
    "    \\large\n",
    "    RMSE = \\sqrt{\\frac{SSR}{n-2}}\n",
    "\\end{equation}\n",
    "\n",
    "In many cases you will see this equation without the $-2$ (or $-p$) in the denominator, since $p$ is usually very small compared to $n$ leading to little difference in the calculation. See a good discussion [here.](https://stats.stackexchange.com/questions/401533/does-the-rmse-formula-have-a-k-in-the-denominator)\n",
    "\n",
    "As with $SSR$, values of $RMSE$ closer to 0 indicate better fit. The $RMSE$ is often called the **standard error of the regression**. $RMSE$ is analogous to the standard deviation of the residuals. Again, the formula for standard deviation within a population of a variable (as opposed to within the residuals for $RMSE$) is:\n",
    "\n",
    "\\begin{equation}\n",
    "    \\large\n",
    "    \\sigma=\\sqrt{\\frac{\\sum_{i=1}^{n}{(x_i - \\bar{x})^2}}{n}}\n",
    "\\end{equation}"
   ]
  },
  {
   "cell_type": "markdown",
   "metadata": {},
   "source": [
    "> **Note: [$R^2$ is not valid for non-linear regressions!!](https://statisticsbyjim.com/regression/r-squared-invalid-nonlinear-regression/)**... And if you need a reminder about the difference between linear and non-linear models, [thank Jim again](https://statisticsbyjim.com/regression/difference-between-linear-nonlinear-regression-models/). Basically in linear models you can only add or subtract parameters, like $A$ and $B$ in our equation for a line, but in non-linear you can do everything else (multiply, divide, exponent, etc.). For non-linear the $MSE$ and $RMSE$ can be used, but these do not provide an absolute goodness-of-fit between 0 and 1 like $R^2$, where 1 is a perfect fit. Generally, non-linear models need to be tested against a range of parameters and models to find a good fit, such as using the [likelihood ratio](https://en.wikipedia.org/wiki/Likelihood-ratio_test)."
   ]
  },
  {
   "cell_type": "markdown",
   "metadata": {},
   "source": [
    "___\n",
    "# `numpy` Least Squares\n",
    "\n",
    "The above theory is important for understanding the principles underlying linear regression (and for that matter, higher order regressions). Our goal in this section is examine a few implementations of least squares linear regression in the python packages `numpy` and `scipy`. \n",
    "\n",
    "Let's begin by creating some \"toy\", or synthetic, data. We'll use known constants for $A$ and $B$ to create our data, add some noise, then try and come up with the regression coefficients via least squares."
   ]
  },
  {
   "cell_type": "code",
   "execution_count": 2,
   "metadata": {},
   "outputs": [],
   "source": [
    "# first create an array of x values, our independent variable\n",
    "x = np.arange(1, 11, 1)\n",
    "\n",
    "# now generate a linear regression using KNOWN constants\n",
    "A = 1\n",
    "B = -2\n",
    "y = A + B * x\n",
    "\n",
    "# let's also add some normal (Gaussian) noise \n",
    "# with mean=0 and standard deviation=1\n",
    "np.random.seed(42) # this line allows for reproducible creation of the same random numbers\n",
    "noise = np.random.normal(0, 1, size=len(y))\n",
    "y = y + noise\n",
    "\n",
    "# get the size of the data\n",
    "n = x.size"
   ]
  },
  {
   "cell_type": "code",
   "execution_count": 3,
   "metadata": {},
   "outputs": [
    {
     "data": {
      "image/png": "[encoded data removed]",
      "text/plain": [
       "<Figure size 640x480 with 1 Axes>"
      ]
     },
     "metadata": {},
     "output_type": "display_data"
    }
   ],
   "source": [
    "# let's have a first look at our data\n",
    "plt.plot(x, y, 'bo', markersize=10)\n",
    "plt.xlabel('x')\n",
    "plt.ylabel('y with noise')\n",
    "plt.grid()"
   ]
  },
  {
   "cell_type": "markdown",
   "metadata": {},
   "source": [
    "Now that we have some noisy data, let's fit a linear regression and get the correlation coefficient and goodness of fit parameters. We'll start with an easy implementation in `numpy` using [`np.linalg.lstsq`](https://numpy.org/doc/stable/reference/generated/numpy.linalg.lstsq.html).\n",
    "\n",
    "> **Note:** In the theory section, we learned the simplest form of linear regression. In reality, for any higher order (e.g., polynomial) regressions we need to use **linear algebra** to solve a matrix-based least squares minimization problem, typically via [singular value decomposition](https://en.wikipedia.org/wiki/Singular_value_decomposition). The `lstsq` function is built on this and is not just restricted to linear problems, but can be used for quadratics and beyond!"
   ]
  },
  {
   "cell_type": "code",
   "execution_count": 4,
   "metadata": {},
   "outputs": [
    {
     "name": "stdout",
     "output_type": "stream",
     "text": [
      "[ 1  2  3  4  5  6  7  8  9 10]\n",
      "[[ 1.  1.]\n",
      " [ 2.  1.]\n",
      " [ 3.  1.]\n",
      " [ 4.  1.]\n",
      " [ 5.  1.]\n",
      " [ 6.  1.]\n",
      " [ 7.  1.]\n",
      " [ 8.  1.]\n",
      " [ 9.  1.]\n",
      " [10.  1.]]\n"
     ]
    }
   ],
   "source": [
    "# before we proceed with linear algebraic solving, \n",
    "# we need to create a matrix from our independent variable\n",
    "M = np.vstack([x, np.ones(n)]).T\n",
    "\n",
    "# what did we do here?\n",
    "print(x)\n",
    "print(M)"
   ]
  },
  {
   "cell_type": "markdown",
   "metadata": {},
   "source": [
    "Do we understand the step above? What does each part (e.g., `np.vstack`, `np.ones`, `.T`) do and in what order?"
   ]
  },
  {
   "cell_type": "code",
   "execution_count": 5,
   "metadata": {},
   "outputs": [],
   "source": [
    "# the implementation of least squares regression to get our\n",
    "# A and B estimates is now just one simple line!\n",
    "coeffs, ssr, _, _ = np.linalg.lstsq(M, y, rcond=None)"
   ]
  },
  {
   "cell_type": "markdown",
   "metadata": {},
   "source": [
    "You can see here (or in the function [documentation](https://numpy.org/doc/stable/reference/generated/numpy.linalg.lstsq.html)) that `np.linalg.lstsq` **returns** (left side of equal sign) multiple values. In python, we can suppress the returns we don't need with the `_` notation. In this case we just want the regression coefficients (`coeffs`) and the sum of squared residuals (`ssr`). Another way to write the above line is: \n",
    "    \n",
    "    coeffs, ssr = np.linalg.lstsq(M, y, rcond=None)[0:2]"
   ]
  },
  {
   "cell_type": "code",
   "execution_count": 6,
   "metadata": {},
   "outputs": [
    {
     "name": "stdout",
     "output_type": "stream",
     "text": [
      "true B : -2.00, predicted B : -2.01\n",
      "true A : 1.00, predicted A : 1.49\n"
     ]
    }
   ],
   "source": [
    "# let's look at our coefficients by unpacking the array\n",
    "# the coefficients are ordered slope, intercept\n",
    "# NOTE - we can unpack the array using comma separated values\n",
    "B_est, A_est = coeffs\n",
    "\n",
    "print('true B : {:0.2f}, predicted B : {:0.2f}'.format(B, B_est))\n",
    "print('true A : {:0.2f}, predicted A : {:0.2f}'.format(A, A_est))"
   ]
  },
  {
   "cell_type": "code",
   "execution_count": 7,
   "metadata": {},
   "outputs": [],
   "source": [
    "# Now we can calculate predicted y values \n",
    "# using our estimates for slope and intercept\n",
    "y_est = A_est + B_est * x"
   ]
  },
  {
   "cell_type": "markdown",
   "metadata": {},
   "source": [
    "\\begin{equation}\n",
    "  \\large\n",
    "  SSR = \\sum_{i=1}^{n}{(y_i - f(x_i))^2}\n",
    "\\end{equation}"
   ]
  },
  {
   "cell_type": "code",
   "execution_count": 8,
   "metadata": {},
   "outputs": [],
   "source": [
    "# and we can get the residuals\n",
    "resid = y - y_est"
   ]
  },
  {
   "cell_type": "code",
   "execution_count": 9,
   "metadata": {},
   "outputs": [],
   "source": [
    "# and the squared residuals\n",
    "sqr_resid = resid ** 2"
   ]
  },
  {
   "cell_type": "code",
   "execution_count": 10,
   "metadata": {},
   "outputs": [],
   "source": [
    "# and the sum of squared residuals\n",
    "sum_sqr_resid = np.sum(sqr_resid)"
   ]
  },
  {
   "cell_type": "code",
   "execution_count": 11,
   "metadata": {},
   "outputs": [
    {
     "name": "stdout",
     "output_type": "stream",
     "text": [
      "[ True]\n"
     ]
    }
   ],
   "source": [
    "# and compare our calculation with numpy\n",
    "print(np.isclose(ssr, sum_sqr_resid))"
   ]
  },
  {
   "cell_type": "markdown",
   "metadata": {},
   "source": [
    "\\begin{equation}\n",
    "    \\large\n",
    "    r = \\frac{\\sum_{i=1}^{n}{\\left(x_{i} - \\bar{x} \\right)\\left(y_{i} - \\bar{y} \\right)}}{\\sqrt{\\sum_{i=1}^{n}{\\left(x_{i} - \\bar{x} \\right)^2} \\sum_{i=1}^{n}{\\left(y_{i} - \\bar{y} \\right)^2}}}\n",
    "\\end{equation}\n",
    "\n",
    "\\begin{equation}\n",
    "    \\large\n",
    "    R^2 = 1 - \\frac{\\sum_{i=1}^{n}{(y_i - f(x_i))^2}}{\\sum_{i=1}^{n}{(y_i - \\bar{y})^2}}\n",
    "\\end{equation}\n",
    "\n",
    "\\begin{equation}\n",
    "    \\large\n",
    "    MSE = \\frac{SSR}{n-p}\n",
    "\\end{equation}\n",
    "\n",
    "\\begin{equation}\n",
    "    \\large\n",
    "    RMSE = \\sqrt{\\frac{SSR}{n-2}}\n",
    "\\end{equation}"
   ]
  },
  {
   "cell_type": "code",
   "execution_count": 12,
   "metadata": {},
   "outputs": [],
   "source": [
    "# also from the theory equations we can calculate the:\n",
    "\n",
    "# r (correlation coefficient)\n",
    "r = (np.sum((x - x.mean()) * (y - y.mean())) / \n",
    "     (np.sum((x - x.mean()) ** 2) * \n",
    "      np.sum((y - y.mean()) ** 2)) ** 0.5)\n",
    "\n",
    "# r2 (coefficient of determination)\n",
    "r2 = 1 - sum_sqr_resid / np.sum((y - y.mean()) ** 2)\n",
    "# alternatively: r2 = r**2\n",
    "\n",
    "# MSE (mean square error)\n",
    "mse = sum_sqr_resid / (n - 2)\n",
    "\n",
    "# RMSE (root mean square error)\n",
    "rmse = np.sqrt(mse)"
   ]
  },
  {
   "cell_type": "markdown",
   "metadata": {},
   "source": [
    "Now we can plot everything"
   ]
  },
  {
   "cell_type": "code",
   "execution_count": 13,
   "metadata": {},
   "outputs": [
    {
     "data": {
      "image/png": "[encoded data removed]",
      "text/plain": [
       "<Figure size 1500x500 with 2 Axes>"
      ]
     },
     "metadata": {},
     "output_type": "display_data"
    }
   ],
   "source": [
    "# we can also look at the fit and the residuals in a dual panel plot\n",
    "fig, axes = plt.subplots(nrows=1, ncols=2, figsize=(15, 5))\n",
    "\n",
    "# NOTE - here we unpack the axes object to get convenient plotting names\n",
    "ax1, ax2 = axes \n",
    "\n",
    "# same plot as above goes on the first axis (left side)\n",
    "ax1.plot(x, y, 'bo', label='Original data', markersize=10)\n",
    "ax1.plot(x, y_est, 'ro-', \n",
    "         label='Fit (y = {:0.2f} + {:0.2f} x)'.format(A_est, B_est))\n",
    "ax1.text(x[2], y[-2], 'r = {:0.2f}\\nR$^2$ = {:0.2f}'.format(r, r2), fontsize=12)\n",
    "ax1.set_xlabel('x', fontsize=12)\n",
    "ax1.set_ylabel('y', fontsize=12)\n",
    "ax1.legend(fontsize=12)\n",
    "ax1.grid()\n",
    "\n",
    "# and on the second axis (right side) we put the residuals\n",
    "ax2.plot(x, resid, 'rs', label='Residuals', markersize=10)\n",
    "\n",
    "# include a horizontal 0 line\n",
    "ax2.hlines(0, x.min(), x.max(), color='k')\n",
    "\n",
    "# add the plot elements\n",
    "ax2.set_xlabel('x', fontsize=12)\n",
    "ax2.set_ylabel('residual ($y-y_{est}$)', fontsize=12)\n",
    "ax2.grid()\n",
    "\n",
    "# let's put the SSR and RMSE metrics in the title of the residual plot\n",
    "ax2.set_title('SSR = {:0.2f}, RMSE = {:0.2f}'.format(sum_sqr_resid, rmse));"
   ]
  },
  {
   "cell_type": "markdown",
   "metadata": {},
   "source": [
    "<div class=\"alert alert-block alert-warning\">\n",
    "<b>Task 5.1</b>\n",
    "\n",
    "Put the numpy least squares regression and calculation of correlation and goodness-of-fit parameters together in a function definition that's easy to reuse with new x,y data. \n",
    "\n",
    "Create a new x array variable with 100 evenly spaced values between 0 and 50. Use the equation of a line with slope 1.5 and intercept 5 to calculate the y-values. Add Gaussian noise to the y-values with a mean of 0 and a standard deviation of 20. Use the function you defined to return the estimated parameters and statistics of the fit on this x,y data. Plot the results just as in the above figure."
   ]
  },
  {
   "cell_type": "markdown",
   "metadata": {},
   "source": [
    "## Regressions for arrays"
   ]
  },
  {
   "cell_type": "code",
   "execution_count": 129,
   "metadata": {},
   "outputs": [
    {
     "data": {
      "text/plain": [
       "array([[  1,   1,   1, ...,   1,   1,   1],\n",
       "       [  2,   2,   2, ...,   2,   2,   2],\n",
       "       [  3,   3,   3, ...,   3,   3,   3],\n",
       "       ...,\n",
       "       [ 98,  98,  98, ...,  98,  98,  98],\n",
       "       [ 99,  99,  99, ...,  99,  99,  99],\n",
       "       [100, 100, 100, ..., 100, 100, 100]])"
      ]
     },
     "execution_count": 129,
     "metadata": {},
     "output_type": "execute_result"
    }
   ],
   "source": [
    "# create time or space steps\n",
    "x = np.arange(1, 101, 1)\n",
    "x = np.repeat(x, 100, axis=0)\n",
    "x = x.reshape(100,100)\n",
    "# x = np.repeat(x, 100, axis=0).reshape(100,100)\n",
    "x"
   ]
  },
  {
   "cell_type": "code",
   "execution_count": 130,
   "metadata": {},
   "outputs": [
    {
     "data": {
      "text/plain": [
       "array([[-8.67199535e-01, -2.90402238e+00, -7.80258244e+00, ...,\n",
       "        -6.34037024e-01, -8.17181883e-01, -2.96915960e+00],\n",
       "       [-5.59043405e-02, -4.50254530e+00, -1.40077838e+01, ...,\n",
       "        -5.73159453e-01, -2.34244105e-01, -4.35515348e+00],\n",
       "       [ 7.55390855e-01, -6.10106822e+00, -2.02129852e+01, ...,\n",
       "        -5.12281881e-01,  3.48693673e-01, -5.74114736e+00],\n",
       "       ...,\n",
       "       [ 7.78284344e+01, -1.57960745e+02, -6.09707117e+02, ...,\n",
       "         5.27108739e+00,  5.57277826e+01, -1.37410566e+02],\n",
       "       [ 7.86397296e+01, -1.59559268e+02, -6.15912318e+02, ...,\n",
       "         5.33196496e+00,  5.63107204e+01, -1.38796560e+02],\n",
       "       [ 7.94510248e+01, -1.61157791e+02, -6.22117519e+02, ...,\n",
       "         5.39284253e+00,  5.68936582e+01, -1.40182554e+02]])"
      ]
     },
     "execution_count": 130,
     "metadata": {},
     "output_type": "execute_result"
    }
   ],
   "source": [
    "# create random slope and y intercepts\n",
    "A = np.random.normal(-1,1, size=len(x))\n",
    "B = np.random.normal(-2,2, size=len(x))\n",
    "y = A + B * x\n",
    "y"
   ]
  },
  {
   "cell_type": "code",
   "execution_count": 131,
   "metadata": {},
   "outputs": [
    {
     "data": {
      "text/plain": [
       "<matplotlib.colorbar.Colorbar at 0x7cc81e64b680>"
      ]
     },
     "execution_count": 131,
     "metadata": {},
     "output_type": "execute_result"
    },
    {
     "data": {
      "image/png": "[encoded data removed]",
      "text/plain": [
       "<Figure size 640x480 with 2 Axes>"
      ]
     },
     "metadata": {},
     "output_type": "display_data"
    }
   ],
   "source": [
    "plt.imshow(y)\n",
    "plt.colorbar()"
   ]
  },
  {
   "cell_type": "code",
   "execution_count": 132,
   "metadata": {},
   "outputs": [
    {
     "data": {
      "text/plain": [
       "(<matplotlib.image.AxesImage at 0x7cc81e751a30>,\n",
       " <matplotlib.colorbar.Colorbar at 0x7cc81e37ac90>)"
      ]
     },
     "execution_count": 132,
     "metadata": {},
     "output_type": "execute_result"
    },
    {
     "data": {
      "image/png": "[encoded data removed]",
      "text/plain": [
       "<Figure size 640x480 with 2 Axes>"
      ]
     },
     "metadata": {},
     "output_type": "display_data"
    }
   ],
   "source": [
    "# let's also add some normal (Gaussian) noise \n",
    "# with mean=0 and standard deviation=1\n",
    "np.random.seed(42) # this line allows for reproducible creation of the same random numbers\n",
    "noise = np.random.normal(0, 1, size=(len(x), len(y)) )\n",
    "y = y + noise\n",
    "plt.imshow(y), plt.colorbar()"
   ]
  },
  {
   "cell_type": "code",
   "execution_count": 153,
   "metadata": {},
   "outputs": [
    {
     "data": {
      "text/plain": [
       "[<matplotlib.lines.Line2D at 0x7cc81df86b70>]"
      ]
     },
     "execution_count": 153,
     "metadata": {},
     "output_type": "execute_result"
    },
    {
     "data": {
      "image/png": "[encoded data removed]",
      "text/plain": [
       "<Figure size 640x480 with 1 Axes>"
      ]
     },
     "metadata": {},
     "output_type": "display_data"
    }
   ],
   "source": [
    "plt.plot(x[:,0], y[:,0])\n",
    "plt.plot(x[:,10], y[:,10])"
   ]
  },
  {
   "cell_type": "code",
   "execution_count": 134,
   "metadata": {},
   "outputs": [
    {
     "name": "stdout",
     "output_type": "stream",
     "text": [
      "(100, 100, 1)\n"
     ]
    }
   ],
   "source": [
    "x = np.expand_dims(x, 2)\n",
    "print(x.shape)"
   ]
  },
  {
   "cell_type": "code",
   "execution_count": 135,
   "metadata": {},
   "outputs": [
    {
     "name": "stdout",
     "output_type": "stream",
     "text": [
      "(100, 100, 1)\n"
     ]
    }
   ],
   "source": [
    "x1 = np.ones(x.shape[0:2])\n",
    "x1 = np.expand_dims(x1, 2)\n",
    "print(x1.shape)"
   ]
  },
  {
   "cell_type": "code",
   "execution_count": 140,
   "metadata": {},
   "outputs": [
    {
     "data": {
      "text/plain": [
       "array([[  1.,   1.],\n",
       "       [  2.,   1.],\n",
       "       [  3.,   1.],\n",
       "       [  4.,   1.],\n",
       "       [  5.,   1.],\n",
       "       [  6.,   1.],\n",
       "       [  7.,   1.],\n",
       "       [  8.,   1.],\n",
       "       [  9.,   1.],\n",
       "       [ 10.,   1.],\n",
       "       [ 11.,   1.],\n",
       "       [ 12.,   1.],\n",
       "       [ 13.,   1.],\n",
       "       [ 14.,   1.],\n",
       "       [ 15.,   1.],\n",
       "       [ 16.,   1.],\n",
       "       [ 17.,   1.],\n",
       "       [ 18.,   1.],\n",
       "       [ 19.,   1.],\n",
       "       [ 20.,   1.],\n",
       "       [ 21.,   1.],\n",
       "       [ 22.,   1.],\n",
       "       [ 23.,   1.],\n",
       "       [ 24.,   1.],\n",
       "       [ 25.,   1.],\n",
       "       [ 26.,   1.],\n",
       "       [ 27.,   1.],\n",
       "       [ 28.,   1.],\n",
       "       [ 29.,   1.],\n",
       "       [ 30.,   1.],\n",
       "       [ 31.,   1.],\n",
       "       [ 32.,   1.],\n",
       "       [ 33.,   1.],\n",
       "       [ 34.,   1.],\n",
       "       [ 35.,   1.],\n",
       "       [ 36.,   1.],\n",
       "       [ 37.,   1.],\n",
       "       [ 38.,   1.],\n",
       "       [ 39.,   1.],\n",
       "       [ 40.,   1.],\n",
       "       [ 41.,   1.],\n",
       "       [ 42.,   1.],\n",
       "       [ 43.,   1.],\n",
       "       [ 44.,   1.],\n",
       "       [ 45.,   1.],\n",
       "       [ 46.,   1.],\n",
       "       [ 47.,   1.],\n",
       "       [ 48.,   1.],\n",
       "       [ 49.,   1.],\n",
       "       [ 50.,   1.],\n",
       "       [ 51.,   1.],\n",
       "       [ 52.,   1.],\n",
       "       [ 53.,   1.],\n",
       "       [ 54.,   1.],\n",
       "       [ 55.,   1.],\n",
       "       [ 56.,   1.],\n",
       "       [ 57.,   1.],\n",
       "       [ 58.,   1.],\n",
       "       [ 59.,   1.],\n",
       "       [ 60.,   1.],\n",
       "       [ 61.,   1.],\n",
       "       [ 62.,   1.],\n",
       "       [ 63.,   1.],\n",
       "       [ 64.,   1.],\n",
       "       [ 65.,   1.],\n",
       "       [ 66.,   1.],\n",
       "       [ 67.,   1.],\n",
       "       [ 68.,   1.],\n",
       "       [ 69.,   1.],\n",
       "       [ 70.,   1.],\n",
       "       [ 71.,   1.],\n",
       "       [ 72.,   1.],\n",
       "       [ 73.,   1.],\n",
       "       [ 74.,   1.],\n",
       "       [ 75.,   1.],\n",
       "       [ 76.,   1.],\n",
       "       [ 77.,   1.],\n",
       "       [ 78.,   1.],\n",
       "       [ 79.,   1.],\n",
       "       [ 80.,   1.],\n",
       "       [ 81.,   1.],\n",
       "       [ 82.,   1.],\n",
       "       [ 83.,   1.],\n",
       "       [ 84.,   1.],\n",
       "       [ 85.,   1.],\n",
       "       [ 86.,   1.],\n",
       "       [ 87.,   1.],\n",
       "       [ 88.,   1.],\n",
       "       [ 89.,   1.],\n",
       "       [ 90.,   1.],\n",
       "       [ 91.,   1.],\n",
       "       [ 92.,   1.],\n",
       "       [ 93.,   1.],\n",
       "       [ 94.,   1.],\n",
       "       [ 95.,   1.],\n",
       "       [ 96.,   1.],\n",
       "       [ 97.,   1.],\n",
       "       [ 98.,   1.],\n",
       "       [ 99.,   1.],\n",
       "       [100.,   1.]])"
      ]
     },
     "execution_count": 140,
     "metadata": {},
     "output_type": "execute_result"
    }
   ],
   "source": [
    "M = np.concatenate( [x, x1], axis=2)\n",
    "M[:,1]"
   ]
  },
  {
   "cell_type": "code",
   "execution_count": 142,
   "metadata": {},
   "outputs": [
    {
     "data": {
      "text/plain": [
       "array([-0.37048538, -1.47127508,  1.11317821,  0.73769104,  0.78355359,\n",
       "        4.11545399,  4.75756025,  4.28914381,  6.56144583,  6.80313053,\n",
       "        8.64510785,  9.05505772,  8.99356731,  9.01154755,  9.44402221,\n",
       "       12.08058947, 11.93062714, 13.27544888, 15.63730466, 15.24436357,\n",
       "       14.68352609, 16.54640909, 18.78564286, 18.84453757, 17.88214759,\n",
       "       19.98579334, 18.34992283, 21.42457925, 22.03290044, 22.61484887,\n",
       "       21.56384876, 23.57605894, 25.27942224, 26.24409478, 27.20826655,\n",
       "       28.7087732 , 27.515492  , 30.21589465, 28.57347532, 30.21719432,\n",
       "       30.72111466, 30.8956816 , 33.45085588, 33.59489527, 35.31709428,\n",
       "       34.68230578, 36.23641891, 36.27080863, 38.5819901 , 38.49438825,\n",
       "       39.27380053, 41.5376244 , 40.98937571, 41.92277743, 41.75497576,\n",
       "       44.45717873, 44.37712895, 45.35113245, 46.48315435, 46.92899661,\n",
       "       46.69643081, 48.03395106, 48.8808413 , 50.02279806, 51.38580674,\n",
       "       53.09426196, 51.38880275, 54.68066921, 53.3519209 , 56.05897649,\n",
       "       56.7086492 , 56.51474128, 57.68570618, 57.69632465, 58.53850207,\n",
       "       61.70563388, 60.66235791, 62.4943935 , 61.58022739, 61.73725917,\n",
       "       64.0033908 , 62.45162897, 61.82235091, 67.92414189, 67.51546195,\n",
       "       70.59834095, 68.52000557, 71.30750733, 69.71086809, 71.22150147,\n",
       "       72.91477017, 72.61957028, 75.43615046, 75.00450098, 76.10978538,\n",
       "       75.93807847, 74.81963818, 77.58243904, 79.57354   , 80.38567948])"
      ]
     },
     "execution_count": 142,
     "metadata": {},
     "output_type": "execute_result"
    }
   ],
   "source": [
    "y[:,0]"
   ]
  },
  {
   "cell_type": "code",
   "execution_count": 144,
   "metadata": {},
   "outputs": [
    {
     "name": "stdout",
     "output_type": "stream",
     "text": [
      "100\n"
     ]
    }
   ],
   "source": [
    "print(M.shape[0])"
   ]
  },
  {
   "cell_type": "code",
   "execution_count": 185,
   "metadata": {},
   "outputs": [],
   "source": [
    "#storing only the regression coefficients\n",
    "X_lstsq = np.asarray([ np.linalg.lstsq(M[:,i], y[:,i], rcond=None)[0] for i in range(M.shape[0])])"
   ]
  },
  {
   "cell_type": "code",
   "execution_count": 150,
   "metadata": {},
   "outputs": [
    {
     "name": "stdout",
     "output_type": "stream",
     "text": [
      "(100, 2)\n",
      "(100, 100, 1)\n",
      "(100, 100, 2)\n",
      "(100, 100)\n"
     ]
    }
   ],
   "source": [
    "print(X_lstsq.shape)\n",
    "print(x.shape)\n",
    "print(M.shape)\n",
    "print(y.shape)"
   ]
  },
  {
   "cell_type": "code",
   "execution_count": 190,
   "metadata": {},
   "outputs": [
    {
     "data": {
      "text/plain": [
       "array([  -3.55912658,   -6.95011769,  -10.3411088 ,  -13.73209991,\n",
       "        -17.12309102,  -20.51408213,  -23.90507324,  -27.29606435,\n",
       "        -30.68705546,  -34.07804657,  -37.46903768,  -40.86002879,\n",
       "        -44.2510199 ,  -47.64201101,  -51.03300212,  -54.42399323,\n",
       "        -57.81498434,  -61.20597545,  -64.59696656,  -67.98795767,\n",
       "        -71.37894878,  -74.76993989,  -78.160931  ,  -81.55192211,\n",
       "        -84.94291322,  -88.33390433,  -91.72489544,  -95.11588655,\n",
       "        -98.50687766, -101.89786877, -105.28885988, -108.67985099,\n",
       "       -112.0708421 , -115.46183321, -118.85282432, -122.24381543,\n",
       "       -125.63480654, -129.02579765, -132.41678876, -135.80777987,\n",
       "       -139.19877098, -142.58976209, -145.9807532 , -149.37174431,\n",
       "       -152.76273542, -156.15372653, -159.54471764, -162.93570875,\n",
       "       -166.32669986, -169.71769097, -173.10868208, -176.49967319,\n",
       "       -179.8906643 , -183.28165541, -186.67264652, -190.06363763,\n",
       "       -193.45462874, -196.84561985, -200.23661096, -203.62760207,\n",
       "       -207.01859318, -210.40958429, -213.80057541, -217.19156652,\n",
       "       -220.58255763, -223.97354874, -227.36453985, -230.75553096,\n",
       "       -234.14652207, -237.53751318, -240.92850429, -244.3194954 ,\n",
       "       -247.71048651, -251.10147762, -254.49246873, -257.88345984,\n",
       "       -261.27445095, -264.66544206, -268.05643317, -271.44742428,\n",
       "       -274.83841539, -278.2294065 , -281.62039761, -285.01138872,\n",
       "       -288.40237983, -291.79337094, -295.18436205, -298.57535316,\n",
       "       -301.96634427, -305.35733538, -308.74832649, -312.1393176 ,\n",
       "       -315.53030871, -318.92129982, -322.31229093, -325.70328204,\n",
       "       -329.09427315, -332.48526426, -335.87625537, -339.26724648])"
      ]
     },
     "execution_count": 190,
     "metadata": {},
     "output_type": "execute_result"
    }
   ],
   "source": [
    "i = 10\n",
    "B_est, A_est = X_lstsq[i,0], X_lstsq[i,1]\n",
    "y_est = A_est + B_est * M[:,i,0]\n",
    "y_est"
   ]
  },
  {
   "cell_type": "code",
   "execution_count": 188,
   "metadata": {},
   "outputs": [
    {
     "data": {
      "text/plain": [
       "(100,)"
      ]
     },
     "execution_count": 188,
     "metadata": {},
     "output_type": "execute_result"
    }
   ],
   "source": [
    "y_est.shape"
   ]
  },
  {
   "cell_type": "code",
   "execution_count": 194,
   "metadata": {},
   "outputs": [
    {
     "data": {
      "image/png": "[encoded data removed]",
      "text/plain": [
       "<Figure size 1500x500 with 1 Axes>"
      ]
     },
     "metadata": {},
     "output_type": "display_data"
    }
   ],
   "source": [
    "i=20\n",
    "B_est, A_est = X_lstsq[i,0], X_lstsq[i,1]\n",
    "y_est = A_est + B_est * M[:,i,0]\n",
    "\n",
    "fig, ax = plt.subplots(nrows=1, ncols=1, figsize=(15, 5))\n",
    "ax.plot(M[:,i,0], y[:,i], 'o', color='navy', label='Original data', markersize=10)\n",
    "ax.plot(M[:,i,0], y_est, '-', color='darkorange', lw=3,\n",
    "         label='i: {:d}, Fit (y = {:0.2f} + {:0.2f} x)'.format(i, A_est, B_est))\n",
    "ax1.text(x[2], y[-2], 'r = {:0.2f}\\nR$^2$ = {:0.2f}'.format(r, r2), fontsize=12)\n",
    "ax.set_xlabel('x', fontsize=12)\n",
    "ax.set_ylabel('y', fontsize=12)\n",
    "ax.legend(fontsize=12)\n",
    "ax.grid()\n"
   ]
  },
  {
   "cell_type": "markdown",
   "metadata": {},
   "source": [
    "___\n",
    "# `scipy` Least Squares\n",
    "\n",
    "The above example with `numpy` is one way to calculate the least squares linear solution, but there are other ways. This is a good opportunity to introduce the powerful python library `scipy`, which contains a lot of advanced math functions, particularly for fitting regressions to data. In fact, `scipy` has a very easy-to-use implementation of linear regression contained in its `stats` module (see [here](https://docs.scipy.org/doc/scipy/reference/generated/scipy.stats.linregress.html)):"
   ]
  },
  {
   "cell_type": "code",
   "execution_count": 195,
   "metadata": {},
   "outputs": [],
   "source": [
    "# first create an array of x values, our independent variable\n",
    "x = np.arange(1, 11, 1)\n",
    "\n",
    "# now generate a linear regression using KNOWN constants\n",
    "A = 1\n",
    "B = -2\n",
    "y = A + B * x\n",
    "\n",
    "# let's also add some normal (Gaussian) noise \n",
    "# with mean=0 and standard deviation=1\n",
    "np.random.seed(0) # this line allows for reproducible creation of the same random numbers\n",
    "noise = np.random.normal(0, 1, size=len(y))\n",
    "y = y + noise\n",
    "\n",
    "# get the size of the data\n",
    "n = x.size\n",
    "\n",
    "# now use scipy to get the linear regression\n",
    "B_est, A_est, r, _, _ = stats.linregress(x, y)\n",
    "\n",
    "# calculate the estimate\n",
    "y_est = A_est + B_est * x\n",
    "\n",
    "# get r2\n",
    "r2 = r**2"
   ]
  },
  {
   "cell_type": "markdown",
   "metadata": {},
   "source": [
    "<div class=\"alert alert-block alert-warning\">\n",
    "<b>Task 5.2</b>\n",
    "\n",
    "Calculate the $RMSE$. You'll need the residuals and the equation for $SSR$ and $RMSE$ above.\n",
    "</div>"
   ]
  },
  {
   "cell_type": "markdown",
   "metadata": {},
   "source": [
    "Let's plot the results of scipy's method."
   ]
  },
  {
   "cell_type": "code",
   "execution_count": 196,
   "metadata": {},
   "outputs": [
    {
     "name": "stdout",
     "output_type": "stream",
     "text": [
      "slope (B) : -2.17\n",
      "intercept (A) : 2.67\n",
      "correlation (r) : -0.99\n",
      "coeff of det. (R^2) : 0.98\n",
      "RMSE : 0.77\n"
     ]
    },
    {
     "data": {
      "image/png": "[encoded data removed]",
      "text/plain": [
       "<Figure size 600x500 with 1 Axes>"
      ]
     },
     "metadata": {},
     "output_type": "display_data"
    }
   ],
   "source": [
    "# now have a look at the results\n",
    "print('slope (B) : {:0.2f}'.format(B_est))\n",
    "print('intercept (A) : {:0.2f}'.format(A_est))\n",
    "print('correlation (r) : {:0.2f}'.format(r))\n",
    "print('coeff of det. (R^2) : {:0.2f}'.format(r2))\n",
    "print('RMSE : {:0.2f}'.format(rmse))\n",
    "\n",
    "# this is the same plotting block we used before\n",
    "fig, ax1 = plt.subplots(figsize=(6, 5))\n",
    "ax1.plot(x, y, 'bo', label='Original data', markersize=10)\n",
    "ax1.plot(x, y_est, 'ro-', \n",
    "         label='Fit (y = {:0.2f} + {:0.2f} x)'.format(A_est, B_est))\n",
    "ax1.text(x[2], y[-2], 'r = {:0.2f}\\nR$^2$ = {:0.2f}'.format(r, r2), fontsize=12)\n",
    "ax1.set_xlabel('x', fontsize=12)\n",
    "ax1.set_ylabel('y', fontsize=12)\n",
    "ax1.legend(fontsize=12)\n",
    "ax1.grid()"
   ]
  },
  {
   "cell_type": "markdown",
   "metadata": {},
   "source": [
    "Great! The plots and values are identical in the numpy and scipy implementations. This is just another example of the fact that there are often many ways to accomplish a task in python.\n",
    "\n",
    "> **Note:** Python is open source. That means for any function you can see its **source code** if you're interested in what's going on \"under the hood\". For `scipy.stats.linregress()`, clicking on \"source\" in the [documentation](https://docs.scipy.org/doc/scipy/reference/generated/scipy.stats.linregress.html) brings us [here](https://github.com/scipy/scipy/blob/v1.5.2/scipy/stats/_stats_mstats_common.py#L15-L144). If you scroll past the docstring you may be able to see some similar calculations from the theory section above."
   ]
  },
  {
   "cell_type": "markdown",
   "metadata": {},
   "source": [
    "___\n",
    "# 'statsmodels' regression\n",
    "\n",
    "[statsmodels](https://www.statsmodels.org/stable/index.html#) Python module that provides classes and functions for the estimation of many different statistical models, as well as for conducting statistical tests, and statistical data exploration. An extensive list of result statistics are available for each estimator.\n",
    "\n",
    "It is very powerful, but also somewhat slow. It works seamlessly with pandas.\n"
   ]
  },
  {
   "cell_type": "code",
   "execution_count": 199,
   "metadata": {},
   "outputs": [
    {
     "name": "stdout",
     "output_type": "stream",
     "text": [
      "Channels:\n",
      " - conda-forge\n",
      " - defaults\n",
      "Platform: linux-64\n",
      "Collecting package metadata (repodata.json): done\n",
      "Solving environment: done\n",
      "\n",
      "## Package Plan ##\n",
      "\n",
      "  environment location: /home/bodo/miniconda3/envs/tensorflow\n",
      "\n",
      "  added / updated specs:\n",
      "    - statsmodels\n",
      "\n",
      "\n",
      "The following NEW packages will be INSTALLED:\n",
      "\n",
      "  patsy              conda-forge/noarch::patsy-1.0.1-pyhd8ed1ab_1 \n",
      "  statsmodels        conda-forge/linux-64::statsmodels-0.14.4-py312hc0a28a1_0 \n",
      "\n",
      "The following packages will be UPDATED:\n",
      "\n",
      "  ca-certificates    pkgs/main/linux-64::ca-certificates-2~ --> conda-forge/noarch::ca-certificates-2025.4.26-hbd8a1cb_0 \n",
      "  certifi                            2025.1.31-pyhd8ed1ab_0 --> 2025.4.26-pyhd8ed1ab_0 \n",
      "  openssl                                  3.5.0-h7b32b05_0 --> 3.5.0-h7b32b05_1 \n",
      "\n",
      "\n",
      "\n",
      "Downloading and Extracting Packages:\n",
      "\n",
      "Preparing transaction: done\n",
      "Verifying transaction: done\n",
      "Executing transaction: done\n"
     ]
    }
   ],
   "source": [
    "!conda install -y -c conda-forge statsmodels"
   ]
  },
  {
   "cell_type": "code",
   "execution_count": 200,
   "metadata": {},
   "outputs": [],
   "source": [
    "import statsmodels.api as sm\n",
    "\n",
    "#let's generate the same test data as before\n",
    "x = np.arange(1, 11, 1)\n",
    "# now generate a linear regression using KNOWN constants\n",
    "A = 1\n",
    "B = -2\n",
    "y = A + B * x\n",
    "# let's also add some normal (Gaussian) noise \n",
    "# with mean=0 and standard deviation=1\n",
    "np.random.seed(0) # this line allows for reproducible creation of the same random numbers\n",
    "noise = np.random.normal(0, 1, size=len(y))\n",
    "y = y + noise\n",
    "\n",
    "X = sm.add_constant(x)\n",
    "results = sm.OLS(y, X).fit()"
   ]
  },
  {
   "cell_type": "code",
   "execution_count": 201,
   "metadata": {},
   "outputs": [
    {
     "name": "stdout",
     "output_type": "stream",
     "text": [
      "                            OLS Regression Results                            \n",
      "==============================================================================\n",
      "Dep. Variable:                      y   R-squared:                       0.982\n",
      "Model:                            OLS   Adj. R-squared:                  0.980\n",
      "Method:                 Least Squares   F-statistic:                     446.3\n",
      "Date:                Sun, 11 May 2025   Prob (F-statistic):           2.65e-08\n",
      "Time:                        10:18:24   Log-Likelihood:                -12.380\n",
      "No. Observations:                  10   AIC:                             28.76\n",
      "Df Residuals:                       8   BIC:                             29.37\n",
      "Df Model:                           1                                         \n",
      "Covariance Type:            nonrobust                                         \n",
      "==============================================================================\n",
      "                 coef    std err          t      P>|t|      [0.025      0.975]\n",
      "------------------------------------------------------------------------------\n",
      "const          2.6738      0.637      4.195      0.003       1.204       4.144\n",
      "x1            -2.1701      0.103    -21.126      0.000      -2.407      -1.933\n",
      "==============================================================================\n",
      "Omnibus:                        0.379   Durbin-Watson:                   2.443\n",
      "Prob(Omnibus):                  0.827   Jarque-Bera (JB):                0.350\n",
      "Skew:                          -0.341   Prob(JB):                        0.839\n",
      "Kurtosis:                       2.387   Cond. No.                         13.7\n",
      "==============================================================================\n",
      "\n",
      "Notes:\n",
      "[1] Standard Errors assume that the covariance matrix of the errors is correctly specified.\n"
     ]
    },
    {
     "name": "stderr",
     "output_type": "stream",
     "text": [
      "/home/bodo/miniconda3/envs/tensorflow/lib/python3.12/site-packages/scipy/stats/_axis_nan_policy.py:430: UserWarning: `kurtosistest` p-value may be inaccurate with fewer than 20 observations; only n=10 observations were given.\n",
      "  return hypotest_fun_in(*args, **kwds)\n"
     ]
    }
   ],
   "source": [
    "print(results.summary())"
   ]
  },
  {
   "cell_type": "markdown",
   "metadata": {},
   "source": [
    "## Weighted linear regression"
   ]
  },
  {
   "cell_type": "code",
   "execution_count": 204,
   "metadata": {},
   "outputs": [
    {
     "data": {
      "text/plain": [
       "\u001b[31mInit signature:\u001b[39m sm.WLS(endog, exog, weights=\u001b[32m1.0\u001b[39m, missing=\u001b[33m'none'\u001b[39m, hasconst=\u001b[38;5;28;01mNone\u001b[39;00m, **kwargs)\n",
       "\u001b[31mDocstring:\u001b[39m     \n",
       "Weighted Least Squares\n",
       "\n",
       "The weights are presumed to be (proportional to) the inverse of\n",
       "the variance of the observations.  That is, if the variables are\n",
       "to be transformed by 1/sqrt(W) you must supply weights = 1/W.\n",
       "\n",
       "Parameters\n",
       "----------\n",
       "endog : array_like\n",
       "    A 1-d endogenous response variable. The dependent variable.\n",
       "exog : array_like\n",
       "    A nobs x k array where `nobs` is the number of observations and `k`\n",
       "    is the number of regressors. An intercept is not included by default\n",
       "    and should be added by the user. See\n",
       "    :func:`statsmodels.tools.add_constant`.\n",
       "weights : array_like, optional\n",
       "    A 1d array of weights.  If you supply 1/W then the variables are\n",
       "    pre- multiplied by 1/sqrt(W).  If no weights are supplied the\n",
       "    default value is 1 and WLS results are the same as OLS.\n",
       "missing : str\n",
       "    Available options are 'none', 'drop', and 'raise'. If 'none', no nan\n",
       "    checking is done. If 'drop', any observations with nans are dropped.\n",
       "    If 'raise', an error is raised. Default is 'none'.\n",
       "hasconst : None or bool\n",
       "    Indicates whether the RHS includes a user-supplied constant. If True,\n",
       "    a constant is not checked for and k_constant is set to 1 and all\n",
       "    result statistics are calculated as if a constant is present. If\n",
       "    False, a constant is not checked for and k_constant is set to 0.\n",
       "**kwargs\n",
       "    Extra arguments that are used to set model properties when using the\n",
       "    formula interface.\n",
       "\n",
       "Attributes\n",
       "----------\n",
       "weights : ndarray\n",
       "    The stored weights supplied as an argument.\n",
       "\n",
       "See Also\n",
       "--------\n",
       "GLS : Fit a linear model using Generalized Least Squares.\n",
       "OLS : Fit a linear model using Ordinary Least Squares.\n",
       "\n",
       "Notes\n",
       "-----\n",
       "If the weights are a function of the data, then the post estimation\n",
       "statistics such as fvalue and mse_model might not be correct, as the\n",
       "package does not yet support no-constant regression.\n",
       "\n",
       "Examples\n",
       "--------\n",
       ">>> import statsmodels.api as sm\n",
       ">>> Y = [1,3,4,5,2,3,4]\n",
       ">>> X = range(1,8)\n",
       ">>> X = sm.add_constant(X)\n",
       ">>> wls_model = sm.WLS(Y,X, weights=list(range(1,8)))\n",
       ">>> results = wls_model.fit()\n",
       ">>> results.params\n",
       "array([ 2.91666667,  0.0952381 ])\n",
       ">>> results.tvalues\n",
       "array([ 2.0652652 ,  0.35684428])\n",
       ">>> print(results.t_test([1, 0]))\n",
       "<T test: effect=array([ 2.91666667]), sd=array([[ 1.41224801]]),\n",
       " t=array([[ 2.0652652]]), p=array([[ 0.04690139]]), df_denom=5>\n",
       ">>> print(results.f_test([0, 1]))\n",
       "<F test: F=array([[ 0.12733784]]), p=[[ 0.73577409]], df_denom=5, df_num=1>\n",
       "\u001b[31mFile:\u001b[39m           ~/miniconda3/envs/tensorflow/lib/python3.12/site-packages/statsmodels/regression/linear_model.py\n",
       "\u001b[31mType:\u001b[39m           type\n",
       "\u001b[31mSubclasses:\u001b[39m     OLS"
      ]
     },
     "metadata": {},
     "output_type": "display_data"
    }
   ],
   "source": [
    "sm.WLS?"
   ]
  },
  {
   "cell_type": "code",
   "execution_count": 207,
   "metadata": {},
   "outputs": [
    {
     "name": "stdout",
     "output_type": "stream",
     "text": [
      "                            WLS Regression Results                            \n",
      "==============================================================================\n",
      "Dep. Variable:                      y   R-squared:                       0.966\n",
      "Model:                            WLS   Adj. R-squared:                  0.961\n",
      "Method:                 Least Squares   F-statistic:                     224.2\n",
      "Date:                Sun, 11 May 2025   Prob (F-statistic):           3.91e-07\n",
      "Time:                        10:22:30   Log-Likelihood:                -15.477\n",
      "No. Observations:                  10   AIC:                             34.95\n",
      "Df Residuals:                       8   BIC:                             35.56\n",
      "Df Model:                           1                                         \n",
      "Covariance Type:            nonrobust                                         \n",
      "==============================================================================\n",
      "                 coef    std err          t      P>|t|      [0.025      0.975]\n",
      "------------------------------------------------------------------------------\n",
      "const          1.6756      1.146      1.462      0.182      -0.967       4.318\n",
      "x1            -2.0594      0.138    -14.974      0.000      -2.377      -1.742\n",
      "==============================================================================\n",
      "Omnibus:                        2.215   Durbin-Watson:                   2.739\n",
      "Prob(Omnibus):                  0.330   Jarque-Bera (JB):                0.935\n",
      "Skew:                          -0.746   Prob(JB):                        0.626\n",
      "Kurtosis:                       2.857   Cond. No.                         40.1\n",
      "==============================================================================\n",
      "\n",
      "Notes:\n",
      "[1] Standard Errors assume that the covariance matrix of the errors is correctly specified.\n"
     ]
    },
    {
     "name": "stderr",
     "output_type": "stream",
     "text": [
      "/home/bodo/miniconda3/envs/tensorflow/lib/python3.12/site-packages/scipy/stats/_axis_nan_policy.py:430: UserWarning: `kurtosistest` p-value may be inaccurate with fewer than 20 observations; only n=10 observations were given.\n",
      "  return hypotest_fun_in(*args, **kwds)\n"
     ]
    }
   ],
   "source": [
    "results = sm.WLS(y, X, weights=y**2).fit()\n",
    "print(results.summary())"
   ]
  },
  {
   "cell_type": "markdown",
   "metadata": {},
   "source": [
    "___\n",
    "# Uncertainties and Significance\n",
    "\n",
    "_Note: This section is necessarily brief, as this is a BIG topic._\n",
    "\n",
    "Okay, now back to a bit more theory. We have a linear regression, a measure of correlation, and we have some goodness of fit parameters. But how can we know that our fit is statistically significant? For this we need to consider **alternative hypotheses** and **uncertainty** in our estimates.\n",
    "\n",
    "## Hypothesis Testing\n",
    "\n",
    "We want to validate our results by asking: Is the correlation ($r$-value) between $x$ and $y$ statistically significant? The basic structure of [**hypothesis testing**](https://en.wikipedia.org/wiki/Statistical_hypothesis_testing) is as follows:\n",
    "\n",
    "1. Turn the question into a pair of hypotheses:\n",
    "    - The **null hypothesis** says there is no correlation and the estimate is a result of random chance.\n",
    "    - The **alternative hypothesis** says the correlation is non-zero and significant.\n",
    "2. Assume `null == True`.\n",
    "3. Measure a property (**test statistic**) of the data that depends on the null hypothesis.\n",
    "4. Determine the distribution of values that test statistic can take given the null hypothesis.\n",
    "5. Use that distribution to determine the probability of measuring a test statistic at least as extreme as the one measured in the data. This probability is your **$p$-value**!\n",
    "6. A large $p$-value means you cannot rule out the null hypothesis and the observed correlation may still be false. A small $p$-value means that the null hypothesis is unlikely. $p$ is \"small\" when it is below some **confidence level** $\\alpha$, which is often set at $\\alpha=0.05$, or the 95% confidence. In \"code\":\n",
    "\n",
    "```\n",
    "if p < 0.05:\n",
    "    print(\"Reject the null hypothesis\")\n",
    "else:\n",
    "    print(\"Fail to reject the null hypothesis\")\n",
    "```"
   ]
  },
  {
   "cell_type": "markdown",
   "metadata": {},
   "source": [
    "> **Note: The $p$-value is an imperfect metric that is [often abused](https://www.ncbi.nlm.nih.gov/pmc/articles/PMC5738950/). See [this comment](https://media.nature.com/original/magazine-assets/d41586-019-00857-9/d41586-019-00857-9.pdf) in the journal Nature. You should also report goodness of fit parameters and other dataset characteristics.**"
   ]
  },
  {
   "cell_type": "markdown",
   "metadata": {},
   "source": [
    "## Linear Regression Case\n",
    "\n",
    "So if we think $x$ and $y$ are related,\n",
    "1. We create a null $H_0$ and alternative $H_A$ hypothesis:\n",
    "    * $H_0$: $B=0$ or $H_A$: $B\\neq0$ \n",
    "2. We assume $H_0$ they are not related (slope is 0)\n",
    "3. Measure the slope $B$ of the best fit line between $x$ and $y$\n",
    "4. Determine the probability of measuring a slope $M$ if the slope is actually zero\n",
    "5. Compute $p=Pr(M>|B|)$\n",
    "6. Reject the idea of a zero slope if $p$ is small.\n",
    "\n",
    "If the null hypothesis is rejected, this supports, but does not prove, the original hypothesis.\n",
    "\n",
    "Let's look at a quick example of this idea in practice to manually calculate a $p$-value."
   ]
  },
  {
   "cell_type": "code",
   "execution_count": null,
   "metadata": {},
   "outputs": [],
   "source": [
    "# first create some very noisy data\n",
    "np.random.seed(42)\n",
    "x = 2 * np.random.randn(100) + 0.5\n",
    "y = 4 * np.random.randn(100) + 0.5 * x\n",
    "\n",
    "# now use scipy to get the linear regression\n",
    "slope, intercept, r, _, _ = stats.linregress(x, y)\n",
    "\n",
    "# plot it\n",
    "plt.plot(x, y, 'o', label=None)\n",
    "plt.plot(x, slope * x + intercept, 'r-', lw=2, label=\"Regression\")\n",
    "plt.xlabel(\"x\")\n",
    "plt.ylabel(\"y\")\n",
    "plt.title('The original data')"
   ]
  },
  {
   "cell_type": "markdown",
   "metadata": {},
   "source": [
    "Now we can force there to be no apparent relationship in the data by shuffling the y values"
   ]
  },
  {
   "cell_type": "code",
   "execution_count": null,
   "metadata": {},
   "outputs": [],
   "source": [
    "yr = y.copy()\n",
    "\n",
    "np.random.shuffle(yr)\n",
    "\n",
    "slope_R, intercept_R, _, _, _ = stats.linregress(x, yr)\n",
    "\n",
    "plt.title(\"Randomized Y vs. X\")\n",
    "plt.plot(x, yr, 'o', label=None)\n",
    "plt.plot(x, slope_R * x + intercept_R, 'r-', lw=2, label=\"Regression\")\n",
    "plt.xlabel(\"x\")\n",
    "plt.ylabel(\"y\")"
   ]
  },
  {
   "cell_type": "markdown",
   "metadata": {},
   "source": [
    "This is somewhat similar and we might still find a correlation between the values, but what if we do this shuffling a few hundred or thousand times?"
   ]
  },
  {
   "cell_type": "code",
   "execution_count": null,
   "metadata": {},
   "outputs": [],
   "source": [
    "# randomize Y vs X many times, get slope of each:\n",
    "list_R_slopes = []\n",
    "for _ in range(1000):\n",
    "    yr = y.copy()\n",
    "    np.random.shuffle(yr)\n",
    "    slope_R = stats.linregress(x, yr)[0]\n",
    "    list_R_slopes.append(slope_R)"
   ]
  },
  {
   "cell_type": "markdown",
   "metadata": {},
   "source": [
    "We'll need to calculate the CDF or **cumulative distribution function** of the estimated slopes on the shuffled data. We'll talk more about distributions in the coming lesson."
   ]
  },
  {
   "cell_type": "code",
   "execution_count": null,
   "metadata": {},
   "outputs": [],
   "source": [
    "x_cdf = sorted(list_R_slopes)\n",
    "N = len(x_cdf)\n",
    "y_cdf = [ (N-1.0-i)/N for i in range(N) ]\n",
    "\n",
    "plt.figure(figsize=(8, 6))\n",
    "plt.title(\"Distribution of slopes if random\", fontsize=14)\n",
    "plt.plot(x_cdf, y_cdf, '.-')\n",
    "plt.plot( [slope, slope], [0,1], 'k--', label='Estimated slope on real data' )\n",
    "plt.xlabel(\"Slope\", fontsize=16)\n",
    "plt.ylabel(\"P (Shuffled slope > Slope)\", fontsize=16)\n",
    "plt.legend(fontsize=12);\n",
    "# plt.xlim(0.1, 0.3)\n",
    "# plt.ylim(0.1, 0.2)"
   ]
  },
  {
   "cell_type": "markdown",
   "metadata": {},
   "source": [
    "As we can see, our randomly shuffled data had many slope values that were estimated to be even steeper than the original data. We can use these simulations to estimate the probability that we see a slope at least as extreme (meaning as positive or negative, hence the `abs` below) as the real slope in our random data, under the null hypothesis that there is no correlation between the data."
   ]
  },
  {
   "cell_type": "code",
   "execution_count": null,
   "metadata": {},
   "outputs": [],
   "source": [
    "more_extreme_slopes = [si for si in list_R_slopes if abs(si) >= slope]\n",
    "probability_of_more_extreme = len(more_extreme_slopes) / len(list_R_slopes)\n",
    "\n",
    "print('our p-value is: {:.3f}'.format(probability_of_more_extreme))"
   ]
  },
  {
   "cell_type": "markdown",
   "metadata": {},
   "source": [
    "This value is a $p$-value, and it is well above a confidence level of say 0.05. This tells us that there may in fact be no correlation in our noisy synthetic data.\n",
    "\n",
    "What if we go back and make the relationship a bit less noisy by modifying our original y values (i.e., change the factor of 4 to 2)?\n",
    "\n",
    "This is just one simple and instructive example of hypothesis testing to obtain a $p$-value in linear regressions, and many others exist that depend on the distribution of a given test statistic."
   ]
  },
  {
   "cell_type": "markdown",
   "metadata": {},
   "source": [
    "## Standard Error\n",
    "\n",
    "Aside from hypothesis testing and $p$-values, it's also useful to get uncertainties on our parameter ($A$ and $B$) estimates.\n",
    "\n",
    "> **Note:** If there is confusion with the next two sections, it is recommended to carefully read [James Kirchner's derivation sheet](http://seismo.berkeley.edu/~kirchner/eps_120/Toolkits/Toolkit_10.pdf).\n",
    "\n",
    "In order to get uncertainty estimates on our fitted slope and intercept parameters, we can calculate the [standard error of a parameter](https://en.wikipedia.org/wiki/Standard_error) $s$, which is related to the standard deviation $\\sigma$ by: \n",
    "\n",
    "\\begin{equation}\n",
    "    \\large\n",
    "    s=\\frac{\\sigma}{\\sqrt{n}}\n",
    "\\end{equation}\n",
    "\n",
    "See [this article](https://www.ncbi.nlm.nih.gov/pmc/articles/PMC1255808/) for a good description of the difference between standard deviation and standard error... or watch this helpful [YouTube video](https://www.youtube.com/watch?v=A82brFpdr9g). \n",
    "\n",
    "In general, standard deviation indicates dispersion of the data about the mean, whereas standard error quantifies uncertainty in the estimate of the mean, which is dependent on the sample size: more samples $n$ lead to lower standard error. This standard error is subtly different than the $RMSE$, which is the standard error of the regression, as it is concerned with the uncertainty on the fitted coefficients ($A$ and $B$), rather than the spread of the residuals. On its own, the standard error does not convey much meaning, but we can use this value to construct **confidence intervals.**\n",
    "\n",
    "\n",
    "## $t$-statistic and Confidence Intervals\n",
    "\n",
    "One hypothesis testing statistic widely used in linear regression is the [$t$-statistic](https://en.wikipedia.org/wiki/T-statistic), applied in the [Student's $t$-test](https://en.wikipedia.org/wiki/Student%27s_t-test). In our minimal python example we used shuffled permutations of the data and the distribution of slopes, but in practice this would be too costly to calculate over every shuffling of y values.\n",
    "\n",
    "$t$ is defined as the ratio of the departure of the estimated value of a parameter from its hypothesized value to its standard error. This assumes that the distribution of _residuals_ is normal, which is often but not always the case. Thus for a given parameter like the estimated slope $B$, we can calculate the $t$-statistic by:\n",
    "\n",
    "\\begin{equation}\n",
    "    \\large\n",
    "    t = \\frac{B - B_0}{s_B}\n",
    "\\end{equation}\n",
    "\n",
    "where $B_0$ is some known constant, which is 0 under the null hypothesis of zero slope, and $s_B$ is the standard error of the estimated slope. This is essentially asking: _what is the number of standard errors that $B$ differs from a slope of 0?_ \n",
    "\n",
    "Using the equation of $s_B$ ([see James Kirchner's derivation sheet](http://seismo.berkeley.edu/~kirchner/eps_120/Toolkits/Toolkit_10.pdf)), this can be written as:\n",
    "\n",
    "\\begin{equation}\n",
    "    \\large\n",
    "    t = r\\frac{\\sqrt{n-2}}{\\sqrt{1 - r^2}}\n",
    "\\end{equation}\n",
    "\n",
    "One can use a [$t$-table](https://en.wikipedia.org/wiki/Student%27s_t-distribution#Table_of_selected_values) to evaluate the significance level for this value compared to $t_{\\alpha,(n-2)}$ (some critical t-value), where the subscript represents the chosen $\\alpha$ and the given degrees of freedom ($n-2$ for linear regression). From this comparison, a $p$-value can be calculated, which tells us how likely this correlation would arise by chance, or how close our t-value is to the critical t-value. For the 95% confidence level ($\\alpha=0.05$), if $p>\\alpha$ then we cannot reject the null hypothesis and the correlation may arise by chance.\n",
    "\n",
    "A **confidence interval** $CI$ lets us define the range of numbers over which we are confident the true value of our regression estimates lie. For linear regression we can write down exactly what the confidence intervals are for the slope (or intercept) estimate using:\n",
    "\n",
    "\\begin{equation}\n",
    "    \\large\n",
    "    CI = B \\pm t_{\\alpha,(n-2)} s_{B}\n",
    "\\end{equation}"
   ]
  },
  {
   "cell_type": "markdown",
   "metadata": {},
   "source": [
    "___\n",
    "# Uncertainties in Python\n",
    "\n",
    "Luckily we don't need to keep all this theory in mind as python packages make the calculations of $p$ and confidence intervals straightforward. Nevertheless, the theoretical underpinnings and equations are good to see!\n",
    "\n",
    "Let's return to our previous example using scipy and see how we can easily get a grasp of the uncertainties in our fit."
   ]
  },
  {
   "cell_type": "code",
   "execution_count": null,
   "metadata": {},
   "outputs": [],
   "source": [
    "# first create an array of x values, our independent variable\n",
    "x = np.arange(1, 11, 1)\n",
    "\n",
    "# now generate a linear regression using KNOWN constants\n",
    "A = 1\n",
    "B = -2\n",
    "y = A + B * x\n",
    "\n",
    "# let's also add some normal (Gaussian) noise \n",
    "# with mean=0 and standard deviation=1\n",
    "np.random.seed(0) # this line allows for reproducible creation of the same random numbers\n",
    "noise = np.random.normal(0, 1, size=len(y))\n",
    "y = y + noise\n",
    "\n",
    "# get the size of the data\n",
    "n = x.size\n",
    "\n",
    "fig, ax1 = plt.subplots(figsize=(6, 5))\n",
    "ax1.plot(x, y, 'bo', label='Original data', markersize=10)\n",
    "ax1.set_xlabel('x', fontsize=12)\n",
    "ax1.set_ylabel('y', fontsize=12)\n",
    "ax1.legend(fontsize=12)\n",
    "ax1.grid()"
   ]
  },
  {
   "cell_type": "code",
   "execution_count": null,
   "metadata": {},
   "outputs": [],
   "source": [
    "stats.linregress(x, y)"
   ]
  },
  {
   "cell_type": "markdown",
   "metadata": {},
   "source": [
    "We can get the $p$-value directly from the function! This function also provides us with the standard error, but we need to use a new way to return function results to have access to all this information (this was done for interoperability with older versions of scipy: https://docs.scipy.org/doc/scipy/reference/generated/scipy.stats.linregress.html)."
   ]
  },
  {
   "cell_type": "code",
   "execution_count": null,
   "metadata": {},
   "outputs": [],
   "source": [
    "# now call the function but have it output p also\n",
    "# B_est, A_est, r, p, se = stats.linregress(x, y)\n",
    "res = stats.linregress(x, y)\n",
    "res.stderr"
   ]
  },
  {
   "cell_type": "code",
   "execution_count": null,
   "metadata": {},
   "outputs": [],
   "source": [
    "# let's just separate those variables back out\n",
    "B_est, A_est, r, p, se_B, se_A = res.slope, res.intercept, res.rvalue, res.pvalue, res.stderr, res.intercept_stderr"
   ]
  },
  {
   "cell_type": "code",
   "execution_count": null,
   "metadata": {},
   "outputs": [],
   "source": [
    "# calculate the estimate and RMSE\n",
    "y_est = A_est + B_est * x\n",
    "ssr = np.sum((y - y_est) ** 2)\n",
    "rmse = np.sqrt(ssr / (n - 2))"
   ]
  },
  {
   "cell_type": "markdown",
   "metadata": {},
   "source": [
    "Let's quickly calculate our t-statistic for the slope:\n",
    "\n",
    "\\begin{equation}\n",
    "    \\large\n",
    "    t = r\\frac{\\sqrt{n-2}}{\\sqrt{1 - r^2}}\n",
    "\\end{equation}"
   ]
  },
  {
   "cell_type": "code",
   "execution_count": null,
   "metadata": {},
   "outputs": [],
   "source": [
    "# calculate t for the linear regression slope\n",
    "t_slope = r * np.sqrt(n - 2) / np.sqrt(1 - r**2)\n",
    "print('t-statistic for the slope is: {}'.format(t_slope))\n",
    "print('degrees of freedom: {}'.format(n - 2))"
   ]
  },
  {
   "cell_type": "markdown",
   "metadata": {},
   "source": [
    "And let's just check this derived equation matches the original:\n",
    "\n",
    "\\begin{equation}\n",
    "    \\large\n",
    "    t = \\frac{B - B_0}{s_B}\n",
    "\\end{equation}"
   ]
  },
  {
   "cell_type": "code",
   "execution_count": null,
   "metadata": {},
   "outputs": [],
   "source": [
    "t_slope2 = B_est / se_B\n",
    "print('t-statistic for the slope is: {}'.format(t_slope2))"
   ]
  },
  {
   "cell_type": "markdown",
   "metadata": {},
   "source": [
    "From this we can see that the estimated slope differs from a 0 slope by several tens of standard errors, thus we may expect a small probability that the correlation arises by chance. What if we wanted to say that there is a 95% probability that the regression does not arise by chance given this t-statistic and degrees of freedom. We can look this up in the [t-table by finding the critical t-value](https://en.wikipedia.org/wiki/Student%27s_t-distribution#Table_of_selected_values)... Let's look this value up, and let's also go back up and change the number of points and noise levels to see how it changes our slope t-statistic and our confidence."
   ]
  },
  {
   "cell_type": "markdown",
   "metadata": {},
   "source": [
    "Alternatively to all this hard thinking, we can just use the output from scipy to determine our exact $p$-value..."
   ]
  },
  {
   "cell_type": "code",
   "execution_count": null,
   "metadata": {},
   "outputs": [],
   "source": [
    "# print the p-value with 10 digits after the decimal\n",
    "print('p is {:.10f}'.format(p))"
   ]
  },
  {
   "cell_type": "markdown",
   "metadata": {},
   "source": [
    "Nice! The `linregress` function takes care of the hypothesis test (in this case using the [Wald test](https://en.wikipedia.org/wiki/Wald_test), which is similar to the t-test) for us and returns a $p$-value, which in this case is really small, thus we can say that the null hypothesis is rejected, as expected given the tight fit. \n",
    "\n",
    "Now we can calculate the confidence intervals on the estimate using the standard error and the $t$-value at a given confidence level.\n",
    "\n",
    "\\begin{equation}\n",
    "    \\large\n",
    "    CI = B \\pm t_{\\alpha,(n-2)} s_{B}\n",
    "\\end{equation}"
   ]
  },
  {
   "cell_type": "code",
   "execution_count": null,
   "metadata": {},
   "outputs": [],
   "source": [
    "# set the confidence level, 0.05 is 95%\n",
    "alpha = 0.05\n",
    "\n",
    "# use scipy to look up the t-value for given confidence and degrees of freedom\n",
    "t_critical = stats.t.ppf(1 - (alpha/2), n - 2)\n",
    "\n",
    "print(\"critical t-value at {:.1f}% confidence with {} degrees of freedom: {:.3f}\".format(100*(1 - alpha), n - 2, t_critical))\n",
    "print(\"slope (95%): {:.2f} +/- {:.2f}\".format(B_est, t_critical * se_B))\n",
    "print(\"intercept (95%): {:.2f} +/- {:.2f}\".format(A_est, t_critical * se_A))"
   ]
  },
  {
   "cell_type": "markdown",
   "metadata": {},
   "source": [
    "Let's plot the results with our new statistics"
   ]
  },
  {
   "cell_type": "code",
   "execution_count": null,
   "metadata": {},
   "outputs": [],
   "source": [
    "fig, ax1 = plt.subplots(figsize=(6, 5))\n",
    "ax1.plot(x, y, 'bo', label='Original data', markersize=10)\n",
    "ax1.plot(x, y_est, 'r-', \n",
    "         label='Fit: y = {:0.2f} ($\\pm${:0.2f}) + {:0.2f} ($\\pm${:0.2f}) x'\\\n",
    "         .format(A_est, t_critical * se_A, B_est, t_critical * se_B))\n",
    "\n",
    "# and let's put the fit values in the title\n",
    "ax1.set_title('r = {:0.2f}\\nR$^2$ = {:0.2f}\\nRMSE = {:0.2f}\\np-val = {:.3e}'.format(r, r**2, rmse, p))\n",
    "\n",
    "ax1.set_xlabel('x', fontsize=12)\n",
    "ax1.set_ylabel('y', fontsize=12)\n",
    "ax1.legend(fontsize=12)\n",
    "ax1.grid()"
   ]
  },
  {
   "cell_type": "markdown",
   "metadata": {},
   "source": [
    "<div class=\"alert alert-block alert-warning\">\n",
    "<b>Task 5.3</b>\n",
    "\n",
    "Run the above regression a few times changing the standard deviation of the Gaussian noise to values of 1, 10, and 100 and also increasing the sample size from 10 to 100. You can use the compact code below. What do you notice? What is the relation between the $p$-value and $R^2$?\n",
    "</div>"
   ]
  },
  {
   "cell_type": "code",
   "execution_count": null,
   "metadata": {},
   "outputs": [],
   "source": [
    "# SET THESE VARIABLES #\n",
    "sample_sz = \n",
    "gauss_std = \n",
    "#######################\n",
    "\n",
    "x = np.arange(1, sample_sz + 1, 1)\n",
    "A = 1\n",
    "B = -2\n",
    "y = A + B * x\n",
    "\n",
    "np.random.seed(0)\n",
    "noise = np.random.normal(0, gauss_std, size=len(y))\n",
    "y = y + noise\n",
    "\n",
    "n = x.size\n",
    "B_est, A_est, r, p, _ = stats.linregress(x, y)\n",
    "y_est = A_est + B_est * x\n",
    "ssr = np.sum((y - y_est) ** 2)\n",
    "rmse = np.sqrt(ssr / (n - 2))\n",
    "\n",
    "fig, ax1 = plt.subplots(figsize=(6, 5))\n",
    "ax1.plot(x, y, 'bo', label='Original data', markersize=10)\n",
    "ax1.plot(x, y_est, 'r-', \n",
    "         label='Fit (y = {:0.2f} + {:0.2f} x)'.format(A_est, B_est))\n",
    "ax1.set_title('r = {:0.2f}\\nR$^2$ = {:0.2f}\\nRMSE = {:0.2f}\\np-val = {:.2e}'.format(r, r**2, rmse, p))\n",
    "ax1.set_xlabel('x', fontsize=12)\n",
    "ax1.set_ylabel('y', fontsize=12)\n",
    "ax1.legend(fontsize=12)\n",
    "ax1.grid()"
   ]
  },
  {
   "cell_type": "markdown",
   "metadata": {},
   "source": [
    "The relation between $p$ and $R^2$ shows that even for very noisy data with low $R^2$ values, statistically significant correlations can exist."
   ]
  },
  {
   "cell_type": "markdown",
   "metadata": {},
   "source": [
    "___\n",
    "# Linear Regression on Real Data\n",
    "\n",
    "Let's get back to our climate data from Berlin. The goal here is to plot some linear regressions on the monthly temperature time series that we prepared in the last notebook."
   ]
  },
  {
   "cell_type": "markdown",
   "metadata": {},
   "source": [
    "<div class=\"alert alert-block alert-warning\">\n",
    "<b>Task 5.4</b>\n",
    "\n",
    "Load the monthly data from our climate HDF file from the `data/climate_templhof` folder. Put it in a pandas dataframe called `monthly`.\n",
    "</div>"
   ]
  },
  {
   "cell_type": "code",
   "execution_count": null,
   "metadata": {},
   "outputs": [],
   "source": [
    "print(monthly.head())"
   ]
  },
  {
   "cell_type": "markdown",
   "metadata": {},
   "source": [
    "Let's also sort the data into ascending time order. We can use the dataframe `sort_values` method and pass a list that tells it \"sort by the first value in this list THEN sort by the following value.\""
   ]
  },
  {
   "cell_type": "code",
   "execution_count": null,
   "metadata": {},
   "outputs": [],
   "source": [
    "monthly = monthly.sort_values(['year', 'month'])"
   ]
  },
  {
   "cell_type": "markdown",
   "metadata": {},
   "source": [
    "Let's also give the dataframe a date-month combined column and convert it to a datetime object, which will make for easier plotting."
   ]
  },
  {
   "cell_type": "code",
   "execution_count": null,
   "metadata": {},
   "outputs": [],
   "source": [
    "# here we use a combination of \"zip\", string formating, and list comprehension\n",
    "# to get a new column of year-month strings in the dataframe as a \"tmp\" or\n",
    "# temporary column\n",
    "monthly['tmp'] = ['{:.0f}-{:.0f}'.format(y, m) for y, m in zip(monthly.year, monthly.month)]"
   ]
  },
  {
   "cell_type": "markdown",
   "metadata": {},
   "source": [
    "The above line is a bit complex, what would that look like written out in a for loop? Let's think about it and briefly discuss."
   ]
  },
  {
   "cell_type": "code",
   "execution_count": null,
   "metadata": {},
   "outputs": [],
   "source": [
    "# now we will call \"to_datetime\" and also append this call with a \n",
    "# function called \"to_period\", which we pass \"M\" to (meaning monthly)\n",
    "monthly['datetime'] = pd.to_datetime(monthly['tmp']).dt.to_period('M')\n",
    "\n",
    "# and let's delete the temporary column \n",
    "del monthly['tmp']"
   ]
  },
  {
   "cell_type": "markdown",
   "metadata": {},
   "source": [
    "> **Note:** This is the first time we use the built in python function **`del`** or delete. You can use it to delete variables from your current python namespace or to remove items from python containers like lists, or, in this case, a pandas dataframe."
   ]
  },
  {
   "cell_type": "code",
   "execution_count": null,
   "metadata": {},
   "outputs": [],
   "source": [
    "print(monthly.head())"
   ]
  },
  {
   "cell_type": "code",
   "execution_count": null,
   "metadata": {},
   "outputs": [],
   "source": [
    "monthly.dtypes"
   ]
  },
  {
   "cell_type": "markdown",
   "metadata": {},
   "source": [
    "Now that our data is prepped, we can have a closer look and decide what we want to regress on. First let's look at all the data together:"
   ]
  },
  {
   "cell_type": "code",
   "execution_count": null,
   "metadata": {},
   "outputs": [],
   "source": [
    "fig, ax = plt.subplots(figsize=(15,6))\n",
    "monthly.plot(x='datetime', y='mean_temp_C', ax=ax, style='-')\n",
    "ax.set_ylabel('monthly mean temp (C)')\n",
    "ax.set_xlabel('time (months and years)')\n",
    "ax.grid()"
   ]
  },
  {
   "cell_type": "markdown",
   "metadata": {},
   "source": [
    "Okay, we can see in this plot the strong seasonal oscillation. That would really complicate any simple linear regression and require us to remove the seasonal signal before proceeding. However, let's not go down that road just yet! \n",
    "\n",
    "For this exercise, let's just extract the warm summer months and do some regression on them."
   ]
  },
  {
   "cell_type": "markdown",
   "metadata": {},
   "source": [
    "## Aggregate Summer Temperatures"
   ]
  },
  {
   "cell_type": "markdown",
   "metadata": {},
   "source": [
    "<div class=\"alert alert-block alert-warning\">\n",
    "<b>Task 5.5</b>\n",
    "\n",
    "Form a new dataframe called `summer`. It should only contain monthly data from June, July, and August. You should also reset the index on the new dataframe.\n",
    "</div>"
   ]
  },
  {
   "cell_type": "markdown",
   "metadata": {},
   "source": [
    "Let's have a look at our summer data alone"
   ]
  },
  {
   "cell_type": "code",
   "execution_count": null,
   "metadata": {},
   "outputs": [],
   "source": [
    "print(summer.head())"
   ]
  },
  {
   "cell_type": "code",
   "execution_count": null,
   "metadata": {},
   "outputs": [],
   "source": [
    "fig, ax = plt.subplots(figsize=(15,6))\n",
    "summer.plot(x='datetime', y='mean_temp_C', ax=ax, style='.-')\n",
    "ax.set_ylabel('summer mean temp (C)', fontsize=14)\n",
    "ax.set_xlabel('time (months and years)', fontsize=14)\n",
    "ax.grid()"
   ]
  },
  {
   "cell_type": "markdown",
   "metadata": {},
   "source": [
    "There's still a lot of oscillation here (not to mention the un-even x-axis spacing), so let's reduce each summer to a single mean temperature value use the `groupby` method."
   ]
  },
  {
   "cell_type": "code",
   "execution_count": null,
   "metadata": {},
   "outputs": [],
   "source": [
    "# group the summer dataframe by year\n",
    "grouped = summer.groupby([\"year\"])"
   ]
  },
  {
   "cell_type": "markdown",
   "metadata": {},
   "source": [
    "In the last notebook we saw how we could loop over the groupby object. We also saw how we could gain speed by calling functions directly on the groupby object (e.g., `grouped_object['column_name'].mean()`). Let's see another neat way to calculate multiple grouped statistics for one column. In this case we want to get the mean and the standard deviation of the 3 months that make up each Summer. \n",
    "\n",
    "> **Note:** We can use this standard deviation column to put some uncertainties on our measurements when we do **weighted regressions** during the semester.\n",
    "\n",
    "For this operation we'll use pandas `agg` (for aggregate) method:"
   ]
  },
  {
   "cell_type": "code",
   "execution_count": null,
   "metadata": {},
   "outputs": [],
   "source": [
    "# get an aggregated summer dataframe\n",
    "# call the \"agg\" method on the grouped object\n",
    "# here we are telling agg to calculate the mean and std\n",
    "# or standard deviation of the 'mean_temp_C' column\n",
    "summer_agg = grouped.agg({'mean_temp_C':['mean','std']})\n",
    "\n",
    "print(summer_agg.head())"
   ]
  },
  {
   "cell_type": "markdown",
   "metadata": {},
   "source": [
    "## Regression: 1948-2019\n",
    "\n",
    "To make our life easier, let's also just go ahead and extract our relevant data as variables now. That way we won't need to keep calling the dataframe and can have some succinct (and thus readable) variable names for further analysis."
   ]
  },
  {
   "cell_type": "code",
   "execution_count": null,
   "metadata": {},
   "outputs": [],
   "source": [
    "# extract our data of interest to make plotting easier\n",
    "# NOTE - we use the \"values\" call on the end to make sure\n",
    "# we end up with a numpy array and not another Series object\n",
    "x = summer_agg.index.to_numpy(copy=True)\n",
    "y = summer_agg[('mean_temp_C', 'mean')].to_numpy(copy=True)\n",
    "print(x[0:5])\n",
    "print(y[0:5])\n",
    "\n",
    "# size of data\n",
    "n = x.size"
   ]
  },
  {
   "cell_type": "code",
   "execution_count": null,
   "metadata": {},
   "outputs": [],
   "source": [
    "fig, ax = plt.subplots(figsize=(12,6))\n",
    "ax.plot(x, y, '-')\n",
    "ax.set_ylabel('summer mean temp (C)', fontsize=14)\n",
    "ax.set_xlabel('time (years)', fontsize=14)\n",
    "ax.grid()"
   ]
  },
  {
   "cell_type": "markdown",
   "metadata": {},
   "source": [
    "Now that we have reduced the seasonal signal we can see a trend of increasing summer temperatures in the last ~30 years of data. Let's remove the connecting lines so we just see the raw data points"
   ]
  },
  {
   "cell_type": "code",
   "execution_count": null,
   "metadata": {},
   "outputs": [],
   "source": [
    "fig, ax = plt.subplots(figsize=(12,6))\n",
    "ax.plot(x, y, 'o')\n",
    "ax.set_ylabel('summer mean temp (C)', fontsize=14)\n",
    "ax.set_xlabel('time (years)', fontsize=14)\n",
    "ax.grid()"
   ]
  },
  {
   "cell_type": "markdown",
   "metadata": {},
   "source": [
    "First, let's do a linear regression on the entire aggregated time series."
   ]
  },
  {
   "cell_type": "markdown",
   "metadata": {},
   "source": [
    "<div class=\"alert alert-block alert-warning\">\n",
    "<b>Task 5.6</b>\n",
    "\n",
    "Use the scipy function `stats.linregress` to calculate the slope, intercept, $r$-value, $p$-value, and standard error between our x (year) and y (temp) variables. Calculate the line estimate, $R^2$, $SSR$, and $RMSE$ from this output.\n",
    "</div>"
   ]
  },
  {
   "cell_type": "markdown",
   "metadata": {},
   "source": [
    "And let's not forget our fancy new uncertainty estimates!"
   ]
  },
  {
   "cell_type": "code",
   "execution_count": null,
   "metadata": {},
   "outputs": [],
   "source": [
    "# set the confidence level, 0.05 is 95%\n",
    "alpha = 0.05\n",
    "\n",
    "# use scipy to look up the t-value for given parameters\n",
    "t = stats.t.ppf(1 - (alpha/2), n - 2)\n",
    "\n",
    "print(\"critical t-value at {:.1f}% confidence with {} degrees of freedom: {:.3f}\"\\\n",
    "      .format(100*(1 - alpha), n - 2, t))\n",
    "print(\"t-statistic for slope (number of standard errors that the slope differs from 0 slope): {:.3f}\"\\\n",
    "      .format(r * np.sqrt(n - 2) / np.sqrt(1 - r**2)))"
   ]
  },
  {
   "cell_type": "code",
   "execution_count": null,
   "metadata": {
    "code_folding": []
   },
   "outputs": [],
   "source": [
    "# now have a look at the results\n",
    "\n",
    "fig, ax1 = plt.subplots(figsize=(12, 6))\n",
    "ax1.plot(x, y, 'bo', label='Original data', markersize=10)\n",
    "ax1.plot(x, y_est, 'r-', \n",
    "         label='Fit: y = {:0.2f} ($\\pm${:0.2f}) + {:0.2f} ($\\pm${:0.2f}) x'.format(A_est, t * se_A, B_est, t * se_B))\n",
    "\n",
    "# and let's put the fit values in the title\n",
    "ax1.set_title('r = {:0.2f}, R$^2$ = {:0.2f}, RMSE = {:0.2f}, p-val = {:.2e}'.format(r, r**2, rmse, p))\n",
    "\n",
    "ax1.set_xlabel('year', fontsize=12)\n",
    "ax1.set_ylabel('mean summer temp (C)', fontsize=12)\n",
    "ax1.legend(fontsize=12)\n",
    "ax1.grid(lw=0.4)\n",
    "\n",
    "# and save it out\n",
    "# plt.savefig('figures/NB05_fig02_berlin_summer_temp_linreg_1948to2019.png', dpi=200)"
   ]
  },
  {
   "cell_type": "markdown",
   "metadata": {},
   "source": [
    "What is the rate of temperature increase shown by this line (in units of $^\\circ$C/yr)? And what is potential upper and lower rate?\n",
    "\n",
    "Of course, the $R^2$ value shows a rather poor overall fit with a value of only 0.19, BUT, look at our $p$-value! In addition to this small $p$-value we can see that the $RMSE$ is telling us that the model is typically within approximately 1 degree of the true value for much of estimates, which is another good sign."
   ]
  },
  {
   "cell_type": "markdown",
   "metadata": {},
   "source": [
    "# Weighted Least Squares (WLS) Regression\n",
    "\n",
    "As opposed to **ordinary least squares (OLS)**, which we covered extensively above, **weighted least squares (WLS)** takes into account uncertainties in our measured variables.\n",
    "\n",
    "Up until now, we haven't considered any uncertainty in our variable measurement. Of course, the time (year) is pretty exact on the x-axis and we can disregard measurement error, but what if our temperature measurements were off? Or, in the case above, what if we wanted to include the June-July-August standard deviation in our plots and regression?\n",
    "\n",
    "Let's have a look at those error bars now using a new matplotlib plotting method (you can see more examples of the `plt.errorbar()` function [here](https://matplotlib.org/1.2.1/examples/pylab_examples/errorbar_demo.html)):"
   ]
  },
  {
   "cell_type": "code",
   "execution_count": null,
   "metadata": {},
   "outputs": [],
   "source": [
    "# get the standard deviation as y-error\n",
    "y_err = summer_agg[('mean_temp_C', 'std')].to_numpy(copy=True)"
   ]
  },
  {
   "cell_type": "code",
   "execution_count": null,
   "metadata": {},
   "outputs": [],
   "source": [
    "# re-plot our temperature time series with errorbars\n",
    "fig, ax = plt.subplots(figsize=(12,6))\n",
    "\n",
    "# new plot function alert!\n",
    "ax.errorbar(x, y, yerr=y_err, fmt='bo', label='mean $\\pm$ std')\n",
    "\n",
    "ax.set_ylabel('summer mean temp (C)', fontsize=14)\n",
    "ax.set_xlabel('time (years)', fontsize=14)\n",
    "ax.grid()\n",
    "ax.legend(fontsize=12)"
   ]
  },
  {
   "cell_type": "markdown",
   "metadata": {},
   "source": [
    "Well this looks different. It's clear that in some years there were significant temperature swings between the Summer months. To take these **errors**, or **uncertainties**, into account we'll need to turn to **weighted regression** (which still relies on the least squares approach)."
   ]
  },
  {
   "cell_type": "markdown",
   "metadata": {},
   "source": [
    "## Goodness-of-Fit With Uncertainties\n",
    "\n",
    "Keeping in mind the idea that predictions should be within data uncertainties we can consider other basic goodness-of-fit calculations when we have uncertainties. The first example is the **weighted sum of the squared errors**, also often referred to simply as [**chi squared**](http://en.wikipedia.org/wiki/Chi-squared_distribution):\n",
    "\n",
    "\\begin{equation}\n",
    "  \\large\n",
    "  \\chi^{2} = \\frac{1}{n} \\sum_{i=1}^{n} \\frac{(y_{i} - f(x_{i}))^{2}}{\\sigma_{i}^{2}}\n",
    "\\end{equation}\n",
    "\n",
    "where $n$ is the number of $x$-$y$ pairs, $y_i$ is the $i$-th observed $y$ value, $f(x_i)$ is the $i$-th estimated $y$ value, and $\\sigma_{i}$ is the $i$-th standard deviation of $y$. If we include the degrees of freedom in the denominator ($n-2$ for linear regression): \n",
    "\n",
    "\\begin{equation}\n",
    "  \\large\n",
    "  \\chi^{2} = \\frac{1}{n - 2} \\sum_{i=1}^{n} \\frac{(y_{i} - f(x_{i}))^{2}}{\\sigma_{i}^{2}}\n",
    "\\end{equation}\n",
    "\n",
    "In WLS, this replaces the $SSR$ cost-function that we attempted to minimize in our OLS case, without uncertainties on the y-values.\n",
    "\n",
    "This equation is similar to our sum of squared residuals $SSR$ equation. Conceptually this equation checks the residual between a measurement and divides it by the sample standard deviation. If the standard deviation is simply how much a value differs from the mean on average, then dividing by the standard deviation should allow us to see whether or not a prediction is within the uncertainty. Consider some examples with only one sample (so $n=1$):\n",
    "\n",
    "1. If we assume that $y_i$ and $f(x_i)$ are identical, then their difference is zero, and the value of the chi-squared equation for that data point would also be zero.\n",
    "2. If $f(x_i)$ is exactly 1 standard deviation larger or smaller than $y_i$, then the difference would be exactly the standard deviation $\\sigma_i$, in which case the chi-squared value for that data point would be $\\sigma^{2} / \\sigma^{2}$, which equals 1.\n",
    "\n",
    "A chi-squared value of 1 or less tells us that on average the predictions are within the uncertainties in the data, and a value of greater than 1 says that on average the predictions are not within the uncertainties of the data."
   ]
  },
  {
   "cell_type": "markdown",
   "metadata": {},
   "source": [
    "## Back to the Data\n",
    "\n",
    "There are many ways to calculate weighted regressions (e.g., with fancy libraries like [statsmodels](https://www.statsmodels.org/stable/generated/statsmodels.regression.linear_model.WLS.html)), but we're going to use the `curve_fit` function contained in scipy's `optimize` module. This function is highly flexible and allows you to fit any user-defined function to pairs of data with uncertainty on the dependent variable. It estimates the regression coefficients using a non-linear least squares method and returns the optimal parameters and the covariance matrix, from which you can calculate uncertainties and goodness-of-fit metrics."
   ]
  },
  {
   "cell_type": "code",
   "execution_count": null,
   "metadata": {},
   "outputs": [],
   "source": [
    "# we first need to define a function that we pass to \n",
    "# curve_fit, this is our equation of a line in python form\n",
    "def line_func(x, A, B):\n",
    "    \"\"\"\n",
    "    take x values and return y values based on the\n",
    "    intercept (A) and slope (B) parameters\n",
    "    \"\"\"\n",
    "    return A + B * x"
   ]
  },
  {
   "cell_type": "code",
   "execution_count": null,
   "metadata": {},
   "outputs": [],
   "source": [
    "# with our equation of a line defined we pass it, the x-y data,\n",
    "# and the y uncertainties (as \"sigma\") to curve_fit\n",
    "coeffs, cov = optimize.curve_fit(line_func, x, y, sigma=y_err)\n",
    "\n",
    "# let's also unpack our coefficients tuple\n",
    "# the order of them is as they were defined in the function definition\n",
    "intercept_wls, slope_wls = coeffs"
   ]
  },
  {
   "cell_type": "code",
   "execution_count": null,
   "metadata": {},
   "outputs": [],
   "source": [
    "# calculate the estimate\n",
    "y_est_wls = line_func(x, intercept_wls, slope_wls)\n",
    "\n",
    "# residual\n",
    "residuals = y - y_est_wls\n",
    "\n",
    "# get rmse\n",
    "ssr = np.sum((residuals) ** 2)\n",
    "n = x.size\n",
    "rmse_wls = np.sqrt(ssr / (n - 2))"
   ]
  },
  {
   "cell_type": "markdown",
   "metadata": {},
   "source": [
    "`curve_fit` doesn't give us a correlation coefficient value, but recalling our equations from ordinary least squares we can easily back calculate this (and an $R^2$ value along the way)."
   ]
  },
  {
   "cell_type": "code",
   "execution_count": null,
   "metadata": {},
   "outputs": [],
   "source": [
    "# get total sum of squares\n",
    "sst = np.sum((y - y.mean())**2)\n",
    "\n",
    "# get r2\n",
    "r2_wls = 1 - (ssr/sst)\n",
    "\n",
    "# get r\n",
    "r_wls = np.sqrt(r2_wls)"
   ]
  },
  {
   "cell_type": "markdown",
   "metadata": {},
   "source": [
    "We can now use the above equation to calculate the chi-squared value\n",
    "\n",
    "\\begin{equation}\n",
    "  \\large\n",
    "  \\chi^{2} = \\frac{1}{n - 2} \\sum_{i=1}^{n} \\frac{(y_{i} - f(x_{i}))^{2}}{\\sigma_{i}^{2}}\n",
    "\\end{equation}"
   ]
  },
  {
   "cell_type": "code",
   "execution_count": null,
   "metadata": {},
   "outputs": [],
   "source": [
    "# calculate chi-squared goodness-of-fit parameter\n",
    "chisq = (1 / (n - 2)) * np.sum(residuals ** 2 / y_err ** 2)\n",
    "\n",
    "# print the results\n",
    "print(\"chisq: {:0.2f}\".format(chisq))"
   ]
  },
  {
   "cell_type": "markdown",
   "metadata": {},
   "source": [
    "And let's just do a quick check to see if our $t$-statistic for the new slope value is statistically significant at some confidence level..."
   ]
  },
  {
   "cell_type": "code",
   "execution_count": null,
   "metadata": {},
   "outputs": [],
   "source": [
    "# set the confidence level, 0.05 is 95%\n",
    "alpha = 0.05\n",
    "\n",
    "# use scipy to look up the t-value for given parameters\n",
    "t = stats.t.ppf(1 - (alpha/2), n - 2)\n",
    "\n",
    "print(\"critical t-value at {:.1f}% confidence with {} degrees of freedom: {:.3f}\"\\\n",
    "      .format(100*(1 - alpha), n - 2, t))\n",
    "print(\"t-statistic for slope (number of standard errors that the slope differs from 0 slope): {:.3f}\"\\\n",
    "      .format(r_wls * np.sqrt(n - 2) / np.sqrt(1 - r2_wls)))"
   ]
  },
  {
   "cell_type": "markdown",
   "metadata": {},
   "source": [
    "Again, the t-statistic is well above the critical value, thus indicating that the slope is unlikely to have arisen by statistical chance"
   ]
  },
  {
   "cell_type": "markdown",
   "metadata": {},
   "source": [
    "The covariance matrix output by `curve_fit` also allows us to place standard deviation errors on the coefficient estimates (slope and intercept) - see [here](https://stackoverflow.com/questions/25234996/getting-standard-error-associated-with-parameter-estimates-from-scipy-optimize-c/25235710#25235710). The diagonal values of the covariance matrix are the variance $\\sigma^2$ of each variable. "
   ]
  },
  {
   "cell_type": "code",
   "execution_count": null,
   "metadata": {},
   "outputs": [],
   "source": [
    "# get the \"sigma\" for each variable\n",
    "# \"diag\" extracts the diagonal elements\n",
    "intercept_wls_sig, slope_wls_sig  = np.sqrt(np.diag(cov))\n",
    "\n",
    "print(\"intercept +/- sigma : {:.02f} +/- {:.04f}\".format(intercept_wls, intercept_wls_sig))\n",
    "print(\"slope +/- sigma : {:.02f} +/- {:.04f}\".format(slope_wls, slope_wls_sig))"
   ]
  },
  {
   "cell_type": "markdown",
   "metadata": {},
   "source": [
    "We should note that the 95% confidence interval we calculated previously using our t-value and standard errors from `stats.linregress` should be close to twice the standard deviation, assuming our residuals are approximately normally distributed. Hence, we multiply them below."
   ]
  },
  {
   "cell_type": "code",
   "execution_count": null,
   "metadata": {},
   "outputs": [],
   "source": [
    "fig, (ax1, ax2) = plt.subplots(2, 1, figsize=(12, 12))\n",
    "\n",
    "ax1.plot(x, y, 'bo', label='Original data', markersize=10)\n",
    "ax1.plot(x, y_est, 'r-', \n",
    "         label='Fit: y = {:0.2f} ($\\pm${:0.2f}) + {:0.3f} ($\\pm${:0.3f}) x'.format(A_est, t * se_A, B_est, t * se_B))\n",
    "\n",
    "# and let's put the fit values in the title\n",
    "ax1.set_title('r = {:0.2f}, R$^2$ = {:0.2f}, RMSE = {:0.2f}, p-val = {:.2e}'.format(r, r**2, rmse, p))\n",
    "\n",
    "ax1.set_xlabel('year', fontsize=12)\n",
    "ax1.set_ylabel('mean summer temp (C)', fontsize=12)\n",
    "ax1.legend(fontsize=12)\n",
    "ax1.grid(lw=0.4)\n",
    "\n",
    "ax2.errorbar(x, y, yerr=y_err, fmt='bo', label='Original data (mean $\\pm$ std)')\n",
    "ax2.plot(x, y_est_wls, 'r-', \n",
    "         label='Fit: y = {:0.2f} ($\\pm${:0.2f}) + {:0.3f} ($\\pm${:0.3f}) x'\\\n",
    "         .format(intercept_wls, intercept_wls_sig * 2, slope_wls, slope_wls_sig * 2))\n",
    "\n",
    "# and let's put the fit values in the title\n",
    "ax2.set_title('WLS: r = {:0.2f}, R$^2$ = {:0.2f}, RMSE = {:0.2f}, chi-sqr = {:0.2f}'\\\n",
    "              .format(r_wls, r2_wls, rmse_wls, chisq))\n",
    "\n",
    "ax2.set_xlabel('year', fontsize=12)\n",
    "ax2.set_ylabel('mean summer temp (C)', fontsize=12)\n",
    "ax2.legend(fontsize=12)\n",
    "ax2.grid(lw=0.4)"
   ]
  },
  {
   "cell_type": "markdown",
   "metadata": {},
   "source": [
    "It looks like there is still a correlation and temperature is increasing, but we see now that our $\\chi^2$ value above 1 indicates that on average the fit is not within the uncertainty bounds of the data points. The correlation $r$ and $R^2$ are also reduced when including uncertainties, and the $RMSE$ is higher. This second view of the data shows us that we should be a bit cautious in our conclusions from linear regression. Certainly the rate of change of temperature is slightly different in each plot.\n",
    "\n",
    "**The Moral Is:** Uncertainties are important and should be considered when fitting any kind of model. They can change your data interpretation significantly."
   ]
  }
 ],
 "metadata": {
  "kernelspec": {
   "display_name": "Python 3 (ipykernel)",
   "language": "python",
   "name": "python3"
  },
  "language_info": {
   "codemirror_mode": {
    "name": "ipython",
    "version": 3
   },
   "file_extension": ".py",
   "mimetype": "text/x-python",
   "name": "python",
   "nbconvert_exporter": "python",
   "pygments_lexer": "ipython3",
   "version": "3.12.10"
  },
  "toc": {
   "base_numbering": 1,
   "nav_menu": {},
   "number_sections": false,
   "sideBar": true,
   "skip_h1_title": false,
   "title_cell": "Table of Contents",
   "title_sidebar": "Contents",
   "toc_cell": false,
   "toc_position": {
    "height": "calc(100% - 180px)",
    "left": "10px",
    "top": "150px",
    "width": "239px"
   },
   "toc_section_display": true,
   "toc_window_display": true
  }
 },
 "nbformat": 4,
 "nbformat_minor": 4
}
